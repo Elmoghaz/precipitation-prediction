{
 "cells": [
  {
   "cell_type": "code",
   "execution_count": 1,
   "id": "40f633e3",
   "metadata": {},
   "outputs": [],
   "source": [
    "import numpy as np\n",
    "import pandas as pd\n",
    "import matplotlib.pyplot as plt\n",
    "import seaborn as sns\n",
    "\n",
    "import warnings\n",
    "warnings.filterwarnings('ignore')"
   ]
  },
  {
   "cell_type": "code",
   "execution_count": 2,
   "id": "82d526da",
   "metadata": {},
   "outputs": [
    {
     "data": {
      "text/html": [
       "<div>\n",
       "<style scoped>\n",
       "    .dataframe tbody tr th:only-of-type {\n",
       "        vertical-align: middle;\n",
       "    }\n",
       "\n",
       "    .dataframe tbody tr th {\n",
       "        vertical-align: top;\n",
       "    }\n",
       "\n",
       "    .dataframe thead th {\n",
       "        text-align: right;\n",
       "    }\n",
       "</style>\n",
       "<table border=\"1\" class=\"dataframe\">\n",
       "  <thead>\n",
       "    <tr style=\"text-align: right;\">\n",
       "      <th></th>\n",
       "      <th>laptop_ID</th>\n",
       "      <th>Company</th>\n",
       "      <th>Product</th>\n",
       "      <th>TypeName</th>\n",
       "      <th>Inches</th>\n",
       "      <th>ScreenResolution</th>\n",
       "      <th>Cpu</th>\n",
       "      <th>Ram</th>\n",
       "      <th>Memory</th>\n",
       "      <th>Gpu</th>\n",
       "      <th>OpSys</th>\n",
       "      <th>Weight</th>\n",
       "      <th>Price_euros</th>\n",
       "    </tr>\n",
       "  </thead>\n",
       "  <tbody>\n",
       "    <tr>\n",
       "      <th>0</th>\n",
       "      <td>1</td>\n",
       "      <td>Apple</td>\n",
       "      <td>MacBook Pro</td>\n",
       "      <td>Ultrabook</td>\n",
       "      <td>13.3</td>\n",
       "      <td>IPS Panel Retina Display 2560x1600</td>\n",
       "      <td>Intel Core i5 2.3GHz</td>\n",
       "      <td>8GB</td>\n",
       "      <td>128GB SSD</td>\n",
       "      <td>Intel Iris Plus Graphics 640</td>\n",
       "      <td>macOS</td>\n",
       "      <td>1.37kg</td>\n",
       "      <td>1339.69</td>\n",
       "    </tr>\n",
       "    <tr>\n",
       "      <th>1</th>\n",
       "      <td>2</td>\n",
       "      <td>Apple</td>\n",
       "      <td>Macbook Air</td>\n",
       "      <td>Ultrabook</td>\n",
       "      <td>13.3</td>\n",
       "      <td>1440x900</td>\n",
       "      <td>Intel Core i5 1.8GHz</td>\n",
       "      <td>8GB</td>\n",
       "      <td>128GB Flash Storage</td>\n",
       "      <td>Intel HD Graphics 6000</td>\n",
       "      <td>macOS</td>\n",
       "      <td>1.34kg</td>\n",
       "      <td>898.94</td>\n",
       "    </tr>\n",
       "    <tr>\n",
       "      <th>2</th>\n",
       "      <td>3</td>\n",
       "      <td>HP</td>\n",
       "      <td>250 G6</td>\n",
       "      <td>Notebook</td>\n",
       "      <td>15.6</td>\n",
       "      <td>Full HD 1920x1080</td>\n",
       "      <td>Intel Core i5 7200U 2.5GHz</td>\n",
       "      <td>8GB</td>\n",
       "      <td>256GB SSD</td>\n",
       "      <td>Intel HD Graphics 620</td>\n",
       "      <td>No OS</td>\n",
       "      <td>1.86kg</td>\n",
       "      <td>575.00</td>\n",
       "    </tr>\n",
       "    <tr>\n",
       "      <th>3</th>\n",
       "      <td>4</td>\n",
       "      <td>Apple</td>\n",
       "      <td>MacBook Pro</td>\n",
       "      <td>Ultrabook</td>\n",
       "      <td>15.4</td>\n",
       "      <td>IPS Panel Retina Display 2880x1800</td>\n",
       "      <td>Intel Core i7 2.7GHz</td>\n",
       "      <td>16GB</td>\n",
       "      <td>512GB SSD</td>\n",
       "      <td>AMD Radeon Pro 455</td>\n",
       "      <td>macOS</td>\n",
       "      <td>1.83kg</td>\n",
       "      <td>2537.45</td>\n",
       "    </tr>\n",
       "    <tr>\n",
       "      <th>4</th>\n",
       "      <td>5</td>\n",
       "      <td>Apple</td>\n",
       "      <td>MacBook Pro</td>\n",
       "      <td>Ultrabook</td>\n",
       "      <td>13.3</td>\n",
       "      <td>IPS Panel Retina Display 2560x1600</td>\n",
       "      <td>Intel Core i5 3.1GHz</td>\n",
       "      <td>8GB</td>\n",
       "      <td>256GB SSD</td>\n",
       "      <td>Intel Iris Plus Graphics 650</td>\n",
       "      <td>macOS</td>\n",
       "      <td>1.37kg</td>\n",
       "      <td>1803.60</td>\n",
       "    </tr>\n",
       "  </tbody>\n",
       "</table>\n",
       "</div>"
      ],
      "text/plain": [
       "   laptop_ID Company      Product   TypeName  Inches  \\\n",
       "0          1   Apple  MacBook Pro  Ultrabook    13.3   \n",
       "1          2   Apple  Macbook Air  Ultrabook    13.3   \n",
       "2          3      HP       250 G6   Notebook    15.6   \n",
       "3          4   Apple  MacBook Pro  Ultrabook    15.4   \n",
       "4          5   Apple  MacBook Pro  Ultrabook    13.3   \n",
       "\n",
       "                     ScreenResolution                         Cpu   Ram  \\\n",
       "0  IPS Panel Retina Display 2560x1600        Intel Core i5 2.3GHz   8GB   \n",
       "1                            1440x900        Intel Core i5 1.8GHz   8GB   \n",
       "2                   Full HD 1920x1080  Intel Core i5 7200U 2.5GHz   8GB   \n",
       "3  IPS Panel Retina Display 2880x1800        Intel Core i7 2.7GHz  16GB   \n",
       "4  IPS Panel Retina Display 2560x1600        Intel Core i5 3.1GHz   8GB   \n",
       "\n",
       "                Memory                           Gpu  OpSys  Weight  \\\n",
       "0            128GB SSD  Intel Iris Plus Graphics 640  macOS  1.37kg   \n",
       "1  128GB Flash Storage        Intel HD Graphics 6000  macOS  1.34kg   \n",
       "2            256GB SSD         Intel HD Graphics 620  No OS  1.86kg   \n",
       "3            512GB SSD            AMD Radeon Pro 455  macOS  1.83kg   \n",
       "4            256GB SSD  Intel Iris Plus Graphics 650  macOS  1.37kg   \n",
       "\n",
       "   Price_euros  \n",
       "0      1339.69  \n",
       "1       898.94  \n",
       "2       575.00  \n",
       "3      2537.45  \n",
       "4      1803.60  "
      ]
     },
     "execution_count": 2,
     "metadata": {},
     "output_type": "execute_result"
    }
   ],
   "source": [
    "data = pd.read_csv('laptop_price.csv', encoding='ISO-8859-1')\n",
    "data.head()"
   ]
  },
  {
   "cell_type": "code",
   "execution_count": 3,
   "id": "44a8c46e",
   "metadata": {},
   "outputs": [
    {
     "name": "stdout",
     "output_type": "stream",
     "text": [
      "<class 'pandas.core.frame.DataFrame'>\n",
      "RangeIndex: 1303 entries, 0 to 1302\n",
      "Data columns (total 13 columns):\n",
      " #   Column            Non-Null Count  Dtype  \n",
      "---  ------            --------------  -----  \n",
      " 0   laptop_ID         1303 non-null   int64  \n",
      " 1   Company           1303 non-null   object \n",
      " 2   Product           1303 non-null   object \n",
      " 3   TypeName          1303 non-null   object \n",
      " 4   Inches            1303 non-null   float64\n",
      " 5   ScreenResolution  1303 non-null   object \n",
      " 6   Cpu               1303 non-null   object \n",
      " 7   Ram               1303 non-null   object \n",
      " 8   Memory            1303 non-null   object \n",
      " 9   Gpu               1303 non-null   object \n",
      " 10  OpSys             1303 non-null   object \n",
      " 11  Weight            1303 non-null   object \n",
      " 12  Price_euros       1303 non-null   float64\n",
      "dtypes: float64(2), int64(1), object(10)\n",
      "memory usage: 132.5+ KB\n"
     ]
    }
   ],
   "source": [
    "data.info()"
   ]
  },
  {
   "cell_type": "code",
   "execution_count": 4,
   "id": "92ad991b",
   "metadata": {},
   "outputs": [
    {
     "data": {
      "text/plain": [
       "laptop_ID           1303\n",
       "Company               19\n",
       "Product              618\n",
       "TypeName               6\n",
       "Inches                18\n",
       "ScreenResolution      40\n",
       "Cpu                  118\n",
       "Ram                    9\n",
       "Memory                39\n",
       "Gpu                  110\n",
       "OpSys                  9\n",
       "Weight               179\n",
       "Price_euros          791\n",
       "dtype: int64"
      ]
     },
     "execution_count": 4,
     "metadata": {},
     "output_type": "execute_result"
    }
   ],
   "source": [
    "data.nunique()"
   ]
  },
  {
   "cell_type": "code",
   "execution_count": 5,
   "id": "3129c2f8",
   "metadata": {},
   "outputs": [
    {
     "data": {
      "text/plain": [
       "0"
      ]
     },
     "execution_count": 5,
     "metadata": {},
     "output_type": "execute_result"
    }
   ],
   "source": [
    "data.duplicated().sum()"
   ]
  },
  {
   "cell_type": "code",
   "execution_count": 6,
   "id": "f04cac01",
   "metadata": {},
   "outputs": [
    {
     "data": {
      "text/plain": [
       "laptop_ID           0\n",
       "Company             0\n",
       "Product             0\n",
       "TypeName            0\n",
       "Inches              0\n",
       "ScreenResolution    0\n",
       "Cpu                 0\n",
       "Ram                 0\n",
       "Memory              0\n",
       "Gpu                 0\n",
       "OpSys               0\n",
       "Weight              0\n",
       "Price_euros         0\n",
       "dtype: int64"
      ]
     },
     "execution_count": 6,
     "metadata": {},
     "output_type": "execute_result"
    }
   ],
   "source": [
    "data.isna().sum()"
   ]
  },
  {
   "cell_type": "code",
   "execution_count": 7,
   "id": "f6cb9b20",
   "metadata": {},
   "outputs": [
    {
     "data": {
      "text/plain": [
       "Dell         297\n",
       "Lenovo       297\n",
       "HP           274\n",
       "Asus         158\n",
       "Acer         103\n",
       "MSI           54\n",
       "Toshiba       48\n",
       "Apple         21\n",
       "Samsung        9\n",
       "Razer          7\n",
       "Mediacom       7\n",
       "Microsoft      6\n",
       "Xiaomi         4\n",
       "Vero           4\n",
       "Chuwi          3\n",
       "Google         3\n",
       "Fujitsu        3\n",
       "LG             3\n",
       "Huawei         2\n",
       "Name: Company, dtype: int64"
      ]
     },
     "execution_count": 7,
     "metadata": {},
     "output_type": "execute_result"
    }
   ],
   "source": [
    "data['Company'].value_counts()"
   ]
  },
  {
   "cell_type": "code",
   "execution_count": 8,
   "id": "623a964c",
   "metadata": {},
   "outputs": [
    {
     "data": {
      "image/png": "[encoded data removed]",
      "text/plain": [
       "<Figure size 1500x500 with 1 Axes>"
      ]
     },
     "metadata": {
      "needs_background": "light"
     },
     "output_type": "display_data"
    }
   ],
   "source": [
    "plt.figure(figsize=(15,5),dpi=100)\n",
    "sns.countplot(data=data,x='Company');"
   ]
  },
  {
   "cell_type": "code",
   "execution_count": 9,
   "id": "a41411c3",
   "metadata": {},
   "outputs": [
    {
     "data": {
      "image/png": "[encoded data removed]",
      "text/plain": [
       "<Figure size 1500x500 with 1 Axes>"
      ]
     },
     "metadata": {
      "needs_background": "light"
     },
     "output_type": "display_data"
    }
   ],
   "source": [
    "plt.figure(figsize=(15,5),dpi=100)\n",
    "sns.barplot(data=data,x='Company',y='Price_euros');"
   ]
  },
  {
   "cell_type": "code",
   "execution_count": 10,
   "id": "cb77d766",
   "metadata": {},
   "outputs": [
    {
     "name": "stdout",
     "output_type": "stream",
     "text": [
      "<class 'pandas.core.frame.DataFrame'>\n",
      "RangeIndex: 1303 entries, 0 to 1302\n",
      "Data columns (total 13 columns):\n",
      " #   Column            Non-Null Count  Dtype  \n",
      "---  ------            --------------  -----  \n",
      " 0   laptop_ID         1303 non-null   int64  \n",
      " 1   Company           1303 non-null   object \n",
      " 2   Product           1303 non-null   object \n",
      " 3   TypeName          1303 non-null   object \n",
      " 4   Inches            1303 non-null   float64\n",
      " 5   ScreenResolution  1303 non-null   object \n",
      " 6   Cpu               1303 non-null   object \n",
      " 7   Ram               1303 non-null   object \n",
      " 8   Memory            1303 non-null   object \n",
      " 9   Gpu               1303 non-null   object \n",
      " 10  OpSys             1303 non-null   object \n",
      " 11  Weight            1303 non-null   object \n",
      " 12  Price_euros       1303 non-null   float64\n",
      "dtypes: float64(2), int64(1), object(10)\n",
      "memory usage: 132.5+ KB\n"
     ]
    }
   ],
   "source": [
    "data.info()"
   ]
  },
  {
   "cell_type": "code",
   "execution_count": 11,
   "id": "ffdadc57",
   "metadata": {},
   "outputs": [
    {
     "data": {
      "text/plain": [
       "array(['MacBook Pro', 'Macbook Air', '250 G6', 'Aspire 3',\n",
       "       'ZenBook UX430UN', 'Swift 3', 'Inspiron 3567', 'MacBook 12\"',\n",
       "       'IdeaPad 320-15IKB', 'XPS 13', 'Vivobook E200HA',\n",
       "       'Legion Y520-15IKBN', '255 G6', 'Inspiron 5379',\n",
       "       '15-BS101nv (i7-8550U/8GB/256GB/FHD/W10)', 'MacBook Air',\n",
       "       'Inspiron 5570', 'Latitude 5590', 'ProBook 470', 'LapBook 15.6\"',\n",
       "       'E402WA-GA010T (E2-6110/2GB/32GB/W10)',\n",
       "       '17-ak001nv (A6-9220/4GB/500GB/Radeon', 'IdeaPad 120S-14IAP',\n",
       "       'Inspiron 5770', 'ProBook 450',\n",
       "       'X540UA-DM186 (i3-6006U/4GB/1TB/FHD/Linux)', 'Inspiron 7577',\n",
       "       'X542UQ-GO005 (i5-7200U/8GB/1TB/GeForce', 'Aspire A515-51G',\n",
       "       'Inspiron 7773', 'IdeaPad 320-15ISK', 'Rog Strix',\n",
       "       'X751NV-TY001T (N4200/4GB/1TB/GeForce', 'Yoga Book', 'ProBook 430',\n",
       "       'Inspiron 3576', '15-bs002nv (i3-6006U/4GB/128GB/FHD/W10)',\n",
       "       'VivoBook Max', 'GS73VR 7RG',\n",
       "       'X541UA-DM1897 (i3-6006U/4GB/256GB/FHD/Linux)', 'Vostro 5471',\n",
       "       'IdeaPad 520S-14IKB',\n",
       "       'UX410UA-GV350T (i5-8250U/8GB/256GB/FHD/W10)', 'ZenBook Pro',\n",
       "       'Stream 14-AX040wm', 'V310-15ISK (i5-7200U/4GB/1TB/FHD/W10)',\n",
       "       'FX753VE-GC093 (i7-7700HQ/12GB/1TB/GeForce', 'Surface Laptop',\n",
       "       'Inspiron 5370', 'GL72M 7RDX', 'Aspire E5-475',\n",
       "       'FX503VD-E4022T (i7-7700HQ/8GB/1TB/GeForce', 'IdeaPad 320-15IKBN',\n",
       "       'Aspire A515-51G-32MX', 'ProBook 440', 'IdeaPad 320-15AST',\n",
       "       'Pavilion 15-CK000nv', 'FX503VM-E4007T (i7-7700HQ/16GB/1TB',\n",
       "       'FX550IK-DM018T (FX-9830P/8GB/1TB/Radeon', 'Aspire 5',\n",
       "       'Probook 430', 'Zenbook UX430UA', 'Spin 5',\n",
       "       'X541UV-DM1439T (i3-7100U/6GB/256GB/GeForce', 'Omen 15-ce007nv',\n",
       "       '15-bs017nv (i7-7500U/8GB/256GB/Radeon',\n",
       "       '15-bw000nv (E2-9000e/4GB/500GB/Radeon', 'Envy 13-ad009n',\n",
       "       'Pavilion 14-BK001nv', 'Ideapad 310-15ISK',\n",
       "       'UX430UQ-GV209R (i7-7500U/8GB/256GB/GeForce', 'GP62M 7REX',\n",
       "       'Thinkpad T470', 'VivoBook S15', 'ThinkPad Yoga', 'Probook 440',\n",
       "       'Spectre x360', 'Inspiron 7570',\n",
       "       'X705UV-BX074T (i3-6006U/4GB/1TB/GeForce', 'Spin 3', 'GS63VR 7RG',\n",
       "       'Probook 470', 'E402WA-GA007T (E2-6110/4GB/64GB/W10',\n",
       "       'Inspiron 5567', 'Aspire A515-51G-37JS',\n",
       "       '15-BS078nr (i7-7500U/8GB/1TB/W10)',\n",
       "       'V110-15IAP (N3350/4GB/1TB/No',\n",
       "       'FX753VD-GC086T (i5-7300HQ/8GB/1TB', 'Envy 13-AD007nv',\n",
       "       'ThinkPad E480', 'Satellite Pro', 'ZenBook UX430UA',\n",
       "       'EliteBook Folio', 'X541NA (N3350/4GB/1TB/FHD/W10)', 'GE72MVR 7RG',\n",
       "       'Aspire A315-51', 'Inspiron 5577', 'Inspiron 7567',\n",
       "       'V110-15IKB (i5-7200U/4GB/128GB/W10)', 'GE73VR 7RE',\n",
       "       'EliteBook 840', '15-BS103nv (i5-8250U/6GB/256GB/Radeon',\n",
       "       'Yoga 520-14IKB', 'ZenBook Flip', 'Inspiron 5579',\n",
       "       'X555BP-XX180T (A9-9420/4GB/1TB/Radeon', 'Aspire A517-51G',\n",
       "       'Aspire A315-31', 'GE63VR 7RE', 'MateBook X',\n",
       "       '17-bs001nv (i5-7200U/6GB/2TB/Radeon', 'GT80S 6QF-074US',\n",
       "       'V310-15IKB (i5-7200U/8GB/1TB', 'Yoga 920-13IKB', 'Mi Notebook',\n",
       "       'XPS 15', 'Swift 7', 'Thinkpad Yoga',\n",
       "       'K147 (N3350/4GB/32GB/FHD/W10)', 'IdeaPad 320-17IKBR', 'Blade Pro',\n",
       "       'Omen 17-W295', 'V110-15ISK (i5-6200U/4GB/128GB/W10)',\n",
       "       'Aspire E5-576G', 'Legion Y720-15IKB', 'Precision 7520',\n",
       "       'Aspire 7', 'ROG GL703VD-GC028T',\n",
       "       '15-bs018nq (i3-6006U/4GB/500GB/FHD/No', 'IdeaPad 320-17IKB',\n",
       "       'Latitude 5490', 'Portege Z30-C-16L', 'Alienware 17',\n",
       "       'Vivobook X541UV-DM1217T', 'K756UX-T4340T (i5-7200U/8GB/500GB',\n",
       "       'ZBook 15u', 'Pro P2540UA-XO0198T',\n",
       "       '15-rb013nv (E2-9000e/4GB/500GB/W10)', 'Vostro 5468', 'Aspire R7',\n",
       "       'X555QG-DM242T (A10-9620P/4GB/1TB', 'ROG G703VI-E5062T',\n",
       "       'Nitro AN515-51', 'VivoBook Pro',\n",
       "       'F756UX-T4201D (i7-7500U/8GB/128GB', 'Yoga 910-13IKB',\n",
       "       '15-bs015dx (i5-7200U/8GB/1TB/W10)', 'Rog G701VIK-BA060T',\n",
       "       'ROG G752VSK-GC493T', 'X505BP-BR019T (A9-9420/4GB/1TB/Radeon',\n",
       "       'Vostro 5370', '15-BW094nd (A6-9220/8GB/128GB/W10)',\n",
       "       'Envy 17-U275cl', 'GT73EVR 7RE', 'Yoga 720-15IKB', 'Vostro 3568',\n",
       "       'V330-15IKB (i7-8550U/8GB/256GB/FHD/W10)', 'ThinkPad X1',\n",
       "       'IdeaPad 320-17ISK', 'Ideapad 320-15IKBN',\n",
       "       'SP315-51 (i7-7500U/12GB/1TB/FHD/W10)', 'Thinkpad T570',\n",
       "       'Chromebook C910-C2ST',\n",
       "       'FX753VD-GC071T (i7-7700HQ/8GB/1TB/GeForce',\n",
       "       '17-BS037cl (i3-6006U/8GB/1TB/W10)',\n",
       "       'V330-15IKB (i5-8250U/8GB/256GB/FHD/W10)', 'Aspire A715-71G',\n",
       "       'Precision 7720', 'IdeaPad 310-15ABR', 'ZenBook UX530UQ-PRO',\n",
       "       'VivoBook S14', 'Rog GL702VS-GC095T',\n",
       "       'GL553VE-FY082T (i7-7700HQ/8GB/1TB', 'IdeaPad 320-15IAP',\n",
       "       'EliteBook x360', 'IdeaPad 720S-13IKB', 'GE63VR 7RF',\n",
       "       'ES1-523-84K7 (A8-7410/8GB/256GB/FHD/W10)', 'VivoBook Flip',\n",
       "       'ThinkPad 13', 'ProBook 640', 'TravelMate B', 'Elitebook 840',\n",
       "       'ZenBook UX410UA-GV183T', 'Aspire E5-575', 'Elitebook 820',\n",
       "       'GL72M 7REX', 'UX510UX-CN269T (i7-7500U/8GB/256GB',\n",
       "       'V310-15ISK (i3-6006U/4GB/1TB/FHD/W10)',\n",
       "       'FX553VD-FY647T (i7-7700HQ/8GB/256GB/GeForce', 'Elitebook 850',\n",
       "       'X541NA (N3350/4GB/1TB/Linux)', 'Inspiron 3552',\n",
       "       'IdeaPad 320-15ABR', 'Stream 14-AX001nv', 'GP72MVR 7RFX',\n",
       "       'Zbook 15', 'Tecra A50-C-21G', 'Latitude 7480',\n",
       "       'Zenbook UX410UA-GV027T', '15-AY023na (N3710/8GB/2TB/W10)',\n",
       "       'Elitebook 1040', 'IdeaPad 110-17ACL',\n",
       "       '15-bw003nv (A9-Series-9420/4GB/256GB/FHD/W10)', 'Yoga 11e',\n",
       "       'VivoBook E403NA', 'Omen 17-w212nv',\n",
       "       'V310-15ISK (i3-6006U/4GB/128GB/FHD/No', 'ROG Strix',\n",
       "       'IdeaPad 720S-14IKB', 'Zenbook Flip', 'Thinkpad X1',\n",
       "       'Ideapad 510S-13IKB', 'Precision 3510', 'Precision 5520',\n",
       "       'Rog GL753VD-GC042T', 'Rog GL753VE-GC070T', 'Leopard GP72M',\n",
       "       '15-BW004nv (A9-9420/4GB/256GB/Radeon', 'ThinkPad E580',\n",
       "       'ThinkPad L470', 'Precision M5520',\n",
       "       'FX753VD-GC461T (i7-7700HQ/16GB/1TB', 'GE73VR 7RF', 'Zenbook 3',\n",
       "       'Portege Z30-C-16P', 'Lenovo IdeaPad', 'ThinkPad P51',\n",
       "       'Thinkpad T470p', '15-BS028nv (i3-6006U/4GB/1TB/Radeon',\n",
       "       'Latitude 3380', 'EliteBook 1040', 'LapBook 12.3', 'ProBook 650',\n",
       "       'X542UQ-DM117 (i3-7100U/8GB/1TB/GeForce', 'Latitude 5480',\n",
       "       'Omen 17-w207nv', 'FlexBook Edge', 'Chromebook 3', 'Thinkpad 13',\n",
       "       'IdeaPad 320s-14IKB', 'Thinkpad P51',\n",
       "       '15-ra044nv (N3060/4GB/500GB/W10)', 'Pixelbook (Core',\n",
       "       'ThinkPad T470s', 'ThinkPad X270', 'Omen 15-AX205na',\n",
       "       'Aspire ES1-572', 'Precision 3520', 'GV62 7RD-1686NL',\n",
       "       '15-bs024nv (i5-7200U/8GB/128GB/W10)', 'ThinkPad T470',\n",
       "       'Inspiron 3168', '17-BS092ND (i3-6006U/8GB/256GB/W10)',\n",
       "       'Pro P2540UA-AB51', 'IdeaPad 510s-14IKB',\n",
       "       'X541NA-PD1003Y (N4200/4GB/500GB/W10)', 'Omen 17-an006nv',\n",
       "       'Thinkpad T460s', 'Latitude 7390', 'Latitude E5470',\n",
       "       'Portege X30-D-10J', 'Lapbook 15,6', 'ThinkPad E570',\n",
       "       'Thinkpad X270', 'Zenbook UX390UA', 'Thinkpad E570',\n",
       "       'Portege X30-D-10L', 'Rog G752VL-UH71T', 'Thinkpad X260',\n",
       "       'Ideapad 520-15IKBR', 'ThinkPad L570', 'VivoBook E201NA',\n",
       "       '15-BS026nv (i5-7200U/8GB/256GB/Radeon', 'IdeaPad 320-14IAP',\n",
       "       'Chromebook N23', 'ZenBook UX510UX-CN211T', 'Aspire A515-51G-59QF',\n",
       "       'Envy 13-AB002nv', 'Vostro 5568', 'VivoBook E12',\n",
       "       '15-bs190od (i5-8250U/4GB/1TB/W10)', 'ROG Zephyrus', 'Probook 450',\n",
       "       'FX753VE-GC155T (i7-7700HQ/16GB/1TB', 'Spectre X360',\n",
       "       'Latitude 5580', 'Zenbook UX510UW-FI095T', 'SmartBook Edge',\n",
       "       'Omen 15-ce006nv', 'Thinkpad E470', 'Envy 13-AB020nr',\n",
       "       'VivoBook X540YA-XX519T', 'ThinkPad E470',\n",
       "       'V310-15ISK (i5-6200U/4GB/1TB/FHD/No', 'ThinkPad T570',\n",
       "       '17-X047na (i3-6006U/8GB/1TB/W10)',\n",
       "       'A541NA-GO342 (N3350/4GB/500GB/Linux)', 'SmartBook 130',\n",
       "       '15-bw007nv (A10-9620P/6GB/128GB/Radeon', 'Spin SP111-31',\n",
       "       'V330-15IKB (i3-7130U/4GB/128GB/FHD/W10)', 'EliteBook 1030',\n",
       "       'Thinkpad P71', 'FX553VD-DM627T (i5-7300HQ/8GB/1TB',\n",
       "       'Lifebook A557', 'ZBook 17', '14-am079na (N3710/8GB/2TB/W10)',\n",
       "       '15-cd005nv (A9-9420/6GB/256GB/Radeon',\n",
       "       'V330-15IKB (i5-8250U/4GB/500GB/FHD/W10)', 'SmartBook 141',\n",
       "       'Tecra X40-D-10H', 'IdeaPad Y910-17ISK', 'GT73VR Titan',\n",
       "       'Chromebook 11', 'GT80S 6QE', 'Omen 17-AN010nv',\n",
       "       'Ideapad 320-15IKBR', 'TP501UA-CJ131T (i5-7200U/8GB/1TB/W10)',\n",
       "       'Inspiron 3179', 'Notebook Odyssey',\n",
       "       'V320-17ISK (i3-6006U/4GB/500GB/FHD/No', 'IdeaPad 110-15ISK',\n",
       "       'Latitude 5289', 'EliteBook 850', 'Aspire 1', 'Laptop MSI',\n",
       "       'GS63VR 7RF', 'Tecra Z50-C-144', 'IdeaPad 310-15IKB',\n",
       "       'Swift SF114-31-P5HY', 'Inspiron 7559',\n",
       "       'FX753VD-GC007T (i7-7700HQ/8GB/1TB', 'GT62VR 7RE',\n",
       "       'CB5-132T-C9KK (N3160/4GB/32GB/Chrome', 'LifeBook A557',\n",
       "       'SmartBook 140', 'Q304UA-BHI5T11 (i5-7200U/6GB/1TB/FHD/W10)',\n",
       "       'ZenBook 3', 'V330-15IKB (i5-8250U/4GB/256GB/FHD/W10)',\n",
       "       'Ideapad 320-15ISK', 'X541NA-GO414T (N3350/8GB/1TB/W10)',\n",
       "       'IdeaPad 100S-14IBR', '17-AK091ND (A9-9420/8GB/1TB/W10)',\n",
       "       'ROG GL553VE-FY022', 'Extensa EX2540', 'Portege Z30-C-16J',\n",
       "       'ROG G701VI', 'A715-71G-59DH (i5-7300HQ/8GB/1TB/GeForce',\n",
       "       'GL62M 7REX', 'Tecra A50-D-11M', 'IdeaPad Y700-15ISK',\n",
       "       'Latitude E7470', 'Ideapad 320-15IAP',\n",
       "       '15-ay047nv (i3-6006U/6GB/1TB/Radeon', 'GP72VR Leopard',\n",
       "       'Latitude 3580', '15-bs012nv (i7-7500U/8GB/1TB/Radeon',\n",
       "       'Tecra Z50-D-10E', 'V310-15ISK (i5-7200U/8GB/1TB',\n",
       "       'Yoga 720-13IKB', 'Pavilion X360', 'GP62 7RDX', 'Chromebook X360',\n",
       "       'Gram 15Z975', 'Aspire VX5-591G', 'GV62M 7RD',\n",
       "       'L502NA-GO052T (N3350/4GB/128GB/W10)', 'Alienware 15',\n",
       "       '17-bs000nv I3', 'Yoga 730', '17-Y002nv (A10-9600P/6GB/2TB/Radeon',\n",
       "       'V110-15ISK (3855U/4GB/500GB/W10)', 'Chromebook 14',\n",
       "       'IdeaPad 520s-14IKB', 'TravelMate B117-M', 'Chromebook Flip',\n",
       "       'Portege Z30T-C-133', '15-bs011nv (i7-7500U/4GB/500GB/Radeon',\n",
       "       'V310-15IKB (i5-7200U/4GB/1TB/FHD/W10)',\n",
       "       'V310-15ISK (i3-6006U/4GB/500GB/No', 'ThinkPad P51s',\n",
       "       'Thinkpad T460p', '17-ak002nv (A10-9620P/6GB/2TB/Radeon',\n",
       "       '110-15ACL (A6-7310/4GB/500GB/W10)', 'Smartbook 142',\n",
       "       'V310-15IKB (i5-7200U/4GB/1TB/No', 'Inspiron 5378',\n",
       "       '15-BW037na (A9-9420/4GB/1TB/Radeon', 'Predator 17',\n",
       "       '15-BW091ND (A9-9420/6GB/1TB', 'Extensa EX2540-58KR',\n",
       "       'V310-15IKB (i7-7500U/4GB/1TB/FHD/W10)', 'ZBook 15',\n",
       "       'Inspiron 7560', 'Tecra X40-D-10G', 'Flex 5', 'Thinkpad P51s',\n",
       "       'Notebook 9', 'Zbook 17', 'N23 (N3060/4GB/128GB/W10)',\n",
       "       'X550VX-XX015D (i5-6300HQ/4GB/1TB/GeForce', 'Thinkpad T460',\n",
       "       'Pro P2540UA-XO0192R', 'Yoga 900-13ISK',\n",
       "       '15-cb003na (i5-7300HQ/8GB/1TB', 'Latitude 7280',\n",
       "       'Zenbook UX330UA-AH5Q', 'TravelMate P238-M',\n",
       "       'X751NV-TY001 (N4200/4GB/1TB/GeForce', 'Tecra A40-C-1E5',\n",
       "       'EliteBook 820', 'Q524UQ-BHI7T15 (i7-7500U/12GB/2TB/GeForce',\n",
       "       'Thinkpad P50', 'Vivobook Max', 'Rog G752VS-BA171T',\n",
       "       'Tecra Z40-C-161', 'IdeaPad 110-15IBR', 'GS43VR 7RE',\n",
       "       'GL62M (i5-7300HQ/8GB/1TB', 'Predator G9-793',\n",
       "       'FX502VM-DM560T (i7-7700HQ/8GB/1TB', 'K146 (N3350/4GB/32GB/W10)',\n",
       "       'Yoga 510-15IKB', 'R417NA-RS01 (N3350/4GB/32GB/W10)',\n",
       "       'Pro P2540UA-XS51', 'Latitude 3180',\n",
       "       '15-ba043na (A12-9700P/8GB/2TB/W10)', 'Omen 17-an012dx',\n",
       "       'Thinkpad T470s', 'Blade Stealth', 'Latitude 3480',\n",
       "       'V110-15ISK (i3-6006U/4GB/500GB/W10)', 'Tecra X40-D-10Z',\n",
       "       'GL62M 7RD', 'Rog GL702VS-BA023T', 'N42-20 Chromebook',\n",
       "       'R558UA-DM966T (i5-7200U/8GB/128GB/FHD/W10)', 'Rog GL702VM-GC017T',\n",
       "       'ZenBook UX310UQ-GL026T', 'Rog GL502VM-DS74', 'Inspiron 5767',\n",
       "       'ThinkPad T470p', 'K556UR-DM621T (i7-7500U/8GB/256GB/GeForce',\n",
       "       'X541NA (N4200/4GB/1TB/W10)', 'Inspiron 5368', 'Portege X30-D-10X',\n",
       "       'Portégé Z30-C-188',\n",
       "       'TMX349-G2-M-50FS (i5-7200U/8GB/256GB/FHD/W10)', 'Tecra A50-D-11D',\n",
       "       'X541NA-GO121 (N4200/4GB/1TB/Linux)', 'Pavilion x360',\n",
       "       'VivoBook L402NA', 'IdeaPad 510-15ISK', 'Rog GL753VD-GC082T',\n",
       "       'Chromebook C731-C78G', 'Probook 640', 'Envy x360',\n",
       "       'GS73VR Stealth', 'Portege X30-D-10V',\n",
       "       'G701VO-IH74K (i7-6820HK/32GB/2x', 'Gram 15Z970',\n",
       "       'Chromebook CB5-571-C1DZ', 'Gram 14Z970', 'Elitebook Folio',\n",
       "       'IdeaPad 510-15IKB', 'GE72VR 6RF', 'Envy 13-AB077cl',\n",
       "       'Tecra Z50-C-140', 'Probook 650', 'Tecra Z40-C-12X',\n",
       "       'GP62M Leopard', 'Omen 17-W006na',\n",
       "       'X751SV-TY001T (N3710/4GB/1TB/GeForce', 'TravelMate P259-G2',\n",
       "       'Tecra A50-C-1ZV', 'Yoga 700-11ISK', 'IdeaPad Y700-15ACZ',\n",
       "       'Insprion 5767', 'ZBook Studio', 'Portege Z30-C-1CW',\n",
       "       'ProBook x360', 'Chromebook C738T-C2EJ', 'Portege Z30-C-16Z',\n",
       "       'Aspire F5-573G-510L', 'Portege X20W-D-10V', 'Tecra A40-C-1DF',\n",
       "       'ThinkPad T460', 'Q534UX-BHI7T19 (i7-7500U/16GB/2TB',\n",
       "       '15-bs053od (i7-7500U/6GB/1TB/W10)', 'Rog GL753VE-DS74',\n",
       "       'Inspiron 7579', 'Portege Z30-C-1CV', 'LifeBook A556',\n",
       "       'Tecra A40-C-1KF', '15-bs005nv (i3-6006U/4GB/1TB',\n",
       "       'V110-15IAP (N3350/4GB/128GB/No', 'ThinkPad T560',\n",
       "       'ZenBook UX310UA-FB485T', 'Spectre 13-V111dx', 'Aspire ES1-533',\n",
       "       'Rog GL553VE-DS74', 'Nitro 5', 'ENVY -', 'Portege Z30-C-16H',\n",
       "       'Portege A30-C-1CZ', 'ThinkPad P70', 'Tecra Z40-C-12Z',\n",
       "       'Inspiron 5568', 'Portégé Z30-C-16K', 'Spectre 13-V100nv',\n",
       "       'Latitude E5570', 'Tecra Z40-C-136', 'Yoga 500-15ISK',\n",
       "       'V142 (X5-Z8350/2GB/32GB/W10)', 'Tecra A50-C-218', 'Thinkpad L560',\n",
       "       'GT72S Dominator', 'IdeaPad Y900-17ISK', 'Chromebook C202SA',\n",
       "       'Noteb Pav', 'Inspiron 5578', '250 G5', 'Aspire ES1-523',\n",
       "       'Inspiron 7378', 'GT62VR 6RD', 'Rog G752VL-GC088D', 'GS63VR 6RF',\n",
       "       'ROG G701VO', 'Latitude 3570', 'IdeaPad 300-17ISK',\n",
       "       'Ideapad 700-15ISK', 'GT72VR Dominator',\n",
       "       'V110-15ISK (i5-6200U/4GB/500GB/W10)', 'Yoga 900S-12ISK',\n",
       "       'Chromebook 13', 'Rog GL702VM-GC354T', 'Aspire F5-573G',\n",
       "       'GS70 Stealth', 'G752VY-GC162T (i7-6700HQ/16GB/1TB',\n",
       "       'Latitude E5270', 'Chromebook 15', 'GE72 Apache',\n",
       "       '15-bw011nv (A6-9220/4GB/1TB/FHD/W10)', 'Rog GL552VW-CN470T',\n",
       "       'Vostro 3559', 'V110-15ISK (i3-6006U/4GB/128GB/W10)',\n",
       "       'Spectre Pro', 'Portege X30-D-10K', 'Rog GL752VW-T4308T',\n",
       "       'V131 (X5-Z8350/4GB/32GB/FHD/W10)', 'Omen -',\n",
       "       '15-bs078cl (i7-7500U/8GB/2TB/W10)', 'ThinkPad P40',\n",
       "       'L403NA-GA013TS (N3350/4GB/32GB/W10)', 'IdeaPad 500-15ISK',\n",
       "       'GP62M 7RDX', 'V110-15ISK (i3-6006U/4GB/1TB/No',\n",
       "       '15-BA015wm (E2-7110/4GB/500GB/W10)',\n",
       "       'B51-80 (i5-6200U/8GB/1TB/Radeon',\n",
       "       '15-bw002nv (A6-9220/4GB/256GB/Radeon', 'GP72M 7REX',\n",
       "       'ThinkPad T460s', 'B51-80 (i5-6200U/8GB/1008GB/Radeon',\n",
       "       'GS40 Phantom', 'Pavilion 15-cb003nv', 'IdeaPad 310-15ISK',\n",
       "       '250 G4', '320-15ISK (i3-6006U/4GB/1TB/GeForce',\n",
       "       'Stream 14-AX000nv', 'PL60 7RD',\n",
       "       'X553SA-XX021T (N3050/4GB/500GB/W10)',\n",
       "       'V110-15ISK (i5-6200U/4GB/500GB/No',\n",
       "       'UX410UA-GV097T (i3-7100U/4GB/256GB/FHD/W10)',\n",
       "       'B51-80 (i7-6500U/4GB/1008GB/FHD/W7)', 'GS60 Ghost',\n",
       "       'Pavilion 15-BC000nv', 'Rog GL552VW-DM201T', 'Chromebook Plus',\n",
       "       'Pavilion Power', 'V110-15ISK (i3-6006U/4GB/1TB/Radeon',\n",
       "       'Rog G752VY-GC229T', 'GS73VR 7RF',\n",
       "       'FX502VM-DM105T (i7-6700HQ/8GB/1TB/GeForce',\n",
       "       '15-bs025nv (i5-7200U/8GB/256GB/W10)', 'Aspire E5-774G',\n",
       "       'FX502VM-AS73 (i7-7700HQ/16GB/1TB',\n",
       "       'C740-C9QX (3205U/2GB/32GB/Chrome', 'E5 774G',\n",
       "       'SP714-51 (i7-7Y75/8GB/256GB/FHD/W10)', 'Thinkpad T560',\n",
       "       'GP62MVR 6RF', '15-bw009nv (A12-9720P/6GB/1TB/Radeon',\n",
       "       'Latitude E7270', 'X540SA-RBPDN09 (N3710/4GB/1TB/W10)',\n",
       "       'GL62M 7RDX', 'GE72VR Apache',\n",
       "       '15-bs023nv (i3-6006U/4GB/1TB/FHD/W10)', 'GL62 6QF',\n",
       "       'ZenBook UX310UA-WB71', 'Inspiron 7779', 'Rog GL553VE-FY052T',\n",
       "       'Rog GL502VS', 'V510-15IKB (i5-7200U/8GB/256GB/FHD/No',\n",
       "       'ThinkPad L460', 'X541NA-GO020T (N3350/4GB/1TB/W10)',\n",
       "       'Rog G752VT-GC073T', 'B51-80 (i7-6500U/8GB/1008GB/Radeon',\n",
       "       'GE62 Apache', 'Yoga 500-14IBD', 'ZenBook UX305CA-UBM1',\n",
       "       'Aspire ES1-531', 'Pavilion 15-AW003nv', 'Stream 11-Y000na',\n",
       "       'X556UJ-XO044T (i7-6500U/4GB/500GB/GeForce', 'Yoga 500-14ISK',\n",
       "       '15-AC110nv (i7-6500U/6GB/1TB/Radeon',\n",
       "       'X553SA-XX031T (N3050/4GB/500GB/W10)'], dtype=object)"
      ]
     },
     "execution_count": 11,
     "metadata": {},
     "output_type": "execute_result"
    }
   ],
   "source": [
    "data['Product'].unique()"
   ]
  },
  {
   "cell_type": "code",
   "execution_count": 12,
   "id": "59ecaec6",
   "metadata": {},
   "outputs": [
    {
     "data": {
      "text/plain": [
       "618"
      ]
     },
     "execution_count": 12,
     "metadata": {},
     "output_type": "execute_result"
    }
   ],
   "source": [
    "data['Product'].nunique()"
   ]
  },
  {
   "cell_type": "code",
   "execution_count": 13,
   "id": "c6207709",
   "metadata": {},
   "outputs": [
    {
     "data": {
      "image/png": "[encoded data removed]",
      "text/plain": [
       "<Figure size 1500x500 with 1 Axes>"
      ]
     },
     "metadata": {
      "needs_background": "light"
     },
     "output_type": "display_data"
    }
   ],
   "source": [
    "plt.figure(figsize=(15,5),dpi=100)\n",
    "sns.countplot(data=data,x='Product');"
   ]
  },
  {
   "cell_type": "code",
   "execution_count": 14,
   "id": "fa87c2ee",
   "metadata": {},
   "outputs": [
    {
     "data": {
      "text/plain": [
       "Notebook              727\n",
       "Gaming                205\n",
       "Ultrabook             196\n",
       "2 in 1 Convertible    121\n",
       "Workstation            29\n",
       "Netbook                25\n",
       "Name: TypeName, dtype: int64"
      ]
     },
     "execution_count": 14,
     "metadata": {},
     "output_type": "execute_result"
    }
   ],
   "source": [
    "data['TypeName'].value_counts()"
   ]
  },
  {
   "cell_type": "code",
   "execution_count": 15,
   "id": "2c816acc",
   "metadata": {},
   "outputs": [
    {
     "data": {
      "image/png": "[encoded data removed]",
      "text/plain": [
       "<Figure size 900x500 with 1 Axes>"
      ]
     },
     "metadata": {
      "needs_background": "light"
     },
     "output_type": "display_data"
    }
   ],
   "source": [
    "plt.figure(figsize=(9,5),dpi=100)\n",
    "sns.barplot(data=data,x='TypeName',y='Price_euros');"
   ]
  },
  {
   "cell_type": "code",
   "execution_count": 16,
   "id": "6fd253db",
   "metadata": {},
   "outputs": [
    {
     "data": {
      "text/plain": [
       "Full HD 1920x1080                                507\n",
       "1366x768                                         281\n",
       "IPS Panel Full HD 1920x1080                      230\n",
       "IPS Panel Full HD / Touchscreen 1920x1080         53\n",
       "Full HD / Touchscreen 1920x1080                   47\n",
       "1600x900                                          23\n",
       "Touchscreen 1366x768                              16\n",
       "Quad HD+ / Touchscreen 3200x1800                  15\n",
       "IPS Panel 4K Ultra HD 3840x2160                   12\n",
       "IPS Panel 4K Ultra HD / Touchscreen 3840x2160     11\n",
       "4K Ultra HD / Touchscreen 3840x2160               10\n",
       "4K Ultra HD 3840x2160                              7\n",
       "Touchscreen 2560x1440                              7\n",
       "IPS Panel 1366x768                                 7\n",
       "IPS Panel Quad HD+ / Touchscreen 3200x1800         6\n",
       "IPS Panel Retina Display 2560x1600                 6\n",
       "IPS Panel Retina Display 2304x1440                 6\n",
       "Touchscreen 2256x1504                              6\n",
       "IPS Panel Touchscreen 2560x1440                    5\n",
       "IPS Panel Retina Display 2880x1800                 4\n",
       "IPS Panel Touchscreen 1920x1200                    4\n",
       "1440x900                                           4\n",
       "IPS Panel 2560x1440                                4\n",
       "IPS Panel Quad HD+ 2560x1440                       3\n",
       "Quad HD+ 3200x1800                                 3\n",
       "1920x1080                                          3\n",
       "Touchscreen 2400x1600                              3\n",
       "2560x1440                                          3\n",
       "IPS Panel Touchscreen 1366x768                     3\n",
       "IPS Panel Touchscreen / 4K Ultra HD 3840x2160      2\n",
       "IPS Panel Full HD 2160x1440                        2\n",
       "IPS Panel Quad HD+ 3200x1800                       2\n",
       "IPS Panel Retina Display 2736x1824                 1\n",
       "IPS Panel Full HD 1920x1200                        1\n",
       "IPS Panel Full HD 2560x1440                        1\n",
       "IPS Panel Full HD 1366x768                         1\n",
       "Touchscreen / Full HD 1920x1080                    1\n",
       "Touchscreen / Quad HD+ 3200x1800                   1\n",
       "Touchscreen / 4K Ultra HD 3840x2160                1\n",
       "IPS Panel Touchscreen 2400x1600                    1\n",
       "Name: ScreenResolution, dtype: int64"
      ]
     },
     "execution_count": 16,
     "metadata": {},
     "output_type": "execute_result"
    }
   ],
   "source": [
    "data['ScreenResolution'].value_counts()"
   ]
  },
  {
   "cell_type": "code",
   "execution_count": 17,
   "id": "61a6e0a0",
   "metadata": {},
   "outputs": [
    {
     "data": {
      "text/plain": [
       "array(['Intel Core i5 2.3GHz', 'Intel Core i5 1.8GHz',\n",
       "       'Intel Core i5 7200U 2.5GHz', 'Intel Core i7 2.7GHz',\n",
       "       'Intel Core i5 3.1GHz', 'AMD A9-Series 9420 3GHz',\n",
       "       'Intel Core i7 2.2GHz', 'Intel Core i7 8550U 1.8GHz',\n",
       "       'Intel Core i5 8250U 1.6GHz', 'Intel Core i3 6006U 2GHz',\n",
       "       'Intel Core i7 2.8GHz', 'Intel Core M m3 1.2GHz',\n",
       "       'Intel Core i7 7500U 2.7GHz', 'Intel Core i7 2.9GHz',\n",
       "       'Intel Core i3 7100U 2.4GHz', 'Intel Atom x5-Z8350 1.44GHz',\n",
       "       'Intel Core i5 7300HQ 2.5GHz', 'AMD E-Series E2-9000e 1.5GHz',\n",
       "       'Intel Core i5 1.6GHz', 'Intel Core i7 8650U 1.9GHz',\n",
       "       'Intel Atom x5-Z8300 1.44GHz', 'AMD E-Series E2-6110 1.5GHz',\n",
       "       'AMD A6-Series 9220 2.5GHz',\n",
       "       'Intel Celeron Dual Core N3350 1.1GHz',\n",
       "       'Intel Core i3 7130U 2.7GHz', 'Intel Core i7 7700HQ 2.8GHz',\n",
       "       'Intel Core i5 2.0GHz', 'AMD Ryzen 1700 3GHz',\n",
       "       'Intel Pentium Quad Core N4200 1.1GHz',\n",
       "       'Intel Atom x5-Z8550 1.44GHz',\n",
       "       'Intel Celeron Dual Core N3060 1.6GHz', 'Intel Core i5 1.3GHz',\n",
       "       'AMD FX 9830P 3GHz', 'Intel Core i7 7560U 2.4GHz',\n",
       "       'AMD E-Series 6110 1.5GHz', 'Intel Core i5 6200U 2.3GHz',\n",
       "       'Intel Core M 6Y75 1.2GHz', 'Intel Core i5 7500U 2.7GHz',\n",
       "       'Intel Core i3 6006U 2.2GHz', 'AMD A6-Series 9220 2.9GHz',\n",
       "       'Intel Core i7 6920HQ 2.9GHz', 'Intel Core i5 7Y54 1.2GHz',\n",
       "       'Intel Core i7 7820HK 2.9GHz', 'Intel Xeon E3-1505M V6 3GHz',\n",
       "       'Intel Core i7 6500U 2.5GHz', 'AMD E-Series 9000e 1.5GHz',\n",
       "       'AMD A10-Series A10-9620P 2.5GHz', 'AMD A6-Series A6-9220 2.5GHz',\n",
       "       'Intel Core i5 2.9GHz', 'Intel Core i7 6600U 2.6GHz',\n",
       "       'Intel Core i3 6006U 2.0GHz',\n",
       "       'Intel Celeron Dual Core 3205U 1.5GHz',\n",
       "       'Intel Core i7 7820HQ 2.9GHz', 'AMD A10-Series 9600P 2.4GHz',\n",
       "       'Intel Core i7 7600U 2.8GHz', 'AMD A8-Series 7410 2.2GHz',\n",
       "       'Intel Celeron Dual Core 3855U 1.6GHz',\n",
       "       'Intel Pentium Quad Core N3710 1.6GHz',\n",
       "       'AMD A12-Series 9720P 2.7GHz', 'Intel Core i5 7300U 2.6GHz',\n",
       "       'AMD A12-Series 9720P 3.6GHz',\n",
       "       'Intel Celeron Quad Core N3450 1.1GHz',\n",
       "       'Intel Celeron Dual Core N3060 1.60GHz',\n",
       "       'Intel Core i5 6440HQ 2.6GHz', 'Intel Core i7 6820HQ 2.7GHz',\n",
       "       'AMD Ryzen 1600 3.2GHz', 'Intel Core i7 7Y75 1.3GHz',\n",
       "       'Intel Core i5 7440HQ 2.8GHz', 'Intel Core i7 7660U 2.5GHz',\n",
       "       'Intel Core i7 7700HQ 2.7GHz', 'Intel Core M m3-7Y30 2.2GHz',\n",
       "       'Intel Core i5 7Y57 1.2GHz', 'Intel Core i7 6700HQ 2.6GHz',\n",
       "       'Intel Core i3 6100U 2.3GHz', 'AMD A10-Series 9620P 2.5GHz',\n",
       "       'AMD E-Series 7110 1.8GHz', 'Intel Celeron Dual Core N3350 2.0GHz',\n",
       "       'AMD A9-Series A9-9420 3GHz', 'Intel Core i7 6820HK 2.7GHz',\n",
       "       'Intel Core M 7Y30 1.0GHz', 'Intel Xeon E3-1535M v6 3.1GHz',\n",
       "       'Intel Celeron Quad Core N3160 1.6GHz',\n",
       "       'Intel Core i5 6300U 2.4GHz', 'Intel Core i3 6100U 2.1GHz',\n",
       "       'AMD E-Series E2-9000 2.2GHz',\n",
       "       'Intel Celeron Dual Core N3050 1.6GHz',\n",
       "       'Intel Core M M3-6Y30 0.9GHz', 'AMD A9-Series 9420 2.9GHz',\n",
       "       'Intel Core i5 6300HQ 2.3GHz', 'AMD A6-Series 7310 2GHz',\n",
       "       'Intel Atom Z8350 1.92GHz', 'Intel Xeon E3-1535M v5 2.9GHz',\n",
       "       'Intel Core i5 6260U 1.8GHz',\n",
       "       'Intel Pentium Dual Core N4200 1.1GHz',\n",
       "       'Intel Celeron Quad Core N3710 1.6GHz', 'Intel Core M 1.2GHz',\n",
       "       'AMD A12-Series 9700P 2.5GHz', 'Intel Core i7 7500U 2.5GHz',\n",
       "       'Intel Pentium Dual Core 4405U 2.1GHz',\n",
       "       'AMD A4-Series 7210 2.2GHz', 'Intel Core i7 6560U 2.2GHz',\n",
       "       'Intel Core M m7-6Y75 1.2GHz', 'AMD FX 8800P 2.1GHz',\n",
       "       'Intel Core M M7-6Y75 1.2GHz', 'Intel Core i5 7200U 2.50GHz',\n",
       "       'Intel Core i5 7200U 2.70GHz', 'Intel Atom X5-Z8350 1.44GHz',\n",
       "       'Intel Core i5 7200U 2.7GHz', 'Intel Core M 1.1GHz',\n",
       "       'Intel Pentium Dual Core 4405Y 1.5GHz',\n",
       "       'Intel Pentium Quad Core N3700 1.6GHz', 'Intel Core M 6Y54 1.1GHz',\n",
       "       'Intel Core i7 6500U 2.50GHz',\n",
       "       'Intel Celeron Dual Core N3350 2GHz',\n",
       "       'Samsung Cortex A72&A53 2.0GHz', 'AMD E-Series 9000 2.2GHz',\n",
       "       'Intel Core M 6Y30 0.9GHz', 'AMD A9-Series 9410 2.9GHz'],\n",
       "      dtype=object)"
      ]
     },
     "execution_count": 17,
     "metadata": {},
     "output_type": "execute_result"
    }
   ],
   "source": [
    "data['Cpu'].unique()"
   ]
  },
  {
   "cell_type": "code",
   "execution_count": 18,
   "id": "7c1ec952",
   "metadata": {},
   "outputs": [
    {
     "data": {
      "text/plain": [
       "118"
      ]
     },
     "execution_count": 18,
     "metadata": {},
     "output_type": "execute_result"
    }
   ],
   "source": [
    "data['Cpu'].nunique()"
   ]
  },
  {
   "cell_type": "code",
   "execution_count": 19,
   "id": "a8d2cd30",
   "metadata": {},
   "outputs": [
    {
     "data": {
      "text/plain": [
       "array(['8GB', '16GB', '4GB', '2GB', '12GB', '6GB', '32GB', '24GB', '64GB'],\n",
       "      dtype=object)"
      ]
     },
     "execution_count": 19,
     "metadata": {},
     "output_type": "execute_result"
    }
   ],
   "source": [
    "data['Ram'].unique()"
   ]
  },
  {
   "cell_type": "code",
   "execution_count": 20,
   "id": "f8e8c1d4",
   "metadata": {},
   "outputs": [
    {
     "data": {
      "text/plain": [
       "8GB     619\n",
       "4GB     375\n",
       "16GB    200\n",
       "6GB      41\n",
       "12GB     25\n",
       "2GB      22\n",
       "32GB     17\n",
       "24GB      3\n",
       "64GB      1\n",
       "Name: Ram, dtype: int64"
      ]
     },
     "execution_count": 20,
     "metadata": {},
     "output_type": "execute_result"
    }
   ],
   "source": [
    "data['Ram'].value_counts()"
   ]
  },
  {
   "cell_type": "code",
   "execution_count": 21,
   "id": "ad016bc9",
   "metadata": {},
   "outputs": [
    {
     "data": {
      "image/png": "[encoded data removed]",
      "text/plain": [
       "<Figure size 1500x500 with 1 Axes>"
      ]
     },
     "metadata": {
      "needs_background": "light"
     },
     "output_type": "display_data"
    }
   ],
   "source": [
    "plt.figure(figsize=(15,5),dpi=100)\n",
    "sns.countplot(data=data,x='Ram');"
   ]
  },
  {
   "cell_type": "code",
   "execution_count": 22,
   "id": "41421e0f",
   "metadata": {},
   "outputs": [
    {
     "data": {
      "image/png": "[encoded data removed]",
      "text/plain": [
       "<Figure size 900x500 with 1 Axes>"
      ]
     },
     "metadata": {
      "needs_background": "light"
     },
     "output_type": "display_data"
    }
   ],
   "source": [
    "plt.figure(figsize=(9,5),dpi=100)\n",
    "sns.barplot(data=data,x='Ram',y='Price_euros');"
   ]
  },
  {
   "cell_type": "code",
   "execution_count": 23,
   "id": "11408921",
   "metadata": {},
   "outputs": [
    {
     "data": {
      "text/plain": [
       "array(['128GB SSD', '128GB Flash Storage', '256GB SSD', '512GB SSD',\n",
       "       '500GB HDD', '256GB Flash Storage', '1TB HDD',\n",
       "       '32GB Flash Storage', '128GB SSD +  1TB HDD',\n",
       "       '256GB SSD +  256GB SSD', '64GB Flash Storage',\n",
       "       '256GB SSD +  1TB HDD', '256GB SSD +  2TB HDD', '32GB SSD',\n",
       "       '2TB HDD', '64GB SSD', '1.0TB Hybrid', '512GB SSD +  1TB HDD',\n",
       "       '1TB SSD', '256GB SSD +  500GB HDD', '128GB SSD +  2TB HDD',\n",
       "       '512GB SSD +  512GB SSD', '16GB SSD', '16GB Flash Storage',\n",
       "       '512GB SSD +  256GB SSD', '512GB SSD +  2TB HDD',\n",
       "       '64GB Flash Storage +  1TB HDD', '180GB SSD', '1TB HDD +  1TB HDD',\n",
       "       '32GB HDD', '1TB SSD +  1TB HDD', '512GB Flash Storage',\n",
       "       '128GB HDD', '240GB SSD', '8GB SSD', '508GB Hybrid', '1.0TB HDD',\n",
       "       '512GB SSD +  1.0TB Hybrid', '256GB SSD +  1.0TB Hybrid'],\n",
       "      dtype=object)"
      ]
     },
     "execution_count": 23,
     "metadata": {},
     "output_type": "execute_result"
    }
   ],
   "source": [
    "data['Memory'].unique()"
   ]
  },
  {
   "cell_type": "code",
   "execution_count": 24,
   "id": "f8aa9ddc",
   "metadata": {},
   "outputs": [
    {
     "data": {
      "text/plain": [
       "256GB SSD                        412\n",
       "1TB HDD                          223\n",
       "500GB HDD                        132\n",
       "512GB SSD                        118\n",
       "128GB SSD +  1TB HDD              94\n",
       "128GB SSD                         76\n",
       "256GB SSD +  1TB HDD              73\n",
       "32GB Flash Storage                38\n",
       "2TB HDD                           16\n",
       "64GB Flash Storage                15\n",
       "512GB SSD +  1TB HDD              14\n",
       "1TB SSD                           14\n",
       "256GB SSD +  2TB HDD              10\n",
       "1.0TB Hybrid                       9\n",
       "256GB Flash Storage                8\n",
       "16GB Flash Storage                 7\n",
       "32GB SSD                           6\n",
       "180GB SSD                          5\n",
       "128GB Flash Storage                4\n",
       "512GB SSD +  2TB HDD               3\n",
       "16GB SSD                           3\n",
       "512GB Flash Storage                2\n",
       "1TB SSD +  1TB HDD                 2\n",
       "256GB SSD +  500GB HDD             2\n",
       "128GB SSD +  2TB HDD               2\n",
       "256GB SSD +  256GB SSD             2\n",
       "512GB SSD +  256GB SSD             1\n",
       "512GB SSD +  512GB SSD             1\n",
       "64GB Flash Storage +  1TB HDD      1\n",
       "1TB HDD +  1TB HDD                 1\n",
       "32GB HDD                           1\n",
       "64GB SSD                           1\n",
       "128GB HDD                          1\n",
       "240GB SSD                          1\n",
       "8GB SSD                            1\n",
       "508GB Hybrid                       1\n",
       "1.0TB HDD                          1\n",
       "512GB SSD +  1.0TB Hybrid          1\n",
       "256GB SSD +  1.0TB Hybrid          1\n",
       "Name: Memory, dtype: int64"
      ]
     },
     "execution_count": 24,
     "metadata": {},
     "output_type": "execute_result"
    }
   ],
   "source": [
    "data['Memory'].value_counts()"
   ]
  },
  {
   "cell_type": "code",
   "execution_count": 25,
   "id": "494ecc5a",
   "metadata": {},
   "outputs": [
    {
     "data": {
      "image/png": "[encoded data removed]",
      "text/plain": [
       "<Figure size 1500x2500 with 1 Axes>"
      ]
     },
     "metadata": {
      "needs_background": "light"
     },
     "output_type": "display_data"
    }
   ],
   "source": [
    "plt.figure(figsize=(15,25),dpi=100)\n",
    "sns.barplot(data=data,x='Price_euros',y='Memory');"
   ]
  },
  {
   "cell_type": "code",
   "execution_count": 26,
   "id": "76bef551",
   "metadata": {},
   "outputs": [
    {
     "data": {
      "text/plain": [
       "array(['Intel Iris Plus Graphics 640', 'Intel HD Graphics 6000',\n",
       "       'Intel HD Graphics 620', 'AMD Radeon Pro 455',\n",
       "       'Intel Iris Plus Graphics 650', 'AMD Radeon R5',\n",
       "       'Intel Iris Pro Graphics', 'Nvidia GeForce MX150',\n",
       "       'Intel UHD Graphics 620', 'Intel HD Graphics 520',\n",
       "       'AMD Radeon Pro 555', 'AMD Radeon R5 M430',\n",
       "       'Intel HD Graphics 615', 'AMD Radeon Pro 560',\n",
       "       'Nvidia GeForce 940MX', 'Intel HD Graphics 400',\n",
       "       'Nvidia GeForce GTX 1050', 'AMD Radeon R2', 'AMD Radeon 530',\n",
       "       'Nvidia GeForce 930MX', 'Intel HD Graphics',\n",
       "       'Intel HD Graphics 500', 'Nvidia GeForce 930MX ',\n",
       "       'Nvidia GeForce GTX 1060', 'Nvidia GeForce 150MX',\n",
       "       'Intel Iris Graphics 540', 'AMD Radeon RX 580',\n",
       "       'Nvidia GeForce 920MX', 'AMD Radeon R4 Graphics', 'AMD Radeon 520',\n",
       "       'Nvidia GeForce GTX 1070', 'Nvidia GeForce GTX 1050 Ti',\n",
       "       'Nvidia GeForce MX130', 'AMD R4 Graphics',\n",
       "       'Nvidia GeForce GTX 940MX', 'AMD Radeon RX 560',\n",
       "       'Nvidia GeForce 920M', 'AMD Radeon R7 M445', 'AMD Radeon RX 550',\n",
       "       'Nvidia GeForce GTX 1050M', 'Intel HD Graphics 515',\n",
       "       'AMD Radeon R5 M420', 'Intel HD Graphics 505',\n",
       "       'Nvidia GTX 980 SLI', 'AMD R17M-M1-70', 'Nvidia GeForce GTX 1080',\n",
       "       'Nvidia Quadro M1200', 'Nvidia GeForce 920MX ',\n",
       "       'Nvidia GeForce GTX 950M', 'AMD FirePro W4190M ',\n",
       "       'Nvidia GeForce GTX 980M', 'Intel Iris Graphics 550',\n",
       "       'Nvidia GeForce 930M', 'Intel HD Graphics 630',\n",
       "       'AMD Radeon R5 430', 'Nvidia GeForce GTX 940M',\n",
       "       'Intel HD Graphics 510', 'Intel HD Graphics 405',\n",
       "       'AMD Radeon RX 540', 'Nvidia GeForce GT 940MX',\n",
       "       'AMD FirePro W5130M', 'Nvidia Quadro M2200M', 'AMD Radeon R4',\n",
       "       'Nvidia Quadro M620', 'AMD Radeon R7 M460',\n",
       "       'Intel HD Graphics 530', 'Nvidia GeForce GTX 965M',\n",
       "       'Nvidia GeForce GTX1080', 'Nvidia GeForce GTX1050 Ti',\n",
       "       'Nvidia GeForce GTX 960M', 'AMD Radeon R2 Graphics',\n",
       "       'Nvidia Quadro M620M', 'Nvidia GeForce GTX 970M',\n",
       "       'Nvidia GeForce GTX 960<U+039C>', 'Intel Graphics 620',\n",
       "       'Nvidia GeForce GTX 960', 'AMD Radeon R5 520',\n",
       "       'AMD Radeon R7 M440', 'AMD Radeon R7', 'Nvidia Quadro M520M',\n",
       "       'Nvidia Quadro M2200', 'Nvidia Quadro M2000M',\n",
       "       'Intel HD Graphics 540', 'Nvidia Quadro M1000M', 'AMD Radeon 540',\n",
       "       'Nvidia GeForce GTX 1070M', 'Nvidia GeForce GTX1060',\n",
       "       'Intel HD Graphics 5300', 'AMD Radeon R5 M420X',\n",
       "       'AMD Radeon R7 Graphics', 'Nvidia GeForce 920',\n",
       "       'Nvidia GeForce 940M', 'Nvidia GeForce GTX 930MX',\n",
       "       'AMD Radeon R7 M465', 'AMD Radeon R3', 'Nvidia GeForce GTX 1050Ti',\n",
       "       'AMD Radeon R7 M365X', 'AMD Radeon R9 M385',\n",
       "       'Intel HD Graphics 620 ', 'Nvidia Quadro 3000M',\n",
       "       'Nvidia GeForce GTX 980 ', 'AMD Radeon R5 M330',\n",
       "       'AMD FirePro W4190M', 'AMD FirePro W6150M', 'AMD Radeon R5 M315',\n",
       "       'Nvidia Quadro M500M', 'AMD Radeon R7 M360',\n",
       "       'Nvidia Quadro M3000M', 'Nvidia GeForce 960M', 'ARM Mali T860 MP4'],\n",
       "      dtype=object)"
      ]
     },
     "execution_count": 26,
     "metadata": {},
     "output_type": "execute_result"
    }
   ],
   "source": [
    "data['Gpu'].unique()"
   ]
  },
  {
   "cell_type": "code",
   "execution_count": 27,
   "id": "eb536804",
   "metadata": {},
   "outputs": [
    {
     "data": {
      "text/plain": [
       "110"
      ]
     },
     "execution_count": 27,
     "metadata": {},
     "output_type": "execute_result"
    }
   ],
   "source": [
    "data['Gpu'].nunique()"
   ]
  },
  {
   "cell_type": "code",
   "execution_count": 28,
   "id": "05719cde",
   "metadata": {},
   "outputs": [
    {
     "data": {
      "text/plain": [
       "array(['macOS', 'No OS', 'Windows 10', 'Mac OS X', 'Linux', 'Android',\n",
       "       'Windows 10 S', 'Chrome OS', 'Windows 7'], dtype=object)"
      ]
     },
     "execution_count": 28,
     "metadata": {},
     "output_type": "execute_result"
    }
   ],
   "source": [
    "data['OpSys'].unique()"
   ]
  },
  {
   "cell_type": "code",
   "execution_count": 29,
   "id": "2d90e144",
   "metadata": {},
   "outputs": [
    {
     "data": {
      "text/plain": [
       "Windows 10      1072\n",
       "No OS             66\n",
       "Linux             62\n",
       "Windows 7         45\n",
       "Chrome OS         27\n",
       "macOS             13\n",
       "Mac OS X           8\n",
       "Windows 10 S       8\n",
       "Android            2\n",
       "Name: OpSys, dtype: int64"
      ]
     },
     "execution_count": 29,
     "metadata": {},
     "output_type": "execute_result"
    }
   ],
   "source": [
    "data['OpSys'].value_counts()"
   ]
  },
  {
   "cell_type": "code",
   "execution_count": 30,
   "id": "15c7438c",
   "metadata": {},
   "outputs": [
    {
     "data": {
      "image/png": "[encoded data removed]",
      "text/plain": [
       "<Figure size 1000x500 with 1 Axes>"
      ]
     },
     "metadata": {
      "needs_background": "light"
     },
     "output_type": "display_data"
    }
   ],
   "source": [
    "plt.figure(figsize=(10,5),dpi=100)\n",
    "sns.barplot(data=data,x='OpSys',y='Price_euros');"
   ]
  },
  {
   "cell_type": "code",
   "execution_count": 31,
   "id": "ec75eee4",
   "metadata": {},
   "outputs": [
    {
     "data": {
      "text/plain": [
       "179"
      ]
     },
     "execution_count": 31,
     "metadata": {},
     "output_type": "execute_result"
    }
   ],
   "source": [
    "data['Weight'].nunique()"
   ]
  },
  {
   "cell_type": "code",
   "execution_count": 32,
   "id": "4e452391",
   "metadata": {},
   "outputs": [
    {
     "data": {
      "text/plain": [
       "<AxesSubplot:xlabel='Price_euros', ylabel='Density'>"
      ]
     },
     "execution_count": 32,
     "metadata": {},
     "output_type": "execute_result"
    },
    {
     "data": {
      "image/png": "[encoded data removed]",
      "text/plain": [
       "<Figure size 432x288 with 1 Axes>"
      ]
     },
     "metadata": {
      "needs_background": "light"
     },
     "output_type": "display_data"
    }
   ],
   "source": [
    "sns.distplot(data['Price_euros'])"
   ]
  },
  {
   "cell_type": "code",
   "execution_count": 33,
   "id": "ef4b26eb",
   "metadata": {},
   "outputs": [
    {
     "data": {
      "text/plain": [
       "196     6099.0\n",
       "830     5499.0\n",
       "610     4899.0\n",
       "749     4389.0\n",
       "1066    3975.0\n",
       "         ...  \n",
       "290      199.0\n",
       "31       199.0\n",
       "1120     196.0\n",
       "20       191.9\n",
       "1215     174.0\n",
       "Name: Price_euros, Length: 1303, dtype: float64"
      ]
     },
     "execution_count": 33,
     "metadata": {},
     "output_type": "execute_result"
    }
   ],
   "source": [
    "data['Price_euros'].sort_values(ascending = False) "
   ]
  },
  {
   "cell_type": "code",
   "execution_count": 34,
   "id": "ade37202",
   "metadata": {},
   "outputs": [
    {
     "data": {
      "text/plain": [
       "laptop_ID                                           200\n",
       "Company                                           Razer\n",
       "Product                                       Blade Pro\n",
       "TypeName                                         Gaming\n",
       "Inches                                             17.3\n",
       "ScreenResolution    4K Ultra HD / Touchscreen 3840x2160\n",
       "Cpu                         Intel Core i7 7820HK 2.9GHz\n",
       "Ram                                                32GB\n",
       "Memory                                          1TB SSD\n",
       "Gpu                             Nvidia GeForce GTX 1080\n",
       "OpSys                                        Windows 10\n",
       "Weight                                           3.49kg\n",
       "Price_euros                                      6099.0\n",
       "Name: 196, dtype: object"
      ]
     },
     "execution_count": 34,
     "metadata": {},
     "output_type": "execute_result"
    }
   ],
   "source": [
    "data.loc[196]"
   ]
  },
  {
   "cell_type": "code",
   "execution_count": 35,
   "id": "a2a1a829",
   "metadata": {},
   "outputs": [
    {
     "data": {
      "text/plain": [
       "laptop_ID                                           1233\n",
       "Company                                             Acer\n",
       "Product                 C740-C9QX (3205U/2GB/32GB/Chrome\n",
       "TypeName                                         Netbook\n",
       "Inches                                              11.6\n",
       "ScreenResolution                                1366x768\n",
       "Cpu                 Intel Celeron Dual Core 3205U 1.5GHz\n",
       "Ram                                                  2GB\n",
       "Memory                                          32GB SSD\n",
       "Gpu                                    Intel HD Graphics\n",
       "OpSys                                          Chrome OS\n",
       "Weight                                             1.3kg\n",
       "Price_euros                                        174.0\n",
       "Name: 1215, dtype: object"
      ]
     },
     "execution_count": 35,
     "metadata": {},
     "output_type": "execute_result"
    }
   ],
   "source": [
    "data.loc[1215]"
   ]
  },
  {
   "cell_type": "code",
   "execution_count": 36,
   "id": "a2016ced",
   "metadata": {},
   "outputs": [
    {
     "data": {
      "text/plain": [
       "count    1303.000000\n",
       "mean     1123.686992\n",
       "std       699.009043\n",
       "min       174.000000\n",
       "25%       599.000000\n",
       "50%       977.000000\n",
       "75%      1487.880000\n",
       "max      6099.000000\n",
       "Name: Price_euros, dtype: float64"
      ]
     },
     "execution_count": 36,
     "metadata": {},
     "output_type": "execute_result"
    }
   ],
   "source": [
    "data['Price_euros'].describe()"
   ]
  },
  {
   "cell_type": "code",
   "execution_count": 37,
   "id": "29cf9e00",
   "metadata": {},
   "outputs": [
    {
     "data": {
      "text/html": [
       "<div>\n",
       "<style scoped>\n",
       "    .dataframe tbody tr th:only-of-type {\n",
       "        vertical-align: middle;\n",
       "    }\n",
       "\n",
       "    .dataframe tbody tr th {\n",
       "        vertical-align: top;\n",
       "    }\n",
       "\n",
       "    .dataframe thead th {\n",
       "        text-align: right;\n",
       "    }\n",
       "</style>\n",
       "<table border=\"1\" class=\"dataframe\">\n",
       "  <thead>\n",
       "    <tr style=\"text-align: right;\">\n",
       "      <th></th>\n",
       "      <th>Company</th>\n",
       "      <th>Price_euros</th>\n",
       "    </tr>\n",
       "  </thead>\n",
       "  <tbody>\n",
       "    <tr>\n",
       "      <th>0</th>\n",
       "      <td>Dell</td>\n",
       "      <td>352262.49</td>\n",
       "    </tr>\n",
       "    <tr>\n",
       "      <th>1</th>\n",
       "      <td>Lenovo</td>\n",
       "      <td>322656.18</td>\n",
       "    </tr>\n",
       "    <tr>\n",
       "      <th>2</th>\n",
       "      <td>HP</td>\n",
       "      <td>292570.31</td>\n",
       "    </tr>\n",
       "    <tr>\n",
       "      <th>3</th>\n",
       "      <td>Asus</td>\n",
       "      <td>174458.76</td>\n",
       "    </tr>\n",
       "    <tr>\n",
       "      <th>4</th>\n",
       "      <td>MSI</td>\n",
       "      <td>93361.04</td>\n",
       "    </tr>\n",
       "    <tr>\n",
       "      <th>5</th>\n",
       "      <td>Acer</td>\n",
       "      <td>64557.91</td>\n",
       "    </tr>\n",
       "    <tr>\n",
       "      <th>6</th>\n",
       "      <td>Toshiba</td>\n",
       "      <td>60855.00</td>\n",
       "    </tr>\n",
       "    <tr>\n",
       "      <th>7</th>\n",
       "      <td>Apple</td>\n",
       "      <td>32848.17</td>\n",
       "    </tr>\n",
       "    <tr>\n",
       "      <th>8</th>\n",
       "      <td>Razer</td>\n",
       "      <td>23423.00</td>\n",
       "    </tr>\n",
       "    <tr>\n",
       "      <th>9</th>\n",
       "      <td>Samsung</td>\n",
       "      <td>12721.00</td>\n",
       "    </tr>\n",
       "  </tbody>\n",
       "</table>\n",
       "</div>"
      ],
      "text/plain": [
       "   Company  Price_euros\n",
       "0     Dell    352262.49\n",
       "1   Lenovo    322656.18\n",
       "2       HP    292570.31\n",
       "3     Asus    174458.76\n",
       "4      MSI     93361.04\n",
       "5     Acer     64557.91\n",
       "6  Toshiba     60855.00\n",
       "7    Apple     32848.17\n",
       "8    Razer     23423.00\n",
       "9  Samsung     12721.00"
      ]
     },
     "execution_count": 37,
     "metadata": {},
     "output_type": "execute_result"
    }
   ],
   "source": [
    "top_price = data.groupby('Company').sum()['Price_euros'].nlargest(10).reset_index()\n",
    "top_price"
   ]
  },
  {
   "cell_type": "code",
   "execution_count": 38,
   "id": "df8f4bf0",
   "metadata": {},
   "outputs": [
    {
     "data": {
      "text/html": [
       "<div>\n",
       "<style scoped>\n",
       "    .dataframe tbody tr th:only-of-type {\n",
       "        vertical-align: middle;\n",
       "    }\n",
       "\n",
       "    .dataframe tbody tr th {\n",
       "        vertical-align: top;\n",
       "    }\n",
       "\n",
       "    .dataframe thead th {\n",
       "        text-align: right;\n",
       "    }\n",
       "</style>\n",
       "<table border=\"1\" class=\"dataframe\">\n",
       "  <thead>\n",
       "    <tr style=\"text-align: right;\">\n",
       "      <th></th>\n",
       "      <th>Memory</th>\n",
       "      <th>Price_euros</th>\n",
       "    </tr>\n",
       "  </thead>\n",
       "  <tbody>\n",
       "    <tr>\n",
       "      <th>0</th>\n",
       "      <td>256GB SSD</td>\n",
       "      <td>506507.63</td>\n",
       "    </tr>\n",
       "    <tr>\n",
       "      <th>1</th>\n",
       "      <td>512GB SSD</td>\n",
       "      <td>219575.70</td>\n",
       "    </tr>\n",
       "    <tr>\n",
       "      <th>2</th>\n",
       "      <td>1TB HDD</td>\n",
       "      <td>150335.95</td>\n",
       "    </tr>\n",
       "    <tr>\n",
       "      <th>3</th>\n",
       "      <td>256GB SSD +  1TB HDD</td>\n",
       "      <td>135499.11</td>\n",
       "    </tr>\n",
       "    <tr>\n",
       "      <th>4</th>\n",
       "      <td>128GB SSD +  1TB HDD</td>\n",
       "      <td>119081.34</td>\n",
       "    </tr>\n",
       "    <tr>\n",
       "      <th>5</th>\n",
       "      <td>500GB HDD</td>\n",
       "      <td>82885.89</td>\n",
       "    </tr>\n",
       "    <tr>\n",
       "      <th>6</th>\n",
       "      <td>128GB SSD</td>\n",
       "      <td>53790.85</td>\n",
       "    </tr>\n",
       "    <tr>\n",
       "      <th>7</th>\n",
       "      <td>1TB SSD</td>\n",
       "      <td>43008.00</td>\n",
       "    </tr>\n",
       "    <tr>\n",
       "      <th>8</th>\n",
       "      <td>512GB SSD +  1TB HDD</td>\n",
       "      <td>35006.26</td>\n",
       "    </tr>\n",
       "    <tr>\n",
       "      <th>9</th>\n",
       "      <td>256GB SSD +  2TB HDD</td>\n",
       "      <td>15359.14</td>\n",
       "    </tr>\n",
       "  </tbody>\n",
       "</table>\n",
       "</div>"
      ],
      "text/plain": [
       "                 Memory  Price_euros\n",
       "0             256GB SSD    506507.63\n",
       "1             512GB SSD    219575.70\n",
       "2               1TB HDD    150335.95\n",
       "3  256GB SSD +  1TB HDD    135499.11\n",
       "4  128GB SSD +  1TB HDD    119081.34\n",
       "5             500GB HDD     82885.89\n",
       "6             128GB SSD     53790.85\n",
       "7               1TB SSD     43008.00\n",
       "8  512GB SSD +  1TB HDD     35006.26\n",
       "9  256GB SSD +  2TB HDD     15359.14"
      ]
     },
     "execution_count": 38,
     "metadata": {},
     "output_type": "execute_result"
    }
   ],
   "source": [
    "top_price = data.groupby('Memory').sum()['Price_euros'].nlargest(10).reset_index()\n",
    "top_price"
   ]
  },
  {
   "cell_type": "code",
   "execution_count": 39,
   "id": "d01bd743",
   "metadata": {},
   "outputs": [
    {
     "data": {
      "text/html": [
       "<div>\n",
       "<style scoped>\n",
       "    .dataframe tbody tr th:only-of-type {\n",
       "        vertical-align: middle;\n",
       "    }\n",
       "\n",
       "    .dataframe tbody tr th {\n",
       "        vertical-align: top;\n",
       "    }\n",
       "\n",
       "    .dataframe thead th {\n",
       "        text-align: right;\n",
       "    }\n",
       "</style>\n",
       "<table border=\"1\" class=\"dataframe\">\n",
       "  <thead>\n",
       "    <tr style=\"text-align: right;\">\n",
       "      <th></th>\n",
       "      <th>laptop_ID</th>\n",
       "      <th>Company</th>\n",
       "      <th>Product</th>\n",
       "      <th>TypeName</th>\n",
       "      <th>Inches</th>\n",
       "      <th>ScreenResolution</th>\n",
       "      <th>Cpu</th>\n",
       "      <th>Ram</th>\n",
       "      <th>Memory</th>\n",
       "      <th>Gpu</th>\n",
       "      <th>OpSys</th>\n",
       "      <th>Weight</th>\n",
       "      <th>Price_euros</th>\n",
       "    </tr>\n",
       "  </thead>\n",
       "  <tbody>\n",
       "    <tr>\n",
       "      <th>0</th>\n",
       "      <td>1</td>\n",
       "      <td>Apple</td>\n",
       "      <td>MacBook Pro</td>\n",
       "      <td>Ultrabook</td>\n",
       "      <td>13.3</td>\n",
       "      <td>IPS Panel Retina Display 2560x1600</td>\n",
       "      <td>Intel Core i5 2.3GHz</td>\n",
       "      <td>8GB</td>\n",
       "      <td>128GB SSD</td>\n",
       "      <td>Intel Iris Plus Graphics 640</td>\n",
       "      <td>macOS</td>\n",
       "      <td>1.37kg</td>\n",
       "      <td>1339.69</td>\n",
       "    </tr>\n",
       "    <tr>\n",
       "      <th>1</th>\n",
       "      <td>2</td>\n",
       "      <td>Apple</td>\n",
       "      <td>Macbook Air</td>\n",
       "      <td>Ultrabook</td>\n",
       "      <td>13.3</td>\n",
       "      <td>1440x900</td>\n",
       "      <td>Intel Core i5 1.8GHz</td>\n",
       "      <td>8GB</td>\n",
       "      <td>128GB Flash Storage</td>\n",
       "      <td>Intel HD Graphics 6000</td>\n",
       "      <td>macOS</td>\n",
       "      <td>1.34kg</td>\n",
       "      <td>898.94</td>\n",
       "    </tr>\n",
       "    <tr>\n",
       "      <th>2</th>\n",
       "      <td>3</td>\n",
       "      <td>HP</td>\n",
       "      <td>250 G6</td>\n",
       "      <td>Notebook</td>\n",
       "      <td>15.6</td>\n",
       "      <td>Full HD 1920x1080</td>\n",
       "      <td>Intel Core i5 7200U 2.5GHz</td>\n",
       "      <td>8GB</td>\n",
       "      <td>256GB SSD</td>\n",
       "      <td>Intel HD Graphics 620</td>\n",
       "      <td>No OS</td>\n",
       "      <td>1.86kg</td>\n",
       "      <td>575.00</td>\n",
       "    </tr>\n",
       "    <tr>\n",
       "      <th>3</th>\n",
       "      <td>4</td>\n",
       "      <td>Apple</td>\n",
       "      <td>MacBook Pro</td>\n",
       "      <td>Ultrabook</td>\n",
       "      <td>15.4</td>\n",
       "      <td>IPS Panel Retina Display 2880x1800</td>\n",
       "      <td>Intel Core i7 2.7GHz</td>\n",
       "      <td>16GB</td>\n",
       "      <td>512GB SSD</td>\n",
       "      <td>AMD Radeon Pro 455</td>\n",
       "      <td>macOS</td>\n",
       "      <td>1.83kg</td>\n",
       "      <td>2537.45</td>\n",
       "    </tr>\n",
       "    <tr>\n",
       "      <th>4</th>\n",
       "      <td>5</td>\n",
       "      <td>Apple</td>\n",
       "      <td>MacBook Pro</td>\n",
       "      <td>Ultrabook</td>\n",
       "      <td>13.3</td>\n",
       "      <td>IPS Panel Retina Display 2560x1600</td>\n",
       "      <td>Intel Core i5 3.1GHz</td>\n",
       "      <td>8GB</td>\n",
       "      <td>256GB SSD</td>\n",
       "      <td>Intel Iris Plus Graphics 650</td>\n",
       "      <td>macOS</td>\n",
       "      <td>1.37kg</td>\n",
       "      <td>1803.60</td>\n",
       "    </tr>\n",
       "  </tbody>\n",
       "</table>\n",
       "</div>"
      ],
      "text/plain": [
       "   laptop_ID Company      Product   TypeName  Inches  \\\n",
       "0          1   Apple  MacBook Pro  Ultrabook    13.3   \n",
       "1          2   Apple  Macbook Air  Ultrabook    13.3   \n",
       "2          3      HP       250 G6   Notebook    15.6   \n",
       "3          4   Apple  MacBook Pro  Ultrabook    15.4   \n",
       "4          5   Apple  MacBook Pro  Ultrabook    13.3   \n",
       "\n",
       "                     ScreenResolution                         Cpu   Ram  \\\n",
       "0  IPS Panel Retina Display 2560x1600        Intel Core i5 2.3GHz   8GB   \n",
       "1                            1440x900        Intel Core i5 1.8GHz   8GB   \n",
       "2                   Full HD 1920x1080  Intel Core i5 7200U 2.5GHz   8GB   \n",
       "3  IPS Panel Retina Display 2880x1800        Intel Core i7 2.7GHz  16GB   \n",
       "4  IPS Panel Retina Display 2560x1600        Intel Core i5 3.1GHz   8GB   \n",
       "\n",
       "                Memory                           Gpu  OpSys  Weight  \\\n",
       "0            128GB SSD  Intel Iris Plus Graphics 640  macOS  1.37kg   \n",
       "1  128GB Flash Storage        Intel HD Graphics 6000  macOS  1.34kg   \n",
       "2            256GB SSD         Intel HD Graphics 620  No OS  1.86kg   \n",
       "3            512GB SSD            AMD Radeon Pro 455  macOS  1.83kg   \n",
       "4            256GB SSD  Intel Iris Plus Graphics 650  macOS  1.37kg   \n",
       "\n",
       "   Price_euros  \n",
       "0      1339.69  \n",
       "1       898.94  \n",
       "2       575.00  \n",
       "3      2537.45  \n",
       "4      1803.60  "
      ]
     },
     "execution_count": 39,
     "metadata": {},
     "output_type": "execute_result"
    }
   ],
   "source": [
    "data.head()"
   ]
  },
  {
   "cell_type": "code",
   "execution_count": 40,
   "id": "5ac8d32d",
   "metadata": {},
   "outputs": [
    {
     "name": "stdout",
     "output_type": "stream",
     "text": [
      "<class 'pandas.core.frame.DataFrame'>\n",
      "RangeIndex: 1303 entries, 0 to 1302\n",
      "Data columns (total 13 columns):\n",
      " #   Column            Non-Null Count  Dtype  \n",
      "---  ------            --------------  -----  \n",
      " 0   laptop_ID         1303 non-null   int64  \n",
      " 1   Company           1303 non-null   object \n",
      " 2   Product           1303 non-null   object \n",
      " 3   TypeName          1303 non-null   object \n",
      " 4   Inches            1303 non-null   float64\n",
      " 5   ScreenResolution  1303 non-null   object \n",
      " 6   Cpu               1303 non-null   object \n",
      " 7   Ram               1303 non-null   object \n",
      " 8   Memory            1303 non-null   object \n",
      " 9   Gpu               1303 non-null   object \n",
      " 10  OpSys             1303 non-null   object \n",
      " 11  Weight            1303 non-null   object \n",
      " 12  Price_euros       1303 non-null   float64\n",
      "dtypes: float64(2), int64(1), object(10)\n",
      "memory usage: 132.5+ KB\n"
     ]
    }
   ],
   "source": [
    "data.info()"
   ]
  },
  {
   "cell_type": "code",
   "execution_count": 41,
   "id": "2295e6f9",
   "metadata": {},
   "outputs": [],
   "source": [
    "data.drop(['laptop_ID', 'Product'], inplace=True, axis=1)"
   ]
  },
  {
   "cell_type": "code",
   "execution_count": 42,
   "id": "f02e57ec",
   "metadata": {},
   "outputs": [
    {
     "data": {
      "text/html": [
       "<div>\n",
       "<style scoped>\n",
       "    .dataframe tbody tr th:only-of-type {\n",
       "        vertical-align: middle;\n",
       "    }\n",
       "\n",
       "    .dataframe tbody tr th {\n",
       "        vertical-align: top;\n",
       "    }\n",
       "\n",
       "    .dataframe thead th {\n",
       "        text-align: right;\n",
       "    }\n",
       "</style>\n",
       "<table border=\"1\" class=\"dataframe\">\n",
       "  <thead>\n",
       "    <tr style=\"text-align: right;\">\n",
       "      <th></th>\n",
       "      <th>Company</th>\n",
       "      <th>TypeName</th>\n",
       "      <th>Inches</th>\n",
       "      <th>ScreenResolution</th>\n",
       "      <th>Cpu</th>\n",
       "      <th>Ram</th>\n",
       "      <th>Memory</th>\n",
       "      <th>Gpu</th>\n",
       "      <th>OpSys</th>\n",
       "      <th>Weight</th>\n",
       "      <th>Price_euros</th>\n",
       "    </tr>\n",
       "  </thead>\n",
       "  <tbody>\n",
       "    <tr>\n",
       "      <th>0</th>\n",
       "      <td>Apple</td>\n",
       "      <td>Ultrabook</td>\n",
       "      <td>13.3</td>\n",
       "      <td>IPS Panel Retina Display 2560x1600</td>\n",
       "      <td>Intel Core i5 2.3GHz</td>\n",
       "      <td>8GB</td>\n",
       "      <td>128GB SSD</td>\n",
       "      <td>Intel Iris Plus Graphics 640</td>\n",
       "      <td>macOS</td>\n",
       "      <td>1.37kg</td>\n",
       "      <td>1339.69</td>\n",
       "    </tr>\n",
       "    <tr>\n",
       "      <th>1</th>\n",
       "      <td>Apple</td>\n",
       "      <td>Ultrabook</td>\n",
       "      <td>13.3</td>\n",
       "      <td>1440x900</td>\n",
       "      <td>Intel Core i5 1.8GHz</td>\n",
       "      <td>8GB</td>\n",
       "      <td>128GB Flash Storage</td>\n",
       "      <td>Intel HD Graphics 6000</td>\n",
       "      <td>macOS</td>\n",
       "      <td>1.34kg</td>\n",
       "      <td>898.94</td>\n",
       "    </tr>\n",
       "    <tr>\n",
       "      <th>2</th>\n",
       "      <td>HP</td>\n",
       "      <td>Notebook</td>\n",
       "      <td>15.6</td>\n",
       "      <td>Full HD 1920x1080</td>\n",
       "      <td>Intel Core i5 7200U 2.5GHz</td>\n",
       "      <td>8GB</td>\n",
       "      <td>256GB SSD</td>\n",
       "      <td>Intel HD Graphics 620</td>\n",
       "      <td>No OS</td>\n",
       "      <td>1.86kg</td>\n",
       "      <td>575.00</td>\n",
       "    </tr>\n",
       "    <tr>\n",
       "      <th>3</th>\n",
       "      <td>Apple</td>\n",
       "      <td>Ultrabook</td>\n",
       "      <td>15.4</td>\n",
       "      <td>IPS Panel Retina Display 2880x1800</td>\n",
       "      <td>Intel Core i7 2.7GHz</td>\n",
       "      <td>16GB</td>\n",
       "      <td>512GB SSD</td>\n",
       "      <td>AMD Radeon Pro 455</td>\n",
       "      <td>macOS</td>\n",
       "      <td>1.83kg</td>\n",
       "      <td>2537.45</td>\n",
       "    </tr>\n",
       "    <tr>\n",
       "      <th>4</th>\n",
       "      <td>Apple</td>\n",
       "      <td>Ultrabook</td>\n",
       "      <td>13.3</td>\n",
       "      <td>IPS Panel Retina Display 2560x1600</td>\n",
       "      <td>Intel Core i5 3.1GHz</td>\n",
       "      <td>8GB</td>\n",
       "      <td>256GB SSD</td>\n",
       "      <td>Intel Iris Plus Graphics 650</td>\n",
       "      <td>macOS</td>\n",
       "      <td>1.37kg</td>\n",
       "      <td>1803.60</td>\n",
       "    </tr>\n",
       "  </tbody>\n",
       "</table>\n",
       "</div>"
      ],
      "text/plain": [
       "  Company   TypeName  Inches                    ScreenResolution  \\\n",
       "0   Apple  Ultrabook    13.3  IPS Panel Retina Display 2560x1600   \n",
       "1   Apple  Ultrabook    13.3                            1440x900   \n",
       "2      HP   Notebook    15.6                   Full HD 1920x1080   \n",
       "3   Apple  Ultrabook    15.4  IPS Panel Retina Display 2880x1800   \n",
       "4   Apple  Ultrabook    13.3  IPS Panel Retina Display 2560x1600   \n",
       "\n",
       "                          Cpu   Ram               Memory  \\\n",
       "0        Intel Core i5 2.3GHz   8GB            128GB SSD   \n",
       "1        Intel Core i5 1.8GHz   8GB  128GB Flash Storage   \n",
       "2  Intel Core i5 7200U 2.5GHz   8GB            256GB SSD   \n",
       "3        Intel Core i7 2.7GHz  16GB            512GB SSD   \n",
       "4        Intel Core i5 3.1GHz   8GB            256GB SSD   \n",
       "\n",
       "                            Gpu  OpSys  Weight  Price_euros  \n",
       "0  Intel Iris Plus Graphics 640  macOS  1.37kg      1339.69  \n",
       "1        Intel HD Graphics 6000  macOS  1.34kg       898.94  \n",
       "2         Intel HD Graphics 620  No OS  1.86kg       575.00  \n",
       "3            AMD Radeon Pro 455  macOS  1.83kg      2537.45  \n",
       "4  Intel Iris Plus Graphics 650  macOS  1.37kg      1803.60  "
      ]
     },
     "execution_count": 42,
     "metadata": {},
     "output_type": "execute_result"
    }
   ],
   "source": [
    "data.head()"
   ]
  },
  {
   "cell_type": "code",
   "execution_count": 43,
   "id": "30724420",
   "metadata": {},
   "outputs": [],
   "source": [
    "data['Ram'] = data['Ram'].replace('GB','')"
   ]
  },
  {
   "cell_type": "code",
   "execution_count": 44,
   "id": "04f788b4",
   "metadata": {},
   "outputs": [
    {
     "data": {
      "text/plain": [
       "0        8GB\n",
       "1        8GB\n",
       "2        8GB\n",
       "3       16GB\n",
       "4        8GB\n",
       "        ... \n",
       "1298     4GB\n",
       "1299    16GB\n",
       "1300     2GB\n",
       "1301     6GB\n",
       "1302     4GB\n",
       "Name: Ram, Length: 1303, dtype: object"
      ]
     },
     "execution_count": 44,
     "metadata": {},
     "output_type": "execute_result"
    }
   ],
   "source": [
    "data['Ram']"
   ]
  },
  {
   "cell_type": "code",
   "execution_count": 45,
   "id": "9a58c227",
   "metadata": {},
   "outputs": [],
   "source": [
    "data['Weight'] = data['Weight'].str.replace('kg','')"
   ]
  },
  {
   "cell_type": "code",
   "execution_count": 46,
   "id": "f84dc89e",
   "metadata": {},
   "outputs": [
    {
     "data": {
      "text/plain": [
       "0       1.37\n",
       "1       1.34\n",
       "2       1.86\n",
       "3       1.83\n",
       "4       1.37\n",
       "        ... \n",
       "1298     1.8\n",
       "1299     1.3\n",
       "1300     1.5\n",
       "1301    2.19\n",
       "1302     2.2\n",
       "Name: Weight, Length: 1303, dtype: object"
      ]
     },
     "execution_count": 46,
     "metadata": {},
     "output_type": "execute_result"
    }
   ],
   "source": [
    "data['Weight']"
   ]
  },
  {
   "cell_type": "code",
   "execution_count": 47,
   "id": "4c634cad",
   "metadata": {},
   "outputs": [],
   "source": [
    "data['Weight'] = data['Weight'].astype(float)"
   ]
  },
  {
   "cell_type": "code",
   "execution_count": 48,
   "id": "15694307",
   "metadata": {},
   "outputs": [
    {
     "name": "stdout",
     "output_type": "stream",
     "text": [
      "<class 'pandas.core.frame.DataFrame'>\n",
      "RangeIndex: 1303 entries, 0 to 1302\n",
      "Data columns (total 11 columns):\n",
      " #   Column            Non-Null Count  Dtype  \n",
      "---  ------            --------------  -----  \n",
      " 0   Company           1303 non-null   object \n",
      " 1   TypeName          1303 non-null   object \n",
      " 2   Inches            1303 non-null   float64\n",
      " 3   ScreenResolution  1303 non-null   object \n",
      " 4   Cpu               1303 non-null   object \n",
      " 5   Ram               1303 non-null   object \n",
      " 6   Memory            1303 non-null   object \n",
      " 7   Gpu               1303 non-null   object \n",
      " 8   OpSys             1303 non-null   object \n",
      " 9   Weight            1303 non-null   float64\n",
      " 10  Price_euros       1303 non-null   float64\n",
      "dtypes: float64(3), object(8)\n",
      "memory usage: 112.1+ KB\n"
     ]
    }
   ],
   "source": [
    "data.info()"
   ]
  },
  {
   "cell_type": "code",
   "execution_count": 49,
   "id": "28b7dfc8",
   "metadata": {},
   "outputs": [
    {
     "data": {
      "text/plain": [
       "Inches         0.068197\n",
       "Weight         0.210370\n",
       "Price_euros    1.000000\n",
       "Name: Price_euros, dtype: float64"
      ]
     },
     "execution_count": 49,
     "metadata": {},
     "output_type": "execute_result"
    }
   ],
   "source": [
    "data.corr()['Price_euros'].sort_values()"
   ]
  },
  {
   "cell_type": "code",
   "execution_count": 51,
   "id": "c705eb2a",
   "metadata": {},
   "outputs": [
    {
     "data": {
      "text/plain": [
       "TypeName_Notebook           -0.549248\n",
       "Ram_4GB                     -0.499561\n",
       "ScreenResolution_1366x768   -0.436359\n",
       "Memory_1TB HDD              -0.292340\n",
       "Memory_500GB HDD            -0.238214\n",
       "                               ...   \n",
       "Memory_512GB SSD             0.332894\n",
       "TypeName_Gaming              0.375789\n",
       "Ram_32GB                     0.376712\n",
       "Ram_16GB                     0.495503\n",
       "Price_euros                  1.000000\n",
       "Name: Price_euros, Length: 353, dtype: float64"
      ]
     },
     "execution_count": 51,
     "metadata": {},
     "output_type": "execute_result"
    }
   ],
   "source": [
    "data.corr()['Price_euros'].sort_values()"
   ]
  },
  {
   "cell_type": "code",
   "execution_count": 52,
   "id": "89a976a4",
   "metadata": {},
   "outputs": [],
   "source": [
    "x = data.drop('Price_euros', axis=1).values\n",
    "y = data['Price_euros'].values"
   ]
  },
  {
   "cell_type": "code",
   "execution_count": 53,
   "id": "f7db2b00",
   "metadata": {},
   "outputs": [],
   "source": [
    "from sklearn.model_selection import train_test_split\n",
    "train_x, test_x, train_y, test_y = train_test_split(x,y, test_size=0.2)"
   ]
  },
  {
   "cell_type": "code",
   "execution_count": 54,
   "id": "96dacccb",
   "metadata": {},
   "outputs": [],
   "source": [
    "from sklearn.ensemble import RandomForestRegressor"
   ]
  },
  {
   "cell_type": "code",
   "execution_count": 55,
   "id": "55ac2b1b",
   "metadata": {},
   "outputs": [
    {
     "data": {
      "text/plain": [
       "RandomForestRegressor()"
      ]
     },
     "execution_count": 55,
     "metadata": {},
     "output_type": "execute_result"
    }
   ],
   "source": [
    "model=  RandomForestRegressor()\n",
    "model.fit(train_x, train_y)  #train model"
   ]
  },
  {
   "cell_type": "code",
   "execution_count": 56,
   "id": "c49c9cb8",
   "metadata": {},
   "outputs": [],
   "source": [
    "from sklearn.metrics import mean_squared_error, r2_score"
   ]
  },
  {
   "cell_type": "code",
   "execution_count": 57,
   "id": "41080127",
   "metadata": {},
   "outputs": [
    {
     "name": "stdout",
     "output_type": "stream",
     "text": [
      "MSE on Train : 119.93048037840983\n",
      "R2 on train : 0.9717062798040467\n",
      "MSE on test : 268.2316394052436\n",
      "R2 on test : 0.8233301280191263\n"
     ]
    }
   ],
   "source": [
    "y_pred_tr = model.predict(train_x)        # علشان نعرف فيه اوفر او اندر فيت\n",
    "print('MSE on Train :', np.sqrt(mean_squared_error(train_y, y_pred_tr)))\n",
    "print('R2 on train :', model.score(train_x, train_y))\n",
    "y_pred = model.predict(test_x)\n",
    "print('MSE on test :', np.sqrt(mean_squared_error(test_y, y_pred)))\n",
    "print('R2 on test :', model.score(test_x, test_y))"
   ]
  },
  {
   "cell_type": "code",
   "execution_count": 78,
   "id": "6f09c95a",
   "metadata": {},
   "outputs": [],
   "source": [
    "from sklearn.model_selection import GridSearchCV\n",
    "param = {'n_estimators':[60,70,80,90],\n",
    "        'min_samples_split':[7,8,9,10,11],\n",
    "        'max_depth': [13,14,15,16]}"
   ]
  },
  {
   "cell_type": "code",
   "execution_count": 79,
   "id": "0e1fd38e",
   "metadata": {},
   "outputs": [],
   "source": [
    "rf = RandomForestRegressor()"
   ]
  },
  {
   "cell_type": "code",
   "execution_count": 80,
   "id": "ae4a2fd2",
   "metadata": {},
   "outputs": [
    {
     "data": {
      "text/plain": [
       "GridSearchCV(cv=5, estimator=RandomForestRegressor(),\n",
       "             param_grid={'max_depth': [13, 14, 15, 16],\n",
       "                         'min_samples_split': [7, 8, 9, 10, 11],\n",
       "                         'n_estimators': [60, 70, 80, 90]},\n",
       "             scoring='neg_mean_squared_error')"
      ]
     },
     "execution_count": 80,
     "metadata": {},
     "output_type": "execute_result"
    }
   ],
   "source": [
    "grid_s = GridSearchCV(estimator=rf, param_grid = param, cv = 5, scoring='neg_mean_squared_error')\n",
    "grid_s.fit(train_x, train_y)"
   ]
  },
  {
   "cell_type": "code",
   "execution_count": 81,
   "id": "00e89644",
   "metadata": {},
   "outputs": [
    {
     "data": {
      "text/plain": [
       "{'max_depth': 14, 'min_samples_split': 8, 'n_estimators': 70}"
      ]
     },
     "execution_count": 81,
     "metadata": {},
     "output_type": "execute_result"
    }
   ],
   "source": [
    "grid_s.best_params_"
   ]
  },
  {
   "cell_type": "code",
   "execution_count": 82,
   "id": "85295db9",
   "metadata": {},
   "outputs": [
    {
     "name": "stdout",
     "output_type": "stream",
     "text": [
      "MSE on Train : 119.93048037840983\n",
      "R2 on train : 0.9298822937955866\n",
      "MSE on test : 275.17375737220516\n",
      "R2 on test : 0.8140669838577295\n"
     ]
    }
   ],
   "source": [
    "model = RandomForestRegressor(**grid_s.best_params_)\n",
    "model.fit(train_x, train_y)\n",
    "Y_pred_tr = model.predict(train_x)\n",
    "print('MSE on Train :', np.sqrt(mean_squared_error(train_y, y_pred_tr)))\n",
    "print('R2 on train :', model.score(train_x, train_y))\n",
    "y_pred = model.predict(test_x)\n",
    "print('MSE on test :', np.sqrt(mean_squared_error(test_y, y_pred)))\n",
    "print('R2 on test :', model.score(test_x, test_y))"
   ]
  },
  {
   "cell_type": "code",
   "execution_count": null,
   "id": "2d372b4b",
   "metadata": {},
   "outputs": [],
   "source": []
  }
 ],
 "metadata": {
  "kernelspec": {
   "display_name": "Python 3 (ipykernel)",
   "language": "python",
   "name": "python3"
  },
  "language_info": {
   "codemirror_mode": {
    "name": "ipython",
    "version": 3
   },
   "file_extension": ".py",
   "mimetype": "text/x-python",
   "name": "python",
   "nbconvert_exporter": "python",
   "pygments_lexer": "ipython3",
   "version": "3.9.7"
  }
 },
 "nbformat": 4,
 "nbformat_minor": 5
}

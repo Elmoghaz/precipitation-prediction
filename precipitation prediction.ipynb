{
 "cells": [
  {
   "cell_type": "markdown",
   "id": "397a6295",
   "metadata": {},
   "source": [
    "## This data was utilized to predict the amount of precipitation (mm/day) based on historical climate data. "
   ]
  },
  {
   "cell_type": "code",
   "execution_count": 1,
   "id": "e61d27cf",
   "metadata": {},
   "outputs": [],
   "source": [
    "import numpy as np\n",
    "import pandas as pd\n",
    "import seaborn as sns\n",
    "from matplotlib import pyplot as plt"
   ]
  },
  {
   "cell_type": "code",
   "execution_count": 2,
   "id": "9f8ab9b9",
   "metadata": {},
   "outputs": [
    {
     "data": {
      "text/html": [
       "<div>\n",
       "<style scoped>\n",
       "    .dataframe tbody tr th:only-of-type {\n",
       "        vertical-align: middle;\n",
       "    }\n",
       "\n",
       "    .dataframe tbody tr th {\n",
       "        vertical-align: top;\n",
       "    }\n",
       "\n",
       "    .dataframe thead th {\n",
       "        text-align: right;\n",
       "    }\n",
       "</style>\n",
       "<table border=\"1\" class=\"dataframe\">\n",
       "  <thead>\n",
       "    <tr style=\"text-align: right;\">\n",
       "      <th></th>\n",
       "      <th>YEAR</th>\n",
       "      <th>DOY</th>\n",
       "      <th>TopOfAtmosphereIrradiance</th>\n",
       "      <th>Sky-Surface-PAR</th>\n",
       "      <th>MeanTemperature_c</th>\n",
       "      <th>DewFrostPoint_C</th>\n",
       "      <th>MinTemperature_C</th>\n",
       "      <th>MaxTemperature_C</th>\n",
       "      <th>RH_%</th>\n",
       "      <th>SurfacePressure_kPa</th>\n",
       "      <th>WindSpeed</th>\n",
       "      <th>Max_Wind_Speed</th>\n",
       "      <th>Min-Wind-Speed</th>\n",
       "      <th>Precipitation</th>\n",
       "    </tr>\n",
       "  </thead>\n",
       "  <tbody>\n",
       "    <tr>\n",
       "      <th>0</th>\n",
       "      <td>1982</td>\n",
       "      <td>1</td>\n",
       "      <td>NaN</td>\n",
       "      <td>NaN</td>\n",
       "      <td>24.55</td>\n",
       "      <td>21.76</td>\n",
       "      <td>21.04</td>\n",
       "      <td>28.43</td>\n",
       "      <td>85.31</td>\n",
       "      <td>96.73</td>\n",
       "      <td>0.45</td>\n",
       "      <td>0.68</td>\n",
       "      <td>0.11</td>\n",
       "      <td>2.32</td>\n",
       "    </tr>\n",
       "    <tr>\n",
       "      <th>1</th>\n",
       "      <td>1982</td>\n",
       "      <td>2</td>\n",
       "      <td>NaN</td>\n",
       "      <td>NaN</td>\n",
       "      <td>25.44</td>\n",
       "      <td>21.68</td>\n",
       "      <td>21.39</td>\n",
       "      <td>29.51</td>\n",
       "      <td>80.50</td>\n",
       "      <td>96.60</td>\n",
       "      <td>0.30</td>\n",
       "      <td>0.60</td>\n",
       "      <td>0.02</td>\n",
       "      <td>0.73</td>\n",
       "    </tr>\n",
       "    <tr>\n",
       "      <th>2</th>\n",
       "      <td>1982</td>\n",
       "      <td>3</td>\n",
       "      <td>NaN</td>\n",
       "      <td>NaN</td>\n",
       "      <td>24.90</td>\n",
       "      <td>22.59</td>\n",
       "      <td>22.26</td>\n",
       "      <td>28.30</td>\n",
       "      <td>87.44</td>\n",
       "      <td>96.61</td>\n",
       "      <td>0.43</td>\n",
       "      <td>0.62</td>\n",
       "      <td>0.30</td>\n",
       "      <td>1.02</td>\n",
       "    </tr>\n",
       "    <tr>\n",
       "      <th>3</th>\n",
       "      <td>1982</td>\n",
       "      <td>4</td>\n",
       "      <td>NaN</td>\n",
       "      <td>NaN</td>\n",
       "      <td>24.40</td>\n",
       "      <td>22.35</td>\n",
       "      <td>21.76</td>\n",
       "      <td>27.78</td>\n",
       "      <td>88.94</td>\n",
       "      <td>96.70</td>\n",
       "      <td>0.47</td>\n",
       "      <td>0.59</td>\n",
       "      <td>0.21</td>\n",
       "      <td>3.88</td>\n",
       "    </tr>\n",
       "    <tr>\n",
       "      <th>4</th>\n",
       "      <td>1982</td>\n",
       "      <td>5</td>\n",
       "      <td>NaN</td>\n",
       "      <td>NaN</td>\n",
       "      <td>23.95</td>\n",
       "      <td>21.35</td>\n",
       "      <td>21.73</td>\n",
       "      <td>26.94</td>\n",
       "      <td>86.19</td>\n",
       "      <td>96.79</td>\n",
       "      <td>0.41</td>\n",
       "      <td>0.58</td>\n",
       "      <td>0.15</td>\n",
       "      <td>1.53</td>\n",
       "    </tr>\n",
       "    <tr>\n",
       "      <th>...</th>\n",
       "      <td>...</td>\n",
       "      <td>...</td>\n",
       "      <td>...</td>\n",
       "      <td>...</td>\n",
       "      <td>...</td>\n",
       "      <td>...</td>\n",
       "      <td>...</td>\n",
       "      <td>...</td>\n",
       "      <td>...</td>\n",
       "      <td>...</td>\n",
       "      <td>...</td>\n",
       "      <td>...</td>\n",
       "      <td>...</td>\n",
       "      <td>...</td>\n",
       "    </tr>\n",
       "    <tr>\n",
       "      <th>15029</th>\n",
       "      <td>2023</td>\n",
       "      <td>55</td>\n",
       "      <td>37.89</td>\n",
       "      <td>NaN</td>\n",
       "      <td>25.03</td>\n",
       "      <td>23.18</td>\n",
       "      <td>22.23</td>\n",
       "      <td>28.48</td>\n",
       "      <td>89.94</td>\n",
       "      <td>96.73</td>\n",
       "      <td>0.52</td>\n",
       "      <td>0.82</td>\n",
       "      <td>0.30</td>\n",
       "      <td>2.31</td>\n",
       "    </tr>\n",
       "    <tr>\n",
       "      <th>15030</th>\n",
       "      <td>2023</td>\n",
       "      <td>56</td>\n",
       "      <td>37.91</td>\n",
       "      <td>NaN</td>\n",
       "      <td>25.92</td>\n",
       "      <td>23.23</td>\n",
       "      <td>22.14</td>\n",
       "      <td>30.16</td>\n",
       "      <td>85.94</td>\n",
       "      <td>96.73</td>\n",
       "      <td>0.62</td>\n",
       "      <td>1.03</td>\n",
       "      <td>0.37</td>\n",
       "      <td>0.97</td>\n",
       "    </tr>\n",
       "    <tr>\n",
       "      <th>15031</th>\n",
       "      <td>2023</td>\n",
       "      <td>57</td>\n",
       "      <td>37.93</td>\n",
       "      <td>NaN</td>\n",
       "      <td>25.80</td>\n",
       "      <td>23.10</td>\n",
       "      <td>22.72</td>\n",
       "      <td>28.90</td>\n",
       "      <td>85.62</td>\n",
       "      <td>96.84</td>\n",
       "      <td>0.40</td>\n",
       "      <td>0.64</td>\n",
       "      <td>0.07</td>\n",
       "      <td>1.61</td>\n",
       "    </tr>\n",
       "    <tr>\n",
       "      <th>15032</th>\n",
       "      <td>2023</td>\n",
       "      <td>58</td>\n",
       "      <td>37.95</td>\n",
       "      <td>NaN</td>\n",
       "      <td>25.46</td>\n",
       "      <td>23.19</td>\n",
       "      <td>22.62</td>\n",
       "      <td>29.22</td>\n",
       "      <td>87.81</td>\n",
       "      <td>96.94</td>\n",
       "      <td>0.28</td>\n",
       "      <td>0.45</td>\n",
       "      <td>0.05</td>\n",
       "      <td>5.44</td>\n",
       "    </tr>\n",
       "    <tr>\n",
       "      <th>15033</th>\n",
       "      <td>2023</td>\n",
       "      <td>59</td>\n",
       "      <td>NaN</td>\n",
       "      <td>NaN</td>\n",
       "      <td>25.54</td>\n",
       "      <td>23.01</td>\n",
       "      <td>22.20</td>\n",
       "      <td>29.15</td>\n",
       "      <td>86.50</td>\n",
       "      <td>96.94</td>\n",
       "      <td>0.46</td>\n",
       "      <td>0.77</td>\n",
       "      <td>0.27</td>\n",
       "      <td>2.21</td>\n",
       "    </tr>\n",
       "  </tbody>\n",
       "</table>\n",
       "<p>15034 rows × 14 columns</p>\n",
       "</div>"
      ],
      "text/plain": [
       "       YEAR  DOY  TopOfAtmosphereIrradiance  Sky-Surface-PAR  \\\n",
       "0      1982    1                        NaN              NaN   \n",
       "1      1982    2                        NaN              NaN   \n",
       "2      1982    3                        NaN              NaN   \n",
       "3      1982    4                        NaN              NaN   \n",
       "4      1982    5                        NaN              NaN   \n",
       "...     ...  ...                        ...              ...   \n",
       "15029  2023   55                      37.89              NaN   \n",
       "15030  2023   56                      37.91              NaN   \n",
       "15031  2023   57                      37.93              NaN   \n",
       "15032  2023   58                      37.95              NaN   \n",
       "15033  2023   59                        NaN              NaN   \n",
       "\n",
       "       MeanTemperature_c  DewFrostPoint_C  MinTemperature_C  MaxTemperature_C  \\\n",
       "0                  24.55            21.76             21.04             28.43   \n",
       "1                  25.44            21.68             21.39             29.51   \n",
       "2                  24.90            22.59             22.26             28.30   \n",
       "3                  24.40            22.35             21.76             27.78   \n",
       "4                  23.95            21.35             21.73             26.94   \n",
       "...                  ...              ...               ...               ...   \n",
       "15029              25.03            23.18             22.23             28.48   \n",
       "15030              25.92            23.23             22.14             30.16   \n",
       "15031              25.80            23.10             22.72             28.90   \n",
       "15032              25.46            23.19             22.62             29.22   \n",
       "15033              25.54            23.01             22.20             29.15   \n",
       "\n",
       "        RH_%  SurfacePressure_kPa  WindSpeed  Max_Wind_Speed  Min-Wind-Speed  \\\n",
       "0      85.31                96.73       0.45            0.68            0.11   \n",
       "1      80.50                96.60       0.30            0.60            0.02   \n",
       "2      87.44                96.61       0.43            0.62            0.30   \n",
       "3      88.94                96.70       0.47            0.59            0.21   \n",
       "4      86.19                96.79       0.41            0.58            0.15   \n",
       "...      ...                  ...        ...             ...             ...   \n",
       "15029  89.94                96.73       0.52            0.82            0.30   \n",
       "15030  85.94                96.73       0.62            1.03            0.37   \n",
       "15031  85.62                96.84       0.40            0.64            0.07   \n",
       "15032  87.81                96.94       0.28            0.45            0.05   \n",
       "15033  86.50                96.94       0.46            0.77            0.27   \n",
       "\n",
       "       Precipitation  \n",
       "0               2.32  \n",
       "1               0.73  \n",
       "2               1.02  \n",
       "3               3.88  \n",
       "4               1.53  \n",
       "...              ...  \n",
       "15029           2.31  \n",
       "15030           0.97  \n",
       "15031           1.61  \n",
       "15032           5.44  \n",
       "15033           2.21  \n",
       "\n",
       "[15034 rows x 14 columns]"
      ]
     },
     "execution_count": 2,
     "metadata": {},
     "output_type": "execute_result"
    }
   ],
   "source": [
    "data = pd.read_csv('precipitation prediction.csv', skipinitialspace=True)\n",
    "data"
   ]
  },
  {
   "cell_type": "code",
   "execution_count": 3,
   "id": "3bc33146",
   "metadata": {},
   "outputs": [
    {
     "data": {
      "text/html": [
       "<div>\n",
       "<style scoped>\n",
       "    .dataframe tbody tr th:only-of-type {\n",
       "        vertical-align: middle;\n",
       "    }\n",
       "\n",
       "    .dataframe tbody tr th {\n",
       "        vertical-align: top;\n",
       "    }\n",
       "\n",
       "    .dataframe thead th {\n",
       "        text-align: right;\n",
       "    }\n",
       "</style>\n",
       "<table border=\"1\" class=\"dataframe\">\n",
       "  <thead>\n",
       "    <tr style=\"text-align: right;\">\n",
       "      <th></th>\n",
       "      <th>YEAR</th>\n",
       "      <th>DOY</th>\n",
       "      <th>TopOfAtmosphereIrradiance</th>\n",
       "      <th>Sky-Surface-PAR</th>\n",
       "      <th>MeanTemperature_c</th>\n",
       "      <th>DewFrostPoint_C</th>\n",
       "      <th>MinTemperature_C</th>\n",
       "      <th>MaxTemperature_C</th>\n",
       "      <th>RH_%</th>\n",
       "      <th>SurfacePressure_kPa</th>\n",
       "      <th>WindSpeed</th>\n",
       "      <th>Max_Wind_Speed</th>\n",
       "      <th>Min-Wind-Speed</th>\n",
       "      <th>Precipitation</th>\n",
       "    </tr>\n",
       "  </thead>\n",
       "  <tbody>\n",
       "    <tr>\n",
       "      <th>0</th>\n",
       "      <td>1982</td>\n",
       "      <td>1</td>\n",
       "      <td>NaN</td>\n",
       "      <td>NaN</td>\n",
       "      <td>24.55</td>\n",
       "      <td>21.76</td>\n",
       "      <td>21.04</td>\n",
       "      <td>28.43</td>\n",
       "      <td>85.31</td>\n",
       "      <td>96.73</td>\n",
       "      <td>0.45</td>\n",
       "      <td>0.68</td>\n",
       "      <td>0.11</td>\n",
       "      <td>2.32</td>\n",
       "    </tr>\n",
       "    <tr>\n",
       "      <th>1</th>\n",
       "      <td>1982</td>\n",
       "      <td>2</td>\n",
       "      <td>NaN</td>\n",
       "      <td>NaN</td>\n",
       "      <td>25.44</td>\n",
       "      <td>21.68</td>\n",
       "      <td>21.39</td>\n",
       "      <td>29.51</td>\n",
       "      <td>80.50</td>\n",
       "      <td>96.60</td>\n",
       "      <td>0.30</td>\n",
       "      <td>0.60</td>\n",
       "      <td>0.02</td>\n",
       "      <td>0.73</td>\n",
       "    </tr>\n",
       "    <tr>\n",
       "      <th>2</th>\n",
       "      <td>1982</td>\n",
       "      <td>3</td>\n",
       "      <td>NaN</td>\n",
       "      <td>NaN</td>\n",
       "      <td>24.90</td>\n",
       "      <td>22.59</td>\n",
       "      <td>22.26</td>\n",
       "      <td>28.30</td>\n",
       "      <td>87.44</td>\n",
       "      <td>96.61</td>\n",
       "      <td>0.43</td>\n",
       "      <td>0.62</td>\n",
       "      <td>0.30</td>\n",
       "      <td>1.02</td>\n",
       "    </tr>\n",
       "    <tr>\n",
       "      <th>3</th>\n",
       "      <td>1982</td>\n",
       "      <td>4</td>\n",
       "      <td>NaN</td>\n",
       "      <td>NaN</td>\n",
       "      <td>24.40</td>\n",
       "      <td>22.35</td>\n",
       "      <td>21.76</td>\n",
       "      <td>27.78</td>\n",
       "      <td>88.94</td>\n",
       "      <td>96.70</td>\n",
       "      <td>0.47</td>\n",
       "      <td>0.59</td>\n",
       "      <td>0.21</td>\n",
       "      <td>3.88</td>\n",
       "    </tr>\n",
       "    <tr>\n",
       "      <th>4</th>\n",
       "      <td>1982</td>\n",
       "      <td>5</td>\n",
       "      <td>NaN</td>\n",
       "      <td>NaN</td>\n",
       "      <td>23.95</td>\n",
       "      <td>21.35</td>\n",
       "      <td>21.73</td>\n",
       "      <td>26.94</td>\n",
       "      <td>86.19</td>\n",
       "      <td>96.79</td>\n",
       "      <td>0.41</td>\n",
       "      <td>0.58</td>\n",
       "      <td>0.15</td>\n",
       "      <td>1.53</td>\n",
       "    </tr>\n",
       "    <tr>\n",
       "      <th>5</th>\n",
       "      <td>1982</td>\n",
       "      <td>6</td>\n",
       "      <td>NaN</td>\n",
       "      <td>NaN</td>\n",
       "      <td>23.96</td>\n",
       "      <td>21.23</td>\n",
       "      <td>20.84</td>\n",
       "      <td>27.70</td>\n",
       "      <td>85.56</td>\n",
       "      <td>96.74</td>\n",
       "      <td>0.41</td>\n",
       "      <td>0.59</td>\n",
       "      <td>0.11</td>\n",
       "      <td>0.41</td>\n",
       "    </tr>\n",
       "    <tr>\n",
       "      <th>6</th>\n",
       "      <td>1982</td>\n",
       "      <td>7</td>\n",
       "      <td>NaN</td>\n",
       "      <td>NaN</td>\n",
       "      <td>24.41</td>\n",
       "      <td>22.08</td>\n",
       "      <td>21.05</td>\n",
       "      <td>27.95</td>\n",
       "      <td>87.38</td>\n",
       "      <td>96.74</td>\n",
       "      <td>0.56</td>\n",
       "      <td>0.84</td>\n",
       "      <td>0.32</td>\n",
       "      <td>11.72</td>\n",
       "    </tr>\n",
       "    <tr>\n",
       "      <th>7</th>\n",
       "      <td>1982</td>\n",
       "      <td>8</td>\n",
       "      <td>NaN</td>\n",
       "      <td>NaN</td>\n",
       "      <td>24.13</td>\n",
       "      <td>21.76</td>\n",
       "      <td>21.72</td>\n",
       "      <td>27.21</td>\n",
       "      <td>87.31</td>\n",
       "      <td>96.84</td>\n",
       "      <td>0.45</td>\n",
       "      <td>0.69</td>\n",
       "      <td>0.34</td>\n",
       "      <td>5.52</td>\n",
       "    </tr>\n",
       "    <tr>\n",
       "      <th>8</th>\n",
       "      <td>1982</td>\n",
       "      <td>9</td>\n",
       "      <td>NaN</td>\n",
       "      <td>NaN</td>\n",
       "      <td>23.30</td>\n",
       "      <td>21.52</td>\n",
       "      <td>21.14</td>\n",
       "      <td>25.76</td>\n",
       "      <td>90.12</td>\n",
       "      <td>96.97</td>\n",
       "      <td>0.50</td>\n",
       "      <td>0.80</td>\n",
       "      <td>0.30</td>\n",
       "      <td>4.17</td>\n",
       "    </tr>\n",
       "    <tr>\n",
       "      <th>9</th>\n",
       "      <td>1982</td>\n",
       "      <td>10</td>\n",
       "      <td>NaN</td>\n",
       "      <td>NaN</td>\n",
       "      <td>23.30</td>\n",
       "      <td>21.89</td>\n",
       "      <td>21.48</td>\n",
       "      <td>25.31</td>\n",
       "      <td>91.81</td>\n",
       "      <td>96.89</td>\n",
       "      <td>0.50</td>\n",
       "      <td>0.74</td>\n",
       "      <td>0.13</td>\n",
       "      <td>5.52</td>\n",
       "    </tr>\n",
       "  </tbody>\n",
       "</table>\n",
       "</div>"
      ],
      "text/plain": [
       "   YEAR  DOY  TopOfAtmosphereIrradiance  Sky-Surface-PAR  MeanTemperature_c  \\\n",
       "0  1982    1                        NaN              NaN              24.55   \n",
       "1  1982    2                        NaN              NaN              25.44   \n",
       "2  1982    3                        NaN              NaN              24.90   \n",
       "3  1982    4                        NaN              NaN              24.40   \n",
       "4  1982    5                        NaN              NaN              23.95   \n",
       "5  1982    6                        NaN              NaN              23.96   \n",
       "6  1982    7                        NaN              NaN              24.41   \n",
       "7  1982    8                        NaN              NaN              24.13   \n",
       "8  1982    9                        NaN              NaN              23.30   \n",
       "9  1982   10                        NaN              NaN              23.30   \n",
       "\n",
       "   DewFrostPoint_C  MinTemperature_C  MaxTemperature_C   RH_%  \\\n",
       "0            21.76             21.04             28.43  85.31   \n",
       "1            21.68             21.39             29.51  80.50   \n",
       "2            22.59             22.26             28.30  87.44   \n",
       "3            22.35             21.76             27.78  88.94   \n",
       "4            21.35             21.73             26.94  86.19   \n",
       "5            21.23             20.84             27.70  85.56   \n",
       "6            22.08             21.05             27.95  87.38   \n",
       "7            21.76             21.72             27.21  87.31   \n",
       "8            21.52             21.14             25.76  90.12   \n",
       "9            21.89             21.48             25.31  91.81   \n",
       "\n",
       "   SurfacePressure_kPa  WindSpeed  Max_Wind_Speed  Min-Wind-Speed  \\\n",
       "0                96.73       0.45            0.68            0.11   \n",
       "1                96.60       0.30            0.60            0.02   \n",
       "2                96.61       0.43            0.62            0.30   \n",
       "3                96.70       0.47            0.59            0.21   \n",
       "4                96.79       0.41            0.58            0.15   \n",
       "5                96.74       0.41            0.59            0.11   \n",
       "6                96.74       0.56            0.84            0.32   \n",
       "7                96.84       0.45            0.69            0.34   \n",
       "8                96.97       0.50            0.80            0.30   \n",
       "9                96.89       0.50            0.74            0.13   \n",
       "\n",
       "   Precipitation  \n",
       "0           2.32  \n",
       "1           0.73  \n",
       "2           1.02  \n",
       "3           3.88  \n",
       "4           1.53  \n",
       "5           0.41  \n",
       "6          11.72  \n",
       "7           5.52  \n",
       "8           4.17  \n",
       "9           5.52  "
      ]
     },
     "execution_count": 3,
     "metadata": {},
     "output_type": "execute_result"
    }
   ],
   "source": [
    "data.head(10)"
   ]
  },
  {
   "cell_type": "code",
   "execution_count": 4,
   "id": "02aafeeb",
   "metadata": {},
   "outputs": [
    {
     "data": {
      "text/plain": [
       "Index(['YEAR', 'DOY', 'TopOfAtmosphereIrradiance', 'Sky-Surface-PAR',\n",
       "       'MeanTemperature_c', 'DewFrostPoint_C', 'MinTemperature_C',\n",
       "       'MaxTemperature_C', 'RH_%', 'SurfacePressure_kPa', 'WindSpeed',\n",
       "       'Max_Wind_Speed', 'Min-Wind-Speed', 'Precipitation'],\n",
       "      dtype='object')"
      ]
     },
     "execution_count": 4,
     "metadata": {},
     "output_type": "execute_result"
    }
   ],
   "source": [
    "data.columns"
   ]
  },
  {
   "cell_type": "markdown",
   "id": "b419a780",
   "metadata": {},
   "source": [
    "### DOY: means the order of days during the year. I think it is not significant. So I will drop this column."
   ]
  },
  {
   "cell_type": "code",
   "execution_count": 5,
   "id": "022e5a11",
   "metadata": {},
   "outputs": [
    {
     "data": {
      "text/html": [
       "<div>\n",
       "<style scoped>\n",
       "    .dataframe tbody tr th:only-of-type {\n",
       "        vertical-align: middle;\n",
       "    }\n",
       "\n",
       "    .dataframe tbody tr th {\n",
       "        vertical-align: top;\n",
       "    }\n",
       "\n",
       "    .dataframe thead th {\n",
       "        text-align: right;\n",
       "    }\n",
       "</style>\n",
       "<table border=\"1\" class=\"dataframe\">\n",
       "  <thead>\n",
       "    <tr style=\"text-align: right;\">\n",
       "      <th></th>\n",
       "      <th>YEAR</th>\n",
       "      <th>TopOfAtmosphereIrradiance</th>\n",
       "      <th>Sky-Surface-PAR</th>\n",
       "      <th>MeanTemperature_c</th>\n",
       "      <th>DewFrostPoint_C</th>\n",
       "      <th>MinTemperature_C</th>\n",
       "      <th>MaxTemperature_C</th>\n",
       "      <th>RH_%</th>\n",
       "      <th>SurfacePressure_kPa</th>\n",
       "      <th>WindSpeed</th>\n",
       "      <th>Max_Wind_Speed</th>\n",
       "      <th>Min-Wind-Speed</th>\n",
       "      <th>Precipitation</th>\n",
       "    </tr>\n",
       "  </thead>\n",
       "  <tbody>\n",
       "    <tr>\n",
       "      <th>0</th>\n",
       "      <td>1982</td>\n",
       "      <td>NaN</td>\n",
       "      <td>NaN</td>\n",
       "      <td>24.55</td>\n",
       "      <td>21.76</td>\n",
       "      <td>21.04</td>\n",
       "      <td>28.43</td>\n",
       "      <td>85.31</td>\n",
       "      <td>96.73</td>\n",
       "      <td>0.45</td>\n",
       "      <td>0.68</td>\n",
       "      <td>0.11</td>\n",
       "      <td>2.32</td>\n",
       "    </tr>\n",
       "    <tr>\n",
       "      <th>1</th>\n",
       "      <td>1982</td>\n",
       "      <td>NaN</td>\n",
       "      <td>NaN</td>\n",
       "      <td>25.44</td>\n",
       "      <td>21.68</td>\n",
       "      <td>21.39</td>\n",
       "      <td>29.51</td>\n",
       "      <td>80.50</td>\n",
       "      <td>96.60</td>\n",
       "      <td>0.30</td>\n",
       "      <td>0.60</td>\n",
       "      <td>0.02</td>\n",
       "      <td>0.73</td>\n",
       "    </tr>\n",
       "    <tr>\n",
       "      <th>2</th>\n",
       "      <td>1982</td>\n",
       "      <td>NaN</td>\n",
       "      <td>NaN</td>\n",
       "      <td>24.90</td>\n",
       "      <td>22.59</td>\n",
       "      <td>22.26</td>\n",
       "      <td>28.30</td>\n",
       "      <td>87.44</td>\n",
       "      <td>96.61</td>\n",
       "      <td>0.43</td>\n",
       "      <td>0.62</td>\n",
       "      <td>0.30</td>\n",
       "      <td>1.02</td>\n",
       "    </tr>\n",
       "    <tr>\n",
       "      <th>3</th>\n",
       "      <td>1982</td>\n",
       "      <td>NaN</td>\n",
       "      <td>NaN</td>\n",
       "      <td>24.40</td>\n",
       "      <td>22.35</td>\n",
       "      <td>21.76</td>\n",
       "      <td>27.78</td>\n",
       "      <td>88.94</td>\n",
       "      <td>96.70</td>\n",
       "      <td>0.47</td>\n",
       "      <td>0.59</td>\n",
       "      <td>0.21</td>\n",
       "      <td>3.88</td>\n",
       "    </tr>\n",
       "    <tr>\n",
       "      <th>4</th>\n",
       "      <td>1982</td>\n",
       "      <td>NaN</td>\n",
       "      <td>NaN</td>\n",
       "      <td>23.95</td>\n",
       "      <td>21.35</td>\n",
       "      <td>21.73</td>\n",
       "      <td>26.94</td>\n",
       "      <td>86.19</td>\n",
       "      <td>96.79</td>\n",
       "      <td>0.41</td>\n",
       "      <td>0.58</td>\n",
       "      <td>0.15</td>\n",
       "      <td>1.53</td>\n",
       "    </tr>\n",
       "    <tr>\n",
       "      <th>...</th>\n",
       "      <td>...</td>\n",
       "      <td>...</td>\n",
       "      <td>...</td>\n",
       "      <td>...</td>\n",
       "      <td>...</td>\n",
       "      <td>...</td>\n",
       "      <td>...</td>\n",
       "      <td>...</td>\n",
       "      <td>...</td>\n",
       "      <td>...</td>\n",
       "      <td>...</td>\n",
       "      <td>...</td>\n",
       "      <td>...</td>\n",
       "    </tr>\n",
       "    <tr>\n",
       "      <th>15029</th>\n",
       "      <td>2023</td>\n",
       "      <td>37.89</td>\n",
       "      <td>NaN</td>\n",
       "      <td>25.03</td>\n",
       "      <td>23.18</td>\n",
       "      <td>22.23</td>\n",
       "      <td>28.48</td>\n",
       "      <td>89.94</td>\n",
       "      <td>96.73</td>\n",
       "      <td>0.52</td>\n",
       "      <td>0.82</td>\n",
       "      <td>0.30</td>\n",
       "      <td>2.31</td>\n",
       "    </tr>\n",
       "    <tr>\n",
       "      <th>15030</th>\n",
       "      <td>2023</td>\n",
       "      <td>37.91</td>\n",
       "      <td>NaN</td>\n",
       "      <td>25.92</td>\n",
       "      <td>23.23</td>\n",
       "      <td>22.14</td>\n",
       "      <td>30.16</td>\n",
       "      <td>85.94</td>\n",
       "      <td>96.73</td>\n",
       "      <td>0.62</td>\n",
       "      <td>1.03</td>\n",
       "      <td>0.37</td>\n",
       "      <td>0.97</td>\n",
       "    </tr>\n",
       "    <tr>\n",
       "      <th>15031</th>\n",
       "      <td>2023</td>\n",
       "      <td>37.93</td>\n",
       "      <td>NaN</td>\n",
       "      <td>25.80</td>\n",
       "      <td>23.10</td>\n",
       "      <td>22.72</td>\n",
       "      <td>28.90</td>\n",
       "      <td>85.62</td>\n",
       "      <td>96.84</td>\n",
       "      <td>0.40</td>\n",
       "      <td>0.64</td>\n",
       "      <td>0.07</td>\n",
       "      <td>1.61</td>\n",
       "    </tr>\n",
       "    <tr>\n",
       "      <th>15032</th>\n",
       "      <td>2023</td>\n",
       "      <td>37.95</td>\n",
       "      <td>NaN</td>\n",
       "      <td>25.46</td>\n",
       "      <td>23.19</td>\n",
       "      <td>22.62</td>\n",
       "      <td>29.22</td>\n",
       "      <td>87.81</td>\n",
       "      <td>96.94</td>\n",
       "      <td>0.28</td>\n",
       "      <td>0.45</td>\n",
       "      <td>0.05</td>\n",
       "      <td>5.44</td>\n",
       "    </tr>\n",
       "    <tr>\n",
       "      <th>15033</th>\n",
       "      <td>2023</td>\n",
       "      <td>NaN</td>\n",
       "      <td>NaN</td>\n",
       "      <td>25.54</td>\n",
       "      <td>23.01</td>\n",
       "      <td>22.20</td>\n",
       "      <td>29.15</td>\n",
       "      <td>86.50</td>\n",
       "      <td>96.94</td>\n",
       "      <td>0.46</td>\n",
       "      <td>0.77</td>\n",
       "      <td>0.27</td>\n",
       "      <td>2.21</td>\n",
       "    </tr>\n",
       "  </tbody>\n",
       "</table>\n",
       "<p>15034 rows × 13 columns</p>\n",
       "</div>"
      ],
      "text/plain": [
       "       YEAR  TopOfAtmosphereIrradiance  Sky-Surface-PAR  MeanTemperature_c  \\\n",
       "0      1982                        NaN              NaN              24.55   \n",
       "1      1982                        NaN              NaN              25.44   \n",
       "2      1982                        NaN              NaN              24.90   \n",
       "3      1982                        NaN              NaN              24.40   \n",
       "4      1982                        NaN              NaN              23.95   \n",
       "...     ...                        ...              ...                ...   \n",
       "15029  2023                      37.89              NaN              25.03   \n",
       "15030  2023                      37.91              NaN              25.92   \n",
       "15031  2023                      37.93              NaN              25.80   \n",
       "15032  2023                      37.95              NaN              25.46   \n",
       "15033  2023                        NaN              NaN              25.54   \n",
       "\n",
       "       DewFrostPoint_C  MinTemperature_C  MaxTemperature_C   RH_%  \\\n",
       "0                21.76             21.04             28.43  85.31   \n",
       "1                21.68             21.39             29.51  80.50   \n",
       "2                22.59             22.26             28.30  87.44   \n",
       "3                22.35             21.76             27.78  88.94   \n",
       "4                21.35             21.73             26.94  86.19   \n",
       "...                ...               ...               ...    ...   \n",
       "15029            23.18             22.23             28.48  89.94   \n",
       "15030            23.23             22.14             30.16  85.94   \n",
       "15031            23.10             22.72             28.90  85.62   \n",
       "15032            23.19             22.62             29.22  87.81   \n",
       "15033            23.01             22.20             29.15  86.50   \n",
       "\n",
       "       SurfacePressure_kPa  WindSpeed  Max_Wind_Speed  Min-Wind-Speed  \\\n",
       "0                    96.73       0.45            0.68            0.11   \n",
       "1                    96.60       0.30            0.60            0.02   \n",
       "2                    96.61       0.43            0.62            0.30   \n",
       "3                    96.70       0.47            0.59            0.21   \n",
       "4                    96.79       0.41            0.58            0.15   \n",
       "...                    ...        ...             ...             ...   \n",
       "15029                96.73       0.52            0.82            0.30   \n",
       "15030                96.73       0.62            1.03            0.37   \n",
       "15031                96.84       0.40            0.64            0.07   \n",
       "15032                96.94       0.28            0.45            0.05   \n",
       "15033                96.94       0.46            0.77            0.27   \n",
       "\n",
       "       Precipitation  \n",
       "0               2.32  \n",
       "1               0.73  \n",
       "2               1.02  \n",
       "3               3.88  \n",
       "4               1.53  \n",
       "...              ...  \n",
       "15029           2.31  \n",
       "15030           0.97  \n",
       "15031           1.61  \n",
       "15032           5.44  \n",
       "15033           2.21  \n",
       "\n",
       "[15034 rows x 13 columns]"
      ]
     },
     "execution_count": 5,
     "metadata": {},
     "output_type": "execute_result"
    }
   ],
   "source": [
    "data.drop(['DOY'], axis = 1, inplace = True)\n",
    "data"
   ]
  },
  {
   "cell_type": "code",
   "execution_count": 6,
   "id": "894def2c",
   "metadata": {},
   "outputs": [
    {
     "data": {
      "text/plain": [
       "0"
      ]
     },
     "execution_count": 6,
     "metadata": {},
     "output_type": "execute_result"
    }
   ],
   "source": [
    "data.duplicated().sum()"
   ]
  },
  {
   "cell_type": "code",
   "execution_count": 7,
   "id": "2bc82814",
   "metadata": {},
   "outputs": [
    {
     "data": {
      "text/html": [
       "<div>\n",
       "<style scoped>\n",
       "    .dataframe tbody tr th:only-of-type {\n",
       "        vertical-align: middle;\n",
       "    }\n",
       "\n",
       "    .dataframe tbody tr th {\n",
       "        vertical-align: top;\n",
       "    }\n",
       "\n",
       "    .dataframe thead th {\n",
       "        text-align: right;\n",
       "    }\n",
       "</style>\n",
       "<table border=\"1\" class=\"dataframe\">\n",
       "  <thead>\n",
       "    <tr style=\"text-align: right;\">\n",
       "      <th></th>\n",
       "      <th>YEAR</th>\n",
       "      <th>TopOfAtmosphereIrradiance</th>\n",
       "      <th>Sky-Surface-PAR</th>\n",
       "      <th>MeanTemperature_c</th>\n",
       "      <th>DewFrostPoint_C</th>\n",
       "      <th>MinTemperature_C</th>\n",
       "      <th>MaxTemperature_C</th>\n",
       "      <th>RH_%</th>\n",
       "      <th>SurfacePressure_kPa</th>\n",
       "      <th>WindSpeed</th>\n",
       "      <th>Max_Wind_Speed</th>\n",
       "      <th>Min-Wind-Speed</th>\n",
       "      <th>Precipitation</th>\n",
       "    </tr>\n",
       "  </thead>\n",
       "  <tbody>\n",
       "    <tr>\n",
       "      <th>count</th>\n",
       "      <td>15034.000000</td>\n",
       "      <td>14299.000000</td>\n",
       "      <td>13971.000000</td>\n",
       "      <td>15031.000000</td>\n",
       "      <td>15031.000000</td>\n",
       "      <td>15031.000000</td>\n",
       "      <td>15031.000000</td>\n",
       "      <td>15031.000000</td>\n",
       "      <td>15031.000000</td>\n",
       "      <td>15031.000000</td>\n",
       "      <td>15031.000000</td>\n",
       "      <td>15031.000000</td>\n",
       "      <td>15031.000000</td>\n",
       "    </tr>\n",
       "    <tr>\n",
       "      <th>mean</th>\n",
       "      <td>2002.082413</td>\n",
       "      <td>35.910997</td>\n",
       "      <td>96.106653</td>\n",
       "      <td>25.064464</td>\n",
       "      <td>22.186866</td>\n",
       "      <td>21.799713</td>\n",
       "      <td>28.741622</td>\n",
       "      <td>85.233561</td>\n",
       "      <td>96.860037</td>\n",
       "      <td>0.514602</td>\n",
       "      <td>0.822024</td>\n",
       "      <td>0.263738</td>\n",
       "      <td>5.295825</td>\n",
       "    </tr>\n",
       "    <tr>\n",
       "      <th>std</th>\n",
       "      <td>11.881857</td>\n",
       "      <td>1.467361</td>\n",
       "      <td>25.102132</td>\n",
       "      <td>1.222134</td>\n",
       "      <td>0.928594</td>\n",
       "      <td>0.924838</td>\n",
       "      <td>1.972991</td>\n",
       "      <td>6.781859</td>\n",
       "      <td>0.144062</td>\n",
       "      <td>0.095929</td>\n",
       "      <td>0.213518</td>\n",
       "      <td>0.112812</td>\n",
       "      <td>5.807263</td>\n",
       "    </tr>\n",
       "    <tr>\n",
       "      <th>min</th>\n",
       "      <td>1982.000000</td>\n",
       "      <td>33.030000</td>\n",
       "      <td>6.100000</td>\n",
       "      <td>20.830000</td>\n",
       "      <td>13.370000</td>\n",
       "      <td>16.980000</td>\n",
       "      <td>22.760000</td>\n",
       "      <td>36.120000</td>\n",
       "      <td>96.260000</td>\n",
       "      <td>0.210000</td>\n",
       "      <td>0.370000</td>\n",
       "      <td>0.000000</td>\n",
       "      <td>0.000000</td>\n",
       "    </tr>\n",
       "    <tr>\n",
       "      <th>25%</th>\n",
       "      <td>1992.000000</td>\n",
       "      <td>34.890000</td>\n",
       "      <td>80.260000</td>\n",
       "      <td>24.300000</td>\n",
       "      <td>21.740000</td>\n",
       "      <td>21.240000</td>\n",
       "      <td>27.550000</td>\n",
       "      <td>83.060000</td>\n",
       "      <td>96.770000</td>\n",
       "      <td>0.450000</td>\n",
       "      <td>0.660000</td>\n",
       "      <td>0.170000</td>\n",
       "      <td>1.370000</td>\n",
       "    </tr>\n",
       "    <tr>\n",
       "      <th>50%</th>\n",
       "      <td>2002.000000</td>\n",
       "      <td>36.190000</td>\n",
       "      <td>99.400000</td>\n",
       "      <td>24.920000</td>\n",
       "      <td>22.300000</td>\n",
       "      <td>21.790000</td>\n",
       "      <td>28.510000</td>\n",
       "      <td>86.690000</td>\n",
       "      <td>96.870000</td>\n",
       "      <td>0.510000</td>\n",
       "      <td>0.780000</td>\n",
       "      <td>0.300000</td>\n",
       "      <td>3.570000</td>\n",
       "    </tr>\n",
       "    <tr>\n",
       "      <th>75%</th>\n",
       "      <td>2012.000000</td>\n",
       "      <td>37.150000</td>\n",
       "      <td>114.590000</td>\n",
       "      <td>25.580000</td>\n",
       "      <td>22.800000</td>\n",
       "      <td>22.330000</td>\n",
       "      <td>29.510000</td>\n",
       "      <td>89.560000</td>\n",
       "      <td>96.960000</td>\n",
       "      <td>0.580000</td>\n",
       "      <td>0.950000</td>\n",
       "      <td>0.350000</td>\n",
       "      <td>7.160000</td>\n",
       "    </tr>\n",
       "    <tr>\n",
       "      <th>max</th>\n",
       "      <td>2023.000000</td>\n",
       "      <td>37.950000</td>\n",
       "      <td>153.700000</td>\n",
       "      <td>32.150000</td>\n",
       "      <td>25.170000</td>\n",
       "      <td>26.800000</td>\n",
       "      <td>40.030000</td>\n",
       "      <td>96.940000</td>\n",
       "      <td>97.450000</td>\n",
       "      <td>1.000000</td>\n",
       "      <td>2.190000</td>\n",
       "      <td>0.530000</td>\n",
       "      <td>89.180000</td>\n",
       "    </tr>\n",
       "  </tbody>\n",
       "</table>\n",
       "</div>"
      ],
      "text/plain": [
       "               YEAR  TopOfAtmosphereIrradiance  Sky-Surface-PAR  \\\n",
       "count  15034.000000               14299.000000     13971.000000   \n",
       "mean    2002.082413                  35.910997        96.106653   \n",
       "std       11.881857                   1.467361        25.102132   \n",
       "min     1982.000000                  33.030000         6.100000   \n",
       "25%     1992.000000                  34.890000        80.260000   \n",
       "50%     2002.000000                  36.190000        99.400000   \n",
       "75%     2012.000000                  37.150000       114.590000   \n",
       "max     2023.000000                  37.950000       153.700000   \n",
       "\n",
       "       MeanTemperature_c  DewFrostPoint_C  MinTemperature_C  MaxTemperature_C  \\\n",
       "count       15031.000000     15031.000000      15031.000000      15031.000000   \n",
       "mean           25.064464        22.186866         21.799713         28.741622   \n",
       "std             1.222134         0.928594          0.924838          1.972991   \n",
       "min            20.830000        13.370000         16.980000         22.760000   \n",
       "25%            24.300000        21.740000         21.240000         27.550000   \n",
       "50%            24.920000        22.300000         21.790000         28.510000   \n",
       "75%            25.580000        22.800000         22.330000         29.510000   \n",
       "max            32.150000        25.170000         26.800000         40.030000   \n",
       "\n",
       "               RH_%  SurfacePressure_kPa     WindSpeed  Max_Wind_Speed  \\\n",
       "count  15031.000000         15031.000000  15031.000000    15031.000000   \n",
       "mean      85.233561            96.860037      0.514602        0.822024   \n",
       "std        6.781859             0.144062      0.095929        0.213518   \n",
       "min       36.120000            96.260000      0.210000        0.370000   \n",
       "25%       83.060000            96.770000      0.450000        0.660000   \n",
       "50%       86.690000            96.870000      0.510000        0.780000   \n",
       "75%       89.560000            96.960000      0.580000        0.950000   \n",
       "max       96.940000            97.450000      1.000000        2.190000   \n",
       "\n",
       "       Min-Wind-Speed  Precipitation  \n",
       "count    15031.000000   15031.000000  \n",
       "mean         0.263738       5.295825  \n",
       "std          0.112812       5.807263  \n",
       "min          0.000000       0.000000  \n",
       "25%          0.170000       1.370000  \n",
       "50%          0.300000       3.570000  \n",
       "75%          0.350000       7.160000  \n",
       "max          0.530000      89.180000  "
      ]
     },
     "execution_count": 7,
     "metadata": {},
     "output_type": "execute_result"
    }
   ],
   "source": [
    "data.describe()"
   ]
  },
  {
   "cell_type": "markdown",
   "id": "c0ea8097",
   "metadata": {},
   "source": [
    "#### The mean of some data is close to 50%, indicating a normal distribution. this data includes (Top of Atmosphere Irradiance, Mean Temperature_c, Dew Frost Point_c,\tMin Temperature_C, Max Temperature_C\tRH_%.\n",
    "\n",
    "#### but Precipitation is not normally distributed, and the value of mean and standard deviation are equal??!!"
   ]
  },
  {
   "cell_type": "code",
   "execution_count": 8,
   "id": "b9e36a37",
   "metadata": {},
   "outputs": [
    {
     "name": "stderr",
     "output_type": "stream",
     "text": [
      "C:\\ProgramData\\Anaconda3\\lib\\site-packages\\seaborn\\distributions.py:2619: FutureWarning: `distplot` is a deprecated function and will be removed in a future version. Please adapt your code to use either `displot` (a figure-level function with similar flexibility) or `histplot` (an axes-level function for histograms).\n",
      "  warnings.warn(msg, FutureWarning)\n"
     ]
    },
    {
     "data": {
      "text/plain": [
       "<AxesSubplot:xlabel='MeanTemperature_c', ylabel='Density'>"
      ]
     },
     "execution_count": 8,
     "metadata": {},
     "output_type": "execute_result"
    },
    {
     "data": {
      "image/png": "[encoded data removed]",
      "text/plain": [
       "<Figure size 432x288 with 1 Axes>"
      ]
     },
     "metadata": {
      "needs_background": "light"
     },
     "output_type": "display_data"
    }
   ],
   "source": [
    "sns.distplot(data['MeanTemperature_c'])"
   ]
  },
  {
   "cell_type": "code",
   "execution_count": 9,
   "id": "4ca5ae0d",
   "metadata": {},
   "outputs": [
    {
     "name": "stderr",
     "output_type": "stream",
     "text": [
      "C:\\ProgramData\\Anaconda3\\lib\\site-packages\\seaborn\\distributions.py:2619: FutureWarning: `distplot` is a deprecated function and will be removed in a future version. Please adapt your code to use either `displot` (a figure-level function with similar flexibility) or `histplot` (an axes-level function for histograms).\n",
      "  warnings.warn(msg, FutureWarning)\n"
     ]
    },
    {
     "data": {
      "text/plain": [
       "<AxesSubplot:xlabel='Precipitation', ylabel='Density'>"
      ]
     },
     "execution_count": 9,
     "metadata": {},
     "output_type": "execute_result"
    },
    {
     "data": {
      "image/png": "[encoded data removed]",
      "text/plain": [
       "<Figure size 432x288 with 1 Axes>"
      ]
     },
     "metadata": {
      "needs_background": "light"
     },
     "output_type": "display_data"
    }
   ],
   "source": [
    "sns.distplot(data['Precipitation'])"
   ]
  },
  {
   "cell_type": "markdown",
   "id": "9ff268db",
   "metadata": {},
   "source": [
    "## Handling missing values"
   ]
  },
  {
   "cell_type": "code",
   "execution_count": 10,
   "id": "df8e0380",
   "metadata": {},
   "outputs": [
    {
     "name": "stdout",
     "output_type": "stream",
     "text": [
      "<class 'pandas.core.frame.DataFrame'>\n",
      "RangeIndex: 15034 entries, 0 to 15033\n",
      "Data columns (total 13 columns):\n",
      " #   Column                     Non-Null Count  Dtype  \n",
      "---  ------                     --------------  -----  \n",
      " 0   YEAR                       15034 non-null  int64  \n",
      " 1   TopOfAtmosphereIrradiance  14299 non-null  float64\n",
      " 2   Sky-Surface-PAR            13971 non-null  float64\n",
      " 3   MeanTemperature_c          15031 non-null  float64\n",
      " 4   DewFrostPoint_C            15031 non-null  float64\n",
      " 5   MinTemperature_C           15031 non-null  float64\n",
      " 6   MaxTemperature_C           15031 non-null  float64\n",
      " 7   RH_%                       15031 non-null  float64\n",
      " 8   SurfacePressure_kPa        15031 non-null  float64\n",
      " 9   WindSpeed                  15031 non-null  float64\n",
      " 10  Max_Wind_Speed             15031 non-null  float64\n",
      " 11  Min-Wind-Speed             15031 non-null  float64\n",
      " 12  Precipitation              15031 non-null  float64\n",
      "dtypes: float64(12), int64(1)\n",
      "memory usage: 1.5 MB\n"
     ]
    }
   ],
   "source": [
    "data.info()"
   ]
  },
  {
   "cell_type": "markdown",
   "id": "423391e5",
   "metadata": {},
   "source": [
    "#### Total data records = 15034, most data have three missing values, all the data float data type and the year only int"
   ]
  },
  {
   "cell_type": "code",
   "execution_count": 11,
   "id": "5b6c5d88",
   "metadata": {},
   "outputs": [
    {
     "data": {
      "text/html": [
       "<div>\n",
       "<style scoped>\n",
       "    .dataframe tbody tr th:only-of-type {\n",
       "        vertical-align: middle;\n",
       "    }\n",
       "\n",
       "    .dataframe tbody tr th {\n",
       "        vertical-align: top;\n",
       "    }\n",
       "\n",
       "    .dataframe thead th {\n",
       "        text-align: right;\n",
       "    }\n",
       "</style>\n",
       "<table border=\"1\" class=\"dataframe\">\n",
       "  <thead>\n",
       "    <tr style=\"text-align: right;\">\n",
       "      <th></th>\n",
       "      <th>YEAR</th>\n",
       "      <th>TopOfAtmosphereIrradiance</th>\n",
       "      <th>Sky-Surface-PAR</th>\n",
       "      <th>MeanTemperature_c</th>\n",
       "      <th>DewFrostPoint_C</th>\n",
       "      <th>MinTemperature_C</th>\n",
       "      <th>MaxTemperature_C</th>\n",
       "      <th>RH_%</th>\n",
       "      <th>SurfacePressure_kPa</th>\n",
       "      <th>WindSpeed</th>\n",
       "      <th>Max_Wind_Speed</th>\n",
       "      <th>Min-Wind-Speed</th>\n",
       "      <th>Precipitation</th>\n",
       "    </tr>\n",
       "  </thead>\n",
       "  <tbody>\n",
       "    <tr>\n",
       "      <th>14931</th>\n",
       "      <td>2022</td>\n",
       "      <td>36.43</td>\n",
       "      <td>NaN</td>\n",
       "      <td>NaN</td>\n",
       "      <td>NaN</td>\n",
       "      <td>NaN</td>\n",
       "      <td>NaN</td>\n",
       "      <td>NaN</td>\n",
       "      <td>NaN</td>\n",
       "      <td>NaN</td>\n",
       "      <td>NaN</td>\n",
       "      <td>NaN</td>\n",
       "      <td>NaN</td>\n",
       "    </tr>\n",
       "    <tr>\n",
       "      <th>14932</th>\n",
       "      <td>2022</td>\n",
       "      <td>36.39</td>\n",
       "      <td>NaN</td>\n",
       "      <td>NaN</td>\n",
       "      <td>NaN</td>\n",
       "      <td>NaN</td>\n",
       "      <td>NaN</td>\n",
       "      <td>NaN</td>\n",
       "      <td>NaN</td>\n",
       "      <td>NaN</td>\n",
       "      <td>NaN</td>\n",
       "      <td>NaN</td>\n",
       "      <td>NaN</td>\n",
       "    </tr>\n",
       "    <tr>\n",
       "      <th>14933</th>\n",
       "      <td>2022</td>\n",
       "      <td>36.36</td>\n",
       "      <td>NaN</td>\n",
       "      <td>NaN</td>\n",
       "      <td>NaN</td>\n",
       "      <td>NaN</td>\n",
       "      <td>NaN</td>\n",
       "      <td>NaN</td>\n",
       "      <td>NaN</td>\n",
       "      <td>NaN</td>\n",
       "      <td>NaN</td>\n",
       "      <td>NaN</td>\n",
       "      <td>NaN</td>\n",
       "    </tr>\n",
       "  </tbody>\n",
       "</table>\n",
       "</div>"
      ],
      "text/plain": [
       "       YEAR  TopOfAtmosphereIrradiance  Sky-Surface-PAR  MeanTemperature_c  \\\n",
       "14931  2022                      36.43              NaN                NaN   \n",
       "14932  2022                      36.39              NaN                NaN   \n",
       "14933  2022                      36.36              NaN                NaN   \n",
       "\n",
       "       DewFrostPoint_C  MinTemperature_C  MaxTemperature_C  RH_%  \\\n",
       "14931              NaN               NaN               NaN   NaN   \n",
       "14932              NaN               NaN               NaN   NaN   \n",
       "14933              NaN               NaN               NaN   NaN   \n",
       "\n",
       "       SurfacePressure_kPa  WindSpeed  Max_Wind_Speed  Min-Wind-Speed  \\\n",
       "14931                  NaN        NaN             NaN             NaN   \n",
       "14932                  NaN        NaN             NaN             NaN   \n",
       "14933                  NaN        NaN             NaN             NaN   \n",
       "\n",
       "       Precipitation  \n",
       "14931            NaN  \n",
       "14932            NaN  \n",
       "14933            NaN  "
      ]
     },
     "execution_count": 11,
     "metadata": {},
     "output_type": "execute_result"
    }
   ],
   "source": [
    "data.iloc[data[data['MeanTemperature_c'].isna()].index.tolist(), :]"
   ]
  },
  {
   "cell_type": "markdown",
   "id": "ce8f3ade",
   "metadata": {},
   "source": [
    "### All the missing values in the same rows so I will replace them by median value"
   ]
  },
  {
   "cell_type": "code",
   "execution_count": 12,
   "id": "ff8e792d",
   "metadata": {},
   "outputs": [],
   "source": [
    "data['MeanTemperature_c'].fillna(data['MeanTemperature_c'].median(), inplace = True)\n",
    "data['DewFrostPoint_C'].fillna(data['DewFrostPoint_C'].median(), inplace = True)\n",
    "data['MinTemperature_C'].fillna(data['MinTemperature_C'].median(), inplace = True)\n",
    "data['MaxTemperature_C'].fillna(data['MaxTemperature_C'].median(), inplace = True)\n",
    "data['RH_%'].fillna(data['RH_%'].median(), inplace = True)\n",
    "data['SurfacePressure_kPa'].fillna(data['SurfacePressure_kPa'].median(), inplace = True)\n",
    "data['WindSpeed'].fillna(data['WindSpeed'].median(), inplace = True)\n",
    "data['Max_Wind_Speed'].fillna(data['Max_Wind_Speed'].median(), inplace = True)\n",
    "data['Min-Wind-Speed'].fillna(data['Min-Wind-Speed'].median(), inplace = True)\n",
    "data['Precipitation'].fillna(data['Precipitation'].median(), inplace = True)"
   ]
  },
  {
   "cell_type": "code",
   "execution_count": 13,
   "id": "7289955b",
   "metadata": {},
   "outputs": [
    {
     "name": "stdout",
     "output_type": "stream",
     "text": [
      "<class 'pandas.core.frame.DataFrame'>\n",
      "RangeIndex: 15034 entries, 0 to 15033\n",
      "Data columns (total 13 columns):\n",
      " #   Column                     Non-Null Count  Dtype  \n",
      "---  ------                     --------------  -----  \n",
      " 0   YEAR                       15034 non-null  int64  \n",
      " 1   TopOfAtmosphereIrradiance  14299 non-null  float64\n",
      " 2   Sky-Surface-PAR            13971 non-null  float64\n",
      " 3   MeanTemperature_c          15034 non-null  float64\n",
      " 4   DewFrostPoint_C            15034 non-null  float64\n",
      " 5   MinTemperature_C           15034 non-null  float64\n",
      " 6   MaxTemperature_C           15034 non-null  float64\n",
      " 7   RH_%                       15034 non-null  float64\n",
      " 8   SurfacePressure_kPa        15034 non-null  float64\n",
      " 9   WindSpeed                  15034 non-null  float64\n",
      " 10  Max_Wind_Speed             15034 non-null  float64\n",
      " 11  Min-Wind-Speed             15034 non-null  float64\n",
      " 12  Precipitation              15034 non-null  float64\n",
      "dtypes: float64(12), int64(1)\n",
      "memory usage: 1.5 MB\n"
     ]
    }
   ],
   "source": [
    "data.info()"
   ]
  },
  {
   "cell_type": "code",
   "execution_count": 14,
   "id": "4ad24c21",
   "metadata": {},
   "outputs": [
    {
     "name": "stdout",
     "output_type": "stream",
     "text": [
      "735\n",
      "\n"
     ]
    }
   ],
   "source": [
    "series = data['TopOfAtmosphereIrradiance'].isna()\n",
    "print(series.sum())\n",
    "print()"
   ]
  },
  {
   "cell_type": "markdown",
   "id": "4fc36ad1",
   "metadata": {},
   "source": [
    "### Approximately five percent of Top of Atmosphere Irradiance is nan values"
   ]
  },
  {
   "cell_type": "code",
   "execution_count": 15,
   "id": "9d65c3d3",
   "metadata": {},
   "outputs": [
    {
     "name": "stdout",
     "output_type": "stream",
     "text": [
      "1063\n",
      "0.07070639882932021\n"
     ]
    }
   ],
   "source": [
    "series = data['Sky-Surface-PAR'].isna()\n",
    "print(series.sum())\n",
    "print(series.mean())"
   ]
  },
  {
   "cell_type": "markdown",
   "id": "c9d4468e",
   "metadata": {},
   "source": [
    "### seven percent of Sky-Surface-PAR is nan values"
   ]
  },
  {
   "cell_type": "code",
   "execution_count": 16,
   "id": "1f389a08",
   "metadata": {},
   "outputs": [],
   "source": [
    "data['TopOfAtmosphereIrradiance'].fillna(data['TopOfAtmosphereIrradiance'].median(), inplace = True)\n",
    "data['Sky-Surface-PAR'].fillna(data['Sky-Surface-PAR'].median(), inplace = True)"
   ]
  },
  {
   "cell_type": "code",
   "execution_count": 17,
   "id": "c74b7cf3",
   "metadata": {},
   "outputs": [
    {
     "name": "stdout",
     "output_type": "stream",
     "text": [
      "<class 'pandas.core.frame.DataFrame'>\n",
      "RangeIndex: 15034 entries, 0 to 15033\n",
      "Data columns (total 13 columns):\n",
      " #   Column                     Non-Null Count  Dtype  \n",
      "---  ------                     --------------  -----  \n",
      " 0   YEAR                       15034 non-null  int64  \n",
      " 1   TopOfAtmosphereIrradiance  15034 non-null  float64\n",
      " 2   Sky-Surface-PAR            15034 non-null  float64\n",
      " 3   MeanTemperature_c          15034 non-null  float64\n",
      " 4   DewFrostPoint_C            15034 non-null  float64\n",
      " 5   MinTemperature_C           15034 non-null  float64\n",
      " 6   MaxTemperature_C           15034 non-null  float64\n",
      " 7   RH_%                       15034 non-null  float64\n",
      " 8   SurfacePressure_kPa        15034 non-null  float64\n",
      " 9   WindSpeed                  15034 non-null  float64\n",
      " 10  Max_Wind_Speed             15034 non-null  float64\n",
      " 11  Min-Wind-Speed             15034 non-null  float64\n",
      " 12  Precipitation              15034 non-null  float64\n",
      "dtypes: float64(12), int64(1)\n",
      "memory usage: 1.5 MB\n"
     ]
    }
   ],
   "source": [
    "data.info()"
   ]
  },
  {
   "cell_type": "code",
   "execution_count": 18,
   "id": "126e69fa",
   "metadata": {},
   "outputs": [
    {
     "data": {
      "text/plain": [
       "YEAR                         0\n",
       "TopOfAtmosphereIrradiance    0\n",
       "Sky-Surface-PAR              0\n",
       "MeanTemperature_c            0\n",
       "DewFrostPoint_C              0\n",
       "MinTemperature_C             0\n",
       "MaxTemperature_C             0\n",
       "RH_%                         0\n",
       "SurfacePressure_kPa          0\n",
       "WindSpeed                    0\n",
       "Max_Wind_Speed               0\n",
       "Min-Wind-Speed               0\n",
       "Precipitation                0\n",
       "dtype: int64"
      ]
     },
     "execution_count": 18,
     "metadata": {},
     "output_type": "execute_result"
    }
   ],
   "source": [
    "data.isna().sum()"
   ]
  },
  {
   "cell_type": "markdown",
   "id": "6962a7a4",
   "metadata": {},
   "source": [
    "## Finding the correlation between the features"
   ]
  },
  {
   "cell_type": "code",
   "execution_count": 19,
   "id": "63829255",
   "metadata": {},
   "outputs": [
    {
     "data": {
      "text/html": [
       "<div>\n",
       "<style scoped>\n",
       "    .dataframe tbody tr th:only-of-type {\n",
       "        vertical-align: middle;\n",
       "    }\n",
       "\n",
       "    .dataframe tbody tr th {\n",
       "        vertical-align: top;\n",
       "    }\n",
       "\n",
       "    .dataframe thead th {\n",
       "        text-align: right;\n",
       "    }\n",
       "</style>\n",
       "<table border=\"1\" class=\"dataframe\">\n",
       "  <thead>\n",
       "    <tr style=\"text-align: right;\">\n",
       "      <th></th>\n",
       "      <th>YEAR</th>\n",
       "      <th>TopOfAtmosphereIrradiance</th>\n",
       "      <th>Sky-Surface-PAR</th>\n",
       "      <th>MeanTemperature_c</th>\n",
       "      <th>DewFrostPoint_C</th>\n",
       "      <th>MinTemperature_C</th>\n",
       "      <th>MaxTemperature_C</th>\n",
       "      <th>RH_%</th>\n",
       "      <th>SurfacePressure_kPa</th>\n",
       "      <th>WindSpeed</th>\n",
       "      <th>Max_Wind_Speed</th>\n",
       "      <th>Min-Wind-Speed</th>\n",
       "      <th>Precipitation</th>\n",
       "    </tr>\n",
       "  </thead>\n",
       "  <tbody>\n",
       "    <tr>\n",
       "      <th>YEAR</th>\n",
       "      <td>1.000000</td>\n",
       "      <td>-0.008206</td>\n",
       "      <td>-0.227758</td>\n",
       "      <td>0.250419</td>\n",
       "      <td>0.180427</td>\n",
       "      <td>0.252648</td>\n",
       "      <td>0.200593</td>\n",
       "      <td>-0.086329</td>\n",
       "      <td>0.028420</td>\n",
       "      <td>-0.006116</td>\n",
       "      <td>-0.002477</td>\n",
       "      <td>-0.016467</td>\n",
       "      <td>-0.080134</td>\n",
       "    </tr>\n",
       "    <tr>\n",
       "      <th>TopOfAtmosphereIrradiance</th>\n",
       "      <td>-0.008206</td>\n",
       "      <td>1.000000</td>\n",
       "      <td>0.209597</td>\n",
       "      <td>0.019113</td>\n",
       "      <td>0.272133</td>\n",
       "      <td>0.148989</td>\n",
       "      <td>-0.061728</td>\n",
       "      <td>0.151525</td>\n",
       "      <td>-0.442965</td>\n",
       "      <td>0.110286</td>\n",
       "      <td>0.112944</td>\n",
       "      <td>0.087765</td>\n",
       "      <td>0.063060</td>\n",
       "    </tr>\n",
       "    <tr>\n",
       "      <th>Sky-Surface-PAR</th>\n",
       "      <td>-0.227758</td>\n",
       "      <td>0.209597</td>\n",
       "      <td>1.000000</td>\n",
       "      <td>0.105189</td>\n",
       "      <td>-0.000218</td>\n",
       "      <td>-0.051673</td>\n",
       "      <td>0.116368</td>\n",
       "      <td>-0.090295</td>\n",
       "      <td>-0.204109</td>\n",
       "      <td>-0.024032</td>\n",
       "      <td>-0.075269</td>\n",
       "      <td>-0.001806</td>\n",
       "      <td>-0.161506</td>\n",
       "    </tr>\n",
       "    <tr>\n",
       "      <th>MeanTemperature_c</th>\n",
       "      <td>0.250419</td>\n",
       "      <td>0.019113</td>\n",
       "      <td>0.105189</td>\n",
       "      <td>1.000000</td>\n",
       "      <td>-0.103556</td>\n",
       "      <td>0.637029</td>\n",
       "      <td>0.938230</td>\n",
       "      <td>-0.815377</td>\n",
       "      <td>-0.418543</td>\n",
       "      <td>-0.077266</td>\n",
       "      <td>-0.009357</td>\n",
       "      <td>-0.134902</td>\n",
       "      <td>-0.280054</td>\n",
       "    </tr>\n",
       "    <tr>\n",
       "      <th>DewFrostPoint_C</th>\n",
       "      <td>0.180427</td>\n",
       "      <td>0.272133</td>\n",
       "      <td>-0.000218</td>\n",
       "      <td>-0.103556</td>\n",
       "      <td>1.000000</td>\n",
       "      <td>0.379546</td>\n",
       "      <td>-0.313436</td>\n",
       "      <td>0.650904</td>\n",
       "      <td>-0.230092</td>\n",
       "      <td>-0.037180</td>\n",
       "      <td>-0.071937</td>\n",
       "      <td>0.078698</td>\n",
       "      <td>0.217120</td>\n",
       "    </tr>\n",
       "    <tr>\n",
       "      <th>MinTemperature_C</th>\n",
       "      <td>0.252648</td>\n",
       "      <td>0.148989</td>\n",
       "      <td>-0.051673</td>\n",
       "      <td>0.637029</td>\n",
       "      <td>0.379546</td>\n",
       "      <td>1.000000</td>\n",
       "      <td>0.392430</td>\n",
       "      <td>-0.246969</td>\n",
       "      <td>-0.407108</td>\n",
       "      <td>-0.069780</td>\n",
       "      <td>0.039810</td>\n",
       "      <td>-0.123953</td>\n",
       "      <td>0.005753</td>\n",
       "    </tr>\n",
       "    <tr>\n",
       "      <th>MaxTemperature_C</th>\n",
       "      <td>0.200593</td>\n",
       "      <td>-0.061728</td>\n",
       "      <td>0.116368</td>\n",
       "      <td>0.938230</td>\n",
       "      <td>-0.313436</td>\n",
       "      <td>0.392430</td>\n",
       "      <td>1.000000</td>\n",
       "      <td>-0.890701</td>\n",
       "      <td>-0.311749</td>\n",
       "      <td>-0.022776</td>\n",
       "      <td>0.022344</td>\n",
       "      <td>-0.077356</td>\n",
       "      <td>-0.328951</td>\n",
       "    </tr>\n",
       "    <tr>\n",
       "      <th>RH_%</th>\n",
       "      <td>-0.086329</td>\n",
       "      <td>0.151525</td>\n",
       "      <td>-0.090295</td>\n",
       "      <td>-0.815377</td>\n",
       "      <td>0.650904</td>\n",
       "      <td>-0.246969</td>\n",
       "      <td>-0.890701</td>\n",
       "      <td>1.000000</td>\n",
       "      <td>0.174483</td>\n",
       "      <td>0.064656</td>\n",
       "      <td>-0.008557</td>\n",
       "      <td>0.172471</td>\n",
       "      <td>0.359399</td>\n",
       "    </tr>\n",
       "    <tr>\n",
       "      <th>SurfacePressure_kPa</th>\n",
       "      <td>0.028420</td>\n",
       "      <td>-0.442965</td>\n",
       "      <td>-0.204109</td>\n",
       "      <td>-0.418543</td>\n",
       "      <td>-0.230092</td>\n",
       "      <td>-0.407108</td>\n",
       "      <td>-0.311749</td>\n",
       "      <td>0.174483</td>\n",
       "      <td>1.000000</td>\n",
       "      <td>0.002069</td>\n",
       "      <td>-0.022311</td>\n",
       "      <td>0.024419</td>\n",
       "      <td>0.040118</td>\n",
       "    </tr>\n",
       "    <tr>\n",
       "      <th>WindSpeed</th>\n",
       "      <td>-0.006116</td>\n",
       "      <td>0.110286</td>\n",
       "      <td>-0.024032</td>\n",
       "      <td>-0.077266</td>\n",
       "      <td>-0.037180</td>\n",
       "      <td>-0.069780</td>\n",
       "      <td>-0.022776</td>\n",
       "      <td>0.064656</td>\n",
       "      <td>0.002069</td>\n",
       "      <td>1.000000</td>\n",
       "      <td>0.829331</td>\n",
       "      <td>0.701639</td>\n",
       "      <td>0.042910</td>\n",
       "    </tr>\n",
       "    <tr>\n",
       "      <th>Max_Wind_Speed</th>\n",
       "      <td>-0.002477</td>\n",
       "      <td>0.112944</td>\n",
       "      <td>-0.075269</td>\n",
       "      <td>-0.009357</td>\n",
       "      <td>-0.071937</td>\n",
       "      <td>0.039810</td>\n",
       "      <td>0.022344</td>\n",
       "      <td>-0.008557</td>\n",
       "      <td>-0.022311</td>\n",
       "      <td>0.829331</td>\n",
       "      <td>1.000000</td>\n",
       "      <td>0.411383</td>\n",
       "      <td>0.053490</td>\n",
       "    </tr>\n",
       "    <tr>\n",
       "      <th>Min-Wind-Speed</th>\n",
       "      <td>-0.016467</td>\n",
       "      <td>0.087765</td>\n",
       "      <td>-0.001806</td>\n",
       "      <td>-0.134902</td>\n",
       "      <td>0.078698</td>\n",
       "      <td>-0.123953</td>\n",
       "      <td>-0.077356</td>\n",
       "      <td>0.172471</td>\n",
       "      <td>0.024419</td>\n",
       "      <td>0.701639</td>\n",
       "      <td>0.411383</td>\n",
       "      <td>1.000000</td>\n",
       "      <td>0.038930</td>\n",
       "    </tr>\n",
       "    <tr>\n",
       "      <th>Precipitation</th>\n",
       "      <td>-0.080134</td>\n",
       "      <td>0.063060</td>\n",
       "      <td>-0.161506</td>\n",
       "      <td>-0.280054</td>\n",
       "      <td>0.217120</td>\n",
       "      <td>0.005753</td>\n",
       "      <td>-0.328951</td>\n",
       "      <td>0.359399</td>\n",
       "      <td>0.040118</td>\n",
       "      <td>0.042910</td>\n",
       "      <td>0.053490</td>\n",
       "      <td>0.038930</td>\n",
       "      <td>1.000000</td>\n",
       "    </tr>\n",
       "  </tbody>\n",
       "</table>\n",
       "</div>"
      ],
      "text/plain": [
       "                               YEAR  TopOfAtmosphereIrradiance  \\\n",
       "YEAR                       1.000000                  -0.008206   \n",
       "TopOfAtmosphereIrradiance -0.008206                   1.000000   \n",
       "Sky-Surface-PAR           -0.227758                   0.209597   \n",
       "MeanTemperature_c          0.250419                   0.019113   \n",
       "DewFrostPoint_C            0.180427                   0.272133   \n",
       "MinTemperature_C           0.252648                   0.148989   \n",
       "MaxTemperature_C           0.200593                  -0.061728   \n",
       "RH_%                      -0.086329                   0.151525   \n",
       "SurfacePressure_kPa        0.028420                  -0.442965   \n",
       "WindSpeed                 -0.006116                   0.110286   \n",
       "Max_Wind_Speed            -0.002477                   0.112944   \n",
       "Min-Wind-Speed            -0.016467                   0.087765   \n",
       "Precipitation             -0.080134                   0.063060   \n",
       "\n",
       "                           Sky-Surface-PAR  MeanTemperature_c  \\\n",
       "YEAR                             -0.227758           0.250419   \n",
       "TopOfAtmosphereIrradiance         0.209597           0.019113   \n",
       "Sky-Surface-PAR                   1.000000           0.105189   \n",
       "MeanTemperature_c                 0.105189           1.000000   \n",
       "DewFrostPoint_C                  -0.000218          -0.103556   \n",
       "MinTemperature_C                 -0.051673           0.637029   \n",
       "MaxTemperature_C                  0.116368           0.938230   \n",
       "RH_%                             -0.090295          -0.815377   \n",
       "SurfacePressure_kPa              -0.204109          -0.418543   \n",
       "WindSpeed                        -0.024032          -0.077266   \n",
       "Max_Wind_Speed                   -0.075269          -0.009357   \n",
       "Min-Wind-Speed                   -0.001806          -0.134902   \n",
       "Precipitation                    -0.161506          -0.280054   \n",
       "\n",
       "                           DewFrostPoint_C  MinTemperature_C  \\\n",
       "YEAR                              0.180427          0.252648   \n",
       "TopOfAtmosphereIrradiance         0.272133          0.148989   \n",
       "Sky-Surface-PAR                  -0.000218         -0.051673   \n",
       "MeanTemperature_c                -0.103556          0.637029   \n",
       "DewFrostPoint_C                   1.000000          0.379546   \n",
       "MinTemperature_C                  0.379546          1.000000   \n",
       "MaxTemperature_C                 -0.313436          0.392430   \n",
       "RH_%                              0.650904         -0.246969   \n",
       "SurfacePressure_kPa              -0.230092         -0.407108   \n",
       "WindSpeed                        -0.037180         -0.069780   \n",
       "Max_Wind_Speed                   -0.071937          0.039810   \n",
       "Min-Wind-Speed                    0.078698         -0.123953   \n",
       "Precipitation                     0.217120          0.005753   \n",
       "\n",
       "                           MaxTemperature_C      RH_%  SurfacePressure_kPa  \\\n",
       "YEAR                               0.200593 -0.086329             0.028420   \n",
       "TopOfAtmosphereIrradiance         -0.061728  0.151525            -0.442965   \n",
       "Sky-Surface-PAR                    0.116368 -0.090295            -0.204109   \n",
       "MeanTemperature_c                  0.938230 -0.815377            -0.418543   \n",
       "DewFrostPoint_C                   -0.313436  0.650904            -0.230092   \n",
       "MinTemperature_C                   0.392430 -0.246969            -0.407108   \n",
       "MaxTemperature_C                   1.000000 -0.890701            -0.311749   \n",
       "RH_%                              -0.890701  1.000000             0.174483   \n",
       "SurfacePressure_kPa               -0.311749  0.174483             1.000000   \n",
       "WindSpeed                         -0.022776  0.064656             0.002069   \n",
       "Max_Wind_Speed                     0.022344 -0.008557            -0.022311   \n",
       "Min-Wind-Speed                    -0.077356  0.172471             0.024419   \n",
       "Precipitation                     -0.328951  0.359399             0.040118   \n",
       "\n",
       "                           WindSpeed  Max_Wind_Speed  Min-Wind-Speed  \\\n",
       "YEAR                       -0.006116       -0.002477       -0.016467   \n",
       "TopOfAtmosphereIrradiance   0.110286        0.112944        0.087765   \n",
       "Sky-Surface-PAR            -0.024032       -0.075269       -0.001806   \n",
       "MeanTemperature_c          -0.077266       -0.009357       -0.134902   \n",
       "DewFrostPoint_C            -0.037180       -0.071937        0.078698   \n",
       "MinTemperature_C           -0.069780        0.039810       -0.123953   \n",
       "MaxTemperature_C           -0.022776        0.022344       -0.077356   \n",
       "RH_%                        0.064656       -0.008557        0.172471   \n",
       "SurfacePressure_kPa         0.002069       -0.022311        0.024419   \n",
       "WindSpeed                   1.000000        0.829331        0.701639   \n",
       "Max_Wind_Speed              0.829331        1.000000        0.411383   \n",
       "Min-Wind-Speed              0.701639        0.411383        1.000000   \n",
       "Precipitation               0.042910        0.053490        0.038930   \n",
       "\n",
       "                           Precipitation  \n",
       "YEAR                           -0.080134  \n",
       "TopOfAtmosphereIrradiance       0.063060  \n",
       "Sky-Surface-PAR                -0.161506  \n",
       "MeanTemperature_c              -0.280054  \n",
       "DewFrostPoint_C                 0.217120  \n",
       "MinTemperature_C                0.005753  \n",
       "MaxTemperature_C               -0.328951  \n",
       "RH_%                            0.359399  \n",
       "SurfacePressure_kPa             0.040118  \n",
       "WindSpeed                       0.042910  \n",
       "Max_Wind_Speed                  0.053490  \n",
       "Min-Wind-Speed                  0.038930  \n",
       "Precipitation                   1.000000  "
      ]
     },
     "execution_count": 19,
     "metadata": {},
     "output_type": "execute_result"
    }
   ],
   "source": [
    "data.corr()"
   ]
  },
  {
   "cell_type": "code",
   "execution_count": 20,
   "id": "a5e48858",
   "metadata": {},
   "outputs": [],
   "source": [
    "labels = ['Year', 'TOA', 'PAR', 'mean_T', 'DFP', 'min_T', 'max_T', 'RH_%', 'surface_Presure', 'WindSpeed',\n",
    "          'Max_Wind_Speed', 'Min-Wind-Speed', 'Precipitation' ]"
   ]
  },
  {
   "cell_type": "code",
   "execution_count": 21,
   "id": "c78612f6",
   "metadata": {},
   "outputs": [
    {
     "data": {
      "text/plain": [
       "<AxesSubplot:>"
      ]
     },
     "execution_count": 21,
     "metadata": {},
     "output_type": "execute_result"
    },
    {
     "data": {
      "image/png": "[encoded data removed]",
      "text/plain": [
       "<Figure size 1440x576 with 2 Axes>"
      ]
     },
     "metadata": {
      "needs_background": "light"
     },
     "output_type": "display_data"
    }
   ],
   "source": [
    "plt.figure(figsize = (20,8))\n",
    "sns.heatmap(data.corr(),cmap='coolwarm', center=0,annot=True,\n",
    "            annot_kws = {'fontsize':8, },\n",
    "            linecolor='white',linewidths=2, \n",
    "           xticklabels = labels, yticklabels = labels\n",
    "           )"
   ]
  },
  {
   "cell_type": "markdown",
   "id": "5072ec5b",
   "metadata": {},
   "source": [
    "### example of high positive and negative correlation"
   ]
  },
  {
   "cell_type": "code",
   "execution_count": 22,
   "id": "28c629f6",
   "metadata": {},
   "outputs": [
    {
     "data": {
      "text/plain": [
       "Text(0, 0.5, 'DewFrostPoint_C')"
      ]
     },
     "execution_count": 22,
     "metadata": {},
     "output_type": "execute_result"
    },
    {
     "data": {
      "image/png": "[encoded data removed]",
      "text/plain": [
       "<Figure size 576x288 with 1 Axes>"
      ]
     },
     "metadata": {
      "needs_background": "light"
     },
     "output_type": "display_data"
    }
   ],
   "source": [
    "plt.figure(figsize=(8,4))\n",
    "plt.scatter(data['RH_%'],data['DewFrostPoint_C'])\n",
    "plt.xlabel('RH_%')\n",
    "plt.ylabel('DewFrostPoint_C')"
   ]
  },
  {
   "cell_type": "code",
   "execution_count": 23,
   "id": "fe745f7c",
   "metadata": {},
   "outputs": [
    {
     "data": {
      "text/plain": [
       "Text(0, 0.5, 'MaxTemperature_C')"
      ]
     },
     "execution_count": 23,
     "metadata": {},
     "output_type": "execute_result"
    },
    {
     "data": {
      "image/png": "[encoded data removed]",
      "text/plain": [
       "<Figure size 576x288 with 1 Axes>"
      ]
     },
     "metadata": {
      "needs_background": "light"
     },
     "output_type": "display_data"
    }
   ],
   "source": [
    "plt.figure(figsize=(8,4))\n",
    "plt.scatter(data['RH_%'],data['MaxTemperature_C'])\n",
    "plt.xlabel('RH_%')\n",
    "plt.ylabel('MaxTemperature_C')"
   ]
  },
  {
   "cell_type": "code",
   "execution_count": 24,
   "id": "a72b3624",
   "metadata": {},
   "outputs": [
    {
     "data": {
      "text/plain": [
       "Text(0, 0.5, 'MaxTemperature_C')"
      ]
     },
     "execution_count": 24,
     "metadata": {},
     "output_type": "execute_result"
    },
    {
     "data": {
      "image/png": "[encoded data removed]",
      "text/plain": [
       "<Figure size 576x288 with 1 Axes>"
      ]
     },
     "metadata": {
      "needs_background": "light"
     },
     "output_type": "display_data"
    }
   ],
   "source": [
    "plt.figure(figsize=(8,4))\n",
    "plt.scatter(data['RH_%'],data['MaxTemperature_C'])\n",
    "plt.xlabel('RH_%')\n",
    "plt.ylabel('MaxTemperature_C')"
   ]
  },
  {
   "cell_type": "markdown",
   "id": "a6c00b84",
   "metadata": {},
   "source": [
    "### No correlation"
   ]
  },
  {
   "cell_type": "code",
   "execution_count": 25,
   "id": "15b65463",
   "metadata": {},
   "outputs": [
    {
     "data": {
      "text/plain": [
       "Text(0, 0.5, 'Precipitation')"
      ]
     },
     "execution_count": 25,
     "metadata": {},
     "output_type": "execute_result"
    },
    {
     "data": {
      "image/png": "[encoded data removed]",
      "text/plain": [
       "<Figure size 576x288 with 1 Axes>"
      ]
     },
     "metadata": {
      "needs_background": "light"
     },
     "output_type": "display_data"
    }
   ],
   "source": [
    "plt.figure(figsize=(8,4))\n",
    "plt.scatter(data['MinTemperature_C'],data['Precipitation'])\n",
    "plt.xlabel('MinTemperature_C')\n",
    "plt.ylabel('Precipitation')"
   ]
  },
  {
   "cell_type": "markdown",
   "id": "3133e074",
   "metadata": {},
   "source": [
    "## Handling the outliers "
   ]
  },
  {
   "cell_type": "code",
   "execution_count": 26,
   "id": "fcbe30e2",
   "metadata": {},
   "outputs": [
    {
     "data": {
      "text/plain": [
       "<AxesSubplot:>"
      ]
     },
     "execution_count": 26,
     "metadata": {},
     "output_type": "execute_result"
    },
    {
     "data": {
      "image/png": "[encoded data removed]",
      "text/plain": [
       "<Figure size 432x288 with 1 Axes>"
      ]
     },
     "metadata": {
      "needs_background": "light"
     },
     "output_type": "display_data"
    }
   ],
   "source": [
    "data['TopOfAtmosphereIrradiance'].plot(kind = 'box')"
   ]
  },
  {
   "cell_type": "code",
   "execution_count": 27,
   "id": "7fed5d02",
   "metadata": {},
   "outputs": [
    {
     "data": {
      "text/plain": [
       "<AxesSubplot:>"
      ]
     },
     "execution_count": 27,
     "metadata": {},
     "output_type": "execute_result"
    },
    {
     "data": {
      "image/png": "[encoded data removed]",
      "text/plain": [
       "<Figure size 432x288 with 1 Axes>"
      ]
     },
     "metadata": {
      "needs_background": "light"
     },
     "output_type": "display_data"
    }
   ],
   "source": [
    "data['Sky-Surface-PAR'].plot(kind = 'box')"
   ]
  },
  {
   "cell_type": "code",
   "execution_count": 28,
   "id": "04e4735a",
   "metadata": {},
   "outputs": [
    {
     "data": {
      "text/plain": [
       "(82.0275, 113.4, 31.372500000000002, 34.96875, 160.45875)"
      ]
     },
     "execution_count": 28,
     "metadata": {},
     "output_type": "execute_result"
    }
   ],
   "source": [
    "q1 = data['Sky-Surface-PAR'].quantile(0.25)\n",
    "q3 = data['Sky-Surface-PAR'].quantile(0.75)\n",
    "iqr = q3 - q1\n",
    "lower_whisker = q1 - 1.5 * iqr\n",
    "upper_whisker = q3 + 1.5 * iqr\n",
    "q1, q3, iqr, lower_whisker, upper_whisker"
   ]
  },
  {
   "cell_type": "code",
   "execution_count": 29,
   "id": "c7967d57",
   "metadata": {},
   "outputs": [
    {
     "data": {
      "text/plain": [
       "0        False\n",
       "1        False\n",
       "2        False\n",
       "3        False\n",
       "4        False\n",
       "         ...  \n",
       "15029    False\n",
       "15030    False\n",
       "15031    False\n",
       "15032    False\n",
       "15033    False\n",
       "Name: Sky-Surface-PAR, Length: 15034, dtype: bool"
      ]
     },
     "execution_count": 29,
     "metadata": {},
     "output_type": "execute_result"
    }
   ],
   "source": [
    "lower_filt = data['Sky-Surface-PAR'] < lower_whisker\n",
    "upper_filt = data['Sky-Surface-PAR'] > upper_whisker\n",
    "filt = lower_filt | upper_filt\n",
    "filt"
   ]
  },
  {
   "cell_type": "code",
   "execution_count": 30,
   "id": "654d2e17",
   "metadata": {},
   "outputs": [
    {
     "data": {
      "text/plain": [
       "Int64Index([  841,   874,   878,   920,   921,  1049,  1052,  1175,  1182,\n",
       "             1218,\n",
       "            ...\n",
       "            13691, 13700, 13844, 13950, 14159, 14430, 14448, 14463, 14490,\n",
       "            14598],\n",
       "           dtype='int64', length=225)"
      ]
     },
     "execution_count": 30,
     "metadata": {},
     "output_type": "execute_result"
    }
   ],
   "source": [
    "outlier_indices = filt[filt].index\n",
    "outlier_indices"
   ]
  },
  {
   "cell_type": "code",
   "execution_count": 31,
   "id": "bfc3c149",
   "metadata": {},
   "outputs": [
    {
     "data": {
      "text/html": [
       "<div>\n",
       "<style scoped>\n",
       "    .dataframe tbody tr th:only-of-type {\n",
       "        vertical-align: middle;\n",
       "    }\n",
       "\n",
       "    .dataframe tbody tr th {\n",
       "        vertical-align: top;\n",
       "    }\n",
       "\n",
       "    .dataframe thead th {\n",
       "        text-align: right;\n",
       "    }\n",
       "</style>\n",
       "<table border=\"1\" class=\"dataframe\">\n",
       "  <thead>\n",
       "    <tr style=\"text-align: right;\">\n",
       "      <th></th>\n",
       "      <th>YEAR</th>\n",
       "      <th>TopOfAtmosphereIrradiance</th>\n",
       "      <th>Sky-Surface-PAR</th>\n",
       "      <th>MeanTemperature_c</th>\n",
       "      <th>DewFrostPoint_C</th>\n",
       "      <th>MinTemperature_C</th>\n",
       "      <th>MaxTemperature_C</th>\n",
       "      <th>RH_%</th>\n",
       "      <th>SurfacePressure_kPa</th>\n",
       "      <th>WindSpeed</th>\n",
       "      <th>Max_Wind_Speed</th>\n",
       "      <th>Min-Wind-Speed</th>\n",
       "      <th>Precipitation</th>\n",
       "    </tr>\n",
       "  </thead>\n",
       "  <tbody>\n",
       "    <tr>\n",
       "      <th>0</th>\n",
       "      <td>1982</td>\n",
       "      <td>36.19</td>\n",
       "      <td>99.4</td>\n",
       "      <td>24.55</td>\n",
       "      <td>21.76</td>\n",
       "      <td>21.04</td>\n",
       "      <td>28.43</td>\n",
       "      <td>85.31</td>\n",
       "      <td>96.73</td>\n",
       "      <td>0.45</td>\n",
       "      <td>0.68</td>\n",
       "      <td>0.11</td>\n",
       "      <td>2.32</td>\n",
       "    </tr>\n",
       "    <tr>\n",
       "      <th>1</th>\n",
       "      <td>1982</td>\n",
       "      <td>36.19</td>\n",
       "      <td>99.4</td>\n",
       "      <td>25.44</td>\n",
       "      <td>21.68</td>\n",
       "      <td>21.39</td>\n",
       "      <td>29.51</td>\n",
       "      <td>80.50</td>\n",
       "      <td>96.60</td>\n",
       "      <td>0.30</td>\n",
       "      <td>0.60</td>\n",
       "      <td>0.02</td>\n",
       "      <td>0.73</td>\n",
       "    </tr>\n",
       "    <tr>\n",
       "      <th>2</th>\n",
       "      <td>1982</td>\n",
       "      <td>36.19</td>\n",
       "      <td>99.4</td>\n",
       "      <td>24.90</td>\n",
       "      <td>22.59</td>\n",
       "      <td>22.26</td>\n",
       "      <td>28.30</td>\n",
       "      <td>87.44</td>\n",
       "      <td>96.61</td>\n",
       "      <td>0.43</td>\n",
       "      <td>0.62</td>\n",
       "      <td>0.30</td>\n",
       "      <td>1.02</td>\n",
       "    </tr>\n",
       "    <tr>\n",
       "      <th>3</th>\n",
       "      <td>1982</td>\n",
       "      <td>36.19</td>\n",
       "      <td>99.4</td>\n",
       "      <td>24.40</td>\n",
       "      <td>22.35</td>\n",
       "      <td>21.76</td>\n",
       "      <td>27.78</td>\n",
       "      <td>88.94</td>\n",
       "      <td>96.70</td>\n",
       "      <td>0.47</td>\n",
       "      <td>0.59</td>\n",
       "      <td>0.21</td>\n",
       "      <td>3.88</td>\n",
       "    </tr>\n",
       "    <tr>\n",
       "      <th>4</th>\n",
       "      <td>1982</td>\n",
       "      <td>36.19</td>\n",
       "      <td>99.4</td>\n",
       "      <td>23.95</td>\n",
       "      <td>21.35</td>\n",
       "      <td>21.73</td>\n",
       "      <td>26.94</td>\n",
       "      <td>86.19</td>\n",
       "      <td>96.79</td>\n",
       "      <td>0.41</td>\n",
       "      <td>0.58</td>\n",
       "      <td>0.15</td>\n",
       "      <td>1.53</td>\n",
       "    </tr>\n",
       "    <tr>\n",
       "      <th>...</th>\n",
       "      <td>...</td>\n",
       "      <td>...</td>\n",
       "      <td>...</td>\n",
       "      <td>...</td>\n",
       "      <td>...</td>\n",
       "      <td>...</td>\n",
       "      <td>...</td>\n",
       "      <td>...</td>\n",
       "      <td>...</td>\n",
       "      <td>...</td>\n",
       "      <td>...</td>\n",
       "      <td>...</td>\n",
       "      <td>...</td>\n",
       "    </tr>\n",
       "    <tr>\n",
       "      <th>15029</th>\n",
       "      <td>2023</td>\n",
       "      <td>37.89</td>\n",
       "      <td>99.4</td>\n",
       "      <td>25.03</td>\n",
       "      <td>23.18</td>\n",
       "      <td>22.23</td>\n",
       "      <td>28.48</td>\n",
       "      <td>89.94</td>\n",
       "      <td>96.73</td>\n",
       "      <td>0.52</td>\n",
       "      <td>0.82</td>\n",
       "      <td>0.30</td>\n",
       "      <td>2.31</td>\n",
       "    </tr>\n",
       "    <tr>\n",
       "      <th>15030</th>\n",
       "      <td>2023</td>\n",
       "      <td>37.91</td>\n",
       "      <td>99.4</td>\n",
       "      <td>25.92</td>\n",
       "      <td>23.23</td>\n",
       "      <td>22.14</td>\n",
       "      <td>30.16</td>\n",
       "      <td>85.94</td>\n",
       "      <td>96.73</td>\n",
       "      <td>0.62</td>\n",
       "      <td>1.03</td>\n",
       "      <td>0.37</td>\n",
       "      <td>0.97</td>\n",
       "    </tr>\n",
       "    <tr>\n",
       "      <th>15031</th>\n",
       "      <td>2023</td>\n",
       "      <td>37.93</td>\n",
       "      <td>99.4</td>\n",
       "      <td>25.80</td>\n",
       "      <td>23.10</td>\n",
       "      <td>22.72</td>\n",
       "      <td>28.90</td>\n",
       "      <td>85.62</td>\n",
       "      <td>96.84</td>\n",
       "      <td>0.40</td>\n",
       "      <td>0.64</td>\n",
       "      <td>0.07</td>\n",
       "      <td>1.61</td>\n",
       "    </tr>\n",
       "    <tr>\n",
       "      <th>15032</th>\n",
       "      <td>2023</td>\n",
       "      <td>37.95</td>\n",
       "      <td>99.4</td>\n",
       "      <td>25.46</td>\n",
       "      <td>23.19</td>\n",
       "      <td>22.62</td>\n",
       "      <td>29.22</td>\n",
       "      <td>87.81</td>\n",
       "      <td>96.94</td>\n",
       "      <td>0.28</td>\n",
       "      <td>0.45</td>\n",
       "      <td>0.05</td>\n",
       "      <td>5.44</td>\n",
       "    </tr>\n",
       "    <tr>\n",
       "      <th>15033</th>\n",
       "      <td>2023</td>\n",
       "      <td>36.19</td>\n",
       "      <td>99.4</td>\n",
       "      <td>25.54</td>\n",
       "      <td>23.01</td>\n",
       "      <td>22.20</td>\n",
       "      <td>29.15</td>\n",
       "      <td>86.50</td>\n",
       "      <td>96.94</td>\n",
       "      <td>0.46</td>\n",
       "      <td>0.77</td>\n",
       "      <td>0.27</td>\n",
       "      <td>2.21</td>\n",
       "    </tr>\n",
       "  </tbody>\n",
       "</table>\n",
       "<p>14809 rows × 13 columns</p>\n",
       "</div>"
      ],
      "text/plain": [
       "       YEAR  TopOfAtmosphereIrradiance  Sky-Surface-PAR  MeanTemperature_c  \\\n",
       "0      1982                      36.19             99.4              24.55   \n",
       "1      1982                      36.19             99.4              25.44   \n",
       "2      1982                      36.19             99.4              24.90   \n",
       "3      1982                      36.19             99.4              24.40   \n",
       "4      1982                      36.19             99.4              23.95   \n",
       "...     ...                        ...              ...                ...   \n",
       "15029  2023                      37.89             99.4              25.03   \n",
       "15030  2023                      37.91             99.4              25.92   \n",
       "15031  2023                      37.93             99.4              25.80   \n",
       "15032  2023                      37.95             99.4              25.46   \n",
       "15033  2023                      36.19             99.4              25.54   \n",
       "\n",
       "       DewFrostPoint_C  MinTemperature_C  MaxTemperature_C   RH_%  \\\n",
       "0                21.76             21.04             28.43  85.31   \n",
       "1                21.68             21.39             29.51  80.50   \n",
       "2                22.59             22.26             28.30  87.44   \n",
       "3                22.35             21.76             27.78  88.94   \n",
       "4                21.35             21.73             26.94  86.19   \n",
       "...                ...               ...               ...    ...   \n",
       "15029            23.18             22.23             28.48  89.94   \n",
       "15030            23.23             22.14             30.16  85.94   \n",
       "15031            23.10             22.72             28.90  85.62   \n",
       "15032            23.19             22.62             29.22  87.81   \n",
       "15033            23.01             22.20             29.15  86.50   \n",
       "\n",
       "       SurfacePressure_kPa  WindSpeed  Max_Wind_Speed  Min-Wind-Speed  \\\n",
       "0                    96.73       0.45            0.68            0.11   \n",
       "1                    96.60       0.30            0.60            0.02   \n",
       "2                    96.61       0.43            0.62            0.30   \n",
       "3                    96.70       0.47            0.59            0.21   \n",
       "4                    96.79       0.41            0.58            0.15   \n",
       "...                    ...        ...             ...             ...   \n",
       "15029                96.73       0.52            0.82            0.30   \n",
       "15030                96.73       0.62            1.03            0.37   \n",
       "15031                96.84       0.40            0.64            0.07   \n",
       "15032                96.94       0.28            0.45            0.05   \n",
       "15033                96.94       0.46            0.77            0.27   \n",
       "\n",
       "       Precipitation  \n",
       "0               2.32  \n",
       "1               0.73  \n",
       "2               1.02  \n",
       "3               3.88  \n",
       "4               1.53  \n",
       "...              ...  \n",
       "15029           2.31  \n",
       "15030           0.97  \n",
       "15031           1.61  \n",
       "15032           5.44  \n",
       "15033           2.21  \n",
       "\n",
       "[14809 rows x 13 columns]"
      ]
     },
     "execution_count": 31,
     "metadata": {},
     "output_type": "execute_result"
    }
   ],
   "source": [
    "data.drop(outlier_indices, axis = 0, inplace= True)\n",
    "data"
   ]
  },
  {
   "cell_type": "code",
   "execution_count": 32,
   "id": "ea9f5aee",
   "metadata": {},
   "outputs": [
    {
     "data": {
      "text/plain": [
       "<AxesSubplot:>"
      ]
     },
     "execution_count": 32,
     "metadata": {},
     "output_type": "execute_result"
    },
    {
     "data": {
      "image/png": "[encoded data removed]",
      "text/plain": [
       "<Figure size 432x288 with 1 Axes>"
      ]
     },
     "metadata": {
      "needs_background": "light"
     },
     "output_type": "display_data"
    }
   ],
   "source": [
    "data['Sky-Surface-PAR'].plot(kind = 'box')"
   ]
  },
  {
   "cell_type": "code",
   "execution_count": 33,
   "id": "be2b2ba9",
   "metadata": {},
   "outputs": [
    {
     "data": {
      "text/plain": [
       "<AxesSubplot:>"
      ]
     },
     "execution_count": 33,
     "metadata": {},
     "output_type": "execute_result"
    },
    {
     "data": {
      "image/png": "[encoded data removed]",
      "text/plain": [
       "<Figure size 432x288 with 1 Axes>"
      ]
     },
     "metadata": {
      "needs_background": "light"
     },
     "output_type": "display_data"
    }
   ],
   "source": [
    "data['MeanTemperature_c'].plot(kind = 'box')"
   ]
  },
  {
   "cell_type": "code",
   "execution_count": 34,
   "id": "637c4f6b",
   "metadata": {},
   "outputs": [
    {
     "name": "stdout",
     "output_type": "stream",
     "text": [
      "<class 'pandas.core.frame.DataFrame'>\n",
      "Int64Index: 14809 entries, 0 to 15033\n",
      "Data columns (total 13 columns):\n",
      " #   Column                     Non-Null Count  Dtype  \n",
      "---  ------                     --------------  -----  \n",
      " 0   YEAR                       14809 non-null  int64  \n",
      " 1   TopOfAtmosphereIrradiance  14809 non-null  float64\n",
      " 2   Sky-Surface-PAR            14809 non-null  float64\n",
      " 3   MeanTemperature_c          14809 non-null  float64\n",
      " 4   DewFrostPoint_C            14809 non-null  float64\n",
      " 5   MinTemperature_C           14809 non-null  float64\n",
      " 6   MaxTemperature_C           14809 non-null  float64\n",
      " 7   RH_%                       14809 non-null  float64\n",
      " 8   SurfacePressure_kPa        14809 non-null  float64\n",
      " 9   WindSpeed                  14809 non-null  float64\n",
      " 10  Max_Wind_Speed             14809 non-null  float64\n",
      " 11  Min-Wind-Speed             14809 non-null  float64\n",
      " 12  Precipitation              14809 non-null  float64\n",
      "dtypes: float64(12), int64(1)\n",
      "memory usage: 1.6 MB\n"
     ]
    }
   ],
   "source": [
    "data.info()"
   ]
  },
  {
   "cell_type": "code",
   "execution_count": 35,
   "id": "d186e193",
   "metadata": {},
   "outputs": [
    {
     "data": {
      "text/plain": [
       "(24.31, 25.58, 1.2699999999999996, 22.405, 27.485)"
      ]
     },
     "execution_count": 35,
     "metadata": {},
     "output_type": "execute_result"
    }
   ],
   "source": [
    "q1 = data['MeanTemperature_c'].quantile(0.25)\n",
    "q3 = data['MeanTemperature_c'].quantile(0.75)\n",
    "iqr = q3 - q1\n",
    "lower_whisker = q1 - 1.5 * iqr\n",
    "upper_whisker = q3 + 1.5 * iqr\n",
    "q1, q3, iqr, lower_whisker, upper_whisker"
   ]
  },
  {
   "cell_type": "code",
   "execution_count": 36,
   "id": "811d0fb1",
   "metadata": {},
   "outputs": [
    {
     "data": {
      "text/plain": [
       "0        False\n",
       "1        False\n",
       "2        False\n",
       "3        False\n",
       "4        False\n",
       "         ...  \n",
       "15029    False\n",
       "15030    False\n",
       "15031    False\n",
       "15032    False\n",
       "15033    False\n",
       "Name: MeanTemperature_c, Length: 14809, dtype: bool"
      ]
     },
     "execution_count": 36,
     "metadata": {},
     "output_type": "execute_result"
    }
   ],
   "source": [
    "lower_filt = data['MeanTemperature_c'] < lower_whisker\n",
    "upper_filt = data['MeanTemperature_c'] > upper_whisker\n",
    "filt = lower_filt | upper_filt\n",
    "filt"
   ]
  },
  {
   "cell_type": "code",
   "execution_count": 37,
   "id": "545cbccd",
   "metadata": {},
   "outputs": [
    {
     "data": {
      "text/plain": [
       "Int64Index([  330,   333,   334,   590,   649,   685,   696,   736,   737,\n",
       "              738,\n",
       "            ...\n",
       "            13980, 13984, 13985, 13993, 13994, 13995, 13998, 13999, 14003,\n",
       "            14294],\n",
       "           dtype='int64', length=750)"
      ]
     },
     "execution_count": 37,
     "metadata": {},
     "output_type": "execute_result"
    }
   ],
   "source": [
    "outlier_indices = filt[filt].index\n",
    "outlier_indices"
   ]
  },
  {
   "cell_type": "code",
   "execution_count": 38,
   "id": "b7ea23a4",
   "metadata": {},
   "outputs": [
    {
     "data": {
      "text/html": [
       "<div>\n",
       "<style scoped>\n",
       "    .dataframe tbody tr th:only-of-type {\n",
       "        vertical-align: middle;\n",
       "    }\n",
       "\n",
       "    .dataframe tbody tr th {\n",
       "        vertical-align: top;\n",
       "    }\n",
       "\n",
       "    .dataframe thead th {\n",
       "        text-align: right;\n",
       "    }\n",
       "</style>\n",
       "<table border=\"1\" class=\"dataframe\">\n",
       "  <thead>\n",
       "    <tr style=\"text-align: right;\">\n",
       "      <th></th>\n",
       "      <th>YEAR</th>\n",
       "      <th>TopOfAtmosphereIrradiance</th>\n",
       "      <th>Sky-Surface-PAR</th>\n",
       "      <th>MeanTemperature_c</th>\n",
       "      <th>DewFrostPoint_C</th>\n",
       "      <th>MinTemperature_C</th>\n",
       "      <th>MaxTemperature_C</th>\n",
       "      <th>RH_%</th>\n",
       "      <th>SurfacePressure_kPa</th>\n",
       "      <th>WindSpeed</th>\n",
       "      <th>Max_Wind_Speed</th>\n",
       "      <th>Min-Wind-Speed</th>\n",
       "      <th>Precipitation</th>\n",
       "    </tr>\n",
       "  </thead>\n",
       "  <tbody>\n",
       "    <tr>\n",
       "      <th>0</th>\n",
       "      <td>1982</td>\n",
       "      <td>36.19</td>\n",
       "      <td>99.4</td>\n",
       "      <td>24.55</td>\n",
       "      <td>21.76</td>\n",
       "      <td>21.04</td>\n",
       "      <td>28.43</td>\n",
       "      <td>85.31</td>\n",
       "      <td>96.73</td>\n",
       "      <td>0.45</td>\n",
       "      <td>0.68</td>\n",
       "      <td>0.11</td>\n",
       "      <td>2.32</td>\n",
       "    </tr>\n",
       "    <tr>\n",
       "      <th>1</th>\n",
       "      <td>1982</td>\n",
       "      <td>36.19</td>\n",
       "      <td>99.4</td>\n",
       "      <td>25.44</td>\n",
       "      <td>21.68</td>\n",
       "      <td>21.39</td>\n",
       "      <td>29.51</td>\n",
       "      <td>80.50</td>\n",
       "      <td>96.60</td>\n",
       "      <td>0.30</td>\n",
       "      <td>0.60</td>\n",
       "      <td>0.02</td>\n",
       "      <td>0.73</td>\n",
       "    </tr>\n",
       "    <tr>\n",
       "      <th>2</th>\n",
       "      <td>1982</td>\n",
       "      <td>36.19</td>\n",
       "      <td>99.4</td>\n",
       "      <td>24.90</td>\n",
       "      <td>22.59</td>\n",
       "      <td>22.26</td>\n",
       "      <td>28.30</td>\n",
       "      <td>87.44</td>\n",
       "      <td>96.61</td>\n",
       "      <td>0.43</td>\n",
       "      <td>0.62</td>\n",
       "      <td>0.30</td>\n",
       "      <td>1.02</td>\n",
       "    </tr>\n",
       "    <tr>\n",
       "      <th>3</th>\n",
       "      <td>1982</td>\n",
       "      <td>36.19</td>\n",
       "      <td>99.4</td>\n",
       "      <td>24.40</td>\n",
       "      <td>22.35</td>\n",
       "      <td>21.76</td>\n",
       "      <td>27.78</td>\n",
       "      <td>88.94</td>\n",
       "      <td>96.70</td>\n",
       "      <td>0.47</td>\n",
       "      <td>0.59</td>\n",
       "      <td>0.21</td>\n",
       "      <td>3.88</td>\n",
       "    </tr>\n",
       "    <tr>\n",
       "      <th>4</th>\n",
       "      <td>1982</td>\n",
       "      <td>36.19</td>\n",
       "      <td>99.4</td>\n",
       "      <td>23.95</td>\n",
       "      <td>21.35</td>\n",
       "      <td>21.73</td>\n",
       "      <td>26.94</td>\n",
       "      <td>86.19</td>\n",
       "      <td>96.79</td>\n",
       "      <td>0.41</td>\n",
       "      <td>0.58</td>\n",
       "      <td>0.15</td>\n",
       "      <td>1.53</td>\n",
       "    </tr>\n",
       "    <tr>\n",
       "      <th>...</th>\n",
       "      <td>...</td>\n",
       "      <td>...</td>\n",
       "      <td>...</td>\n",
       "      <td>...</td>\n",
       "      <td>...</td>\n",
       "      <td>...</td>\n",
       "      <td>...</td>\n",
       "      <td>...</td>\n",
       "      <td>...</td>\n",
       "      <td>...</td>\n",
       "      <td>...</td>\n",
       "      <td>...</td>\n",
       "      <td>...</td>\n",
       "    </tr>\n",
       "    <tr>\n",
       "      <th>15029</th>\n",
       "      <td>2023</td>\n",
       "      <td>37.89</td>\n",
       "      <td>99.4</td>\n",
       "      <td>25.03</td>\n",
       "      <td>23.18</td>\n",
       "      <td>22.23</td>\n",
       "      <td>28.48</td>\n",
       "      <td>89.94</td>\n",
       "      <td>96.73</td>\n",
       "      <td>0.52</td>\n",
       "      <td>0.82</td>\n",
       "      <td>0.30</td>\n",
       "      <td>2.31</td>\n",
       "    </tr>\n",
       "    <tr>\n",
       "      <th>15030</th>\n",
       "      <td>2023</td>\n",
       "      <td>37.91</td>\n",
       "      <td>99.4</td>\n",
       "      <td>25.92</td>\n",
       "      <td>23.23</td>\n",
       "      <td>22.14</td>\n",
       "      <td>30.16</td>\n",
       "      <td>85.94</td>\n",
       "      <td>96.73</td>\n",
       "      <td>0.62</td>\n",
       "      <td>1.03</td>\n",
       "      <td>0.37</td>\n",
       "      <td>0.97</td>\n",
       "    </tr>\n",
       "    <tr>\n",
       "      <th>15031</th>\n",
       "      <td>2023</td>\n",
       "      <td>37.93</td>\n",
       "      <td>99.4</td>\n",
       "      <td>25.80</td>\n",
       "      <td>23.10</td>\n",
       "      <td>22.72</td>\n",
       "      <td>28.90</td>\n",
       "      <td>85.62</td>\n",
       "      <td>96.84</td>\n",
       "      <td>0.40</td>\n",
       "      <td>0.64</td>\n",
       "      <td>0.07</td>\n",
       "      <td>1.61</td>\n",
       "    </tr>\n",
       "    <tr>\n",
       "      <th>15032</th>\n",
       "      <td>2023</td>\n",
       "      <td>37.95</td>\n",
       "      <td>99.4</td>\n",
       "      <td>25.46</td>\n",
       "      <td>23.19</td>\n",
       "      <td>22.62</td>\n",
       "      <td>29.22</td>\n",
       "      <td>87.81</td>\n",
       "      <td>96.94</td>\n",
       "      <td>0.28</td>\n",
       "      <td>0.45</td>\n",
       "      <td>0.05</td>\n",
       "      <td>5.44</td>\n",
       "    </tr>\n",
       "    <tr>\n",
       "      <th>15033</th>\n",
       "      <td>2023</td>\n",
       "      <td>36.19</td>\n",
       "      <td>99.4</td>\n",
       "      <td>25.54</td>\n",
       "      <td>23.01</td>\n",
       "      <td>22.20</td>\n",
       "      <td>29.15</td>\n",
       "      <td>86.50</td>\n",
       "      <td>96.94</td>\n",
       "      <td>0.46</td>\n",
       "      <td>0.77</td>\n",
       "      <td>0.27</td>\n",
       "      <td>2.21</td>\n",
       "    </tr>\n",
       "  </tbody>\n",
       "</table>\n",
       "<p>14059 rows × 13 columns</p>\n",
       "</div>"
      ],
      "text/plain": [
       "       YEAR  TopOfAtmosphereIrradiance  Sky-Surface-PAR  MeanTemperature_c  \\\n",
       "0      1982                      36.19             99.4              24.55   \n",
       "1      1982                      36.19             99.4              25.44   \n",
       "2      1982                      36.19             99.4              24.90   \n",
       "3      1982                      36.19             99.4              24.40   \n",
       "4      1982                      36.19             99.4              23.95   \n",
       "...     ...                        ...              ...                ...   \n",
       "15029  2023                      37.89             99.4              25.03   \n",
       "15030  2023                      37.91             99.4              25.92   \n",
       "15031  2023                      37.93             99.4              25.80   \n",
       "15032  2023                      37.95             99.4              25.46   \n",
       "15033  2023                      36.19             99.4              25.54   \n",
       "\n",
       "       DewFrostPoint_C  MinTemperature_C  MaxTemperature_C   RH_%  \\\n",
       "0                21.76             21.04             28.43  85.31   \n",
       "1                21.68             21.39             29.51  80.50   \n",
       "2                22.59             22.26             28.30  87.44   \n",
       "3                22.35             21.76             27.78  88.94   \n",
       "4                21.35             21.73             26.94  86.19   \n",
       "...                ...               ...               ...    ...   \n",
       "15029            23.18             22.23             28.48  89.94   \n",
       "15030            23.23             22.14             30.16  85.94   \n",
       "15031            23.10             22.72             28.90  85.62   \n",
       "15032            23.19             22.62             29.22  87.81   \n",
       "15033            23.01             22.20             29.15  86.50   \n",
       "\n",
       "       SurfacePressure_kPa  WindSpeed  Max_Wind_Speed  Min-Wind-Speed  \\\n",
       "0                    96.73       0.45            0.68            0.11   \n",
       "1                    96.60       0.30            0.60            0.02   \n",
       "2                    96.61       0.43            0.62            0.30   \n",
       "3                    96.70       0.47            0.59            0.21   \n",
       "4                    96.79       0.41            0.58            0.15   \n",
       "...                    ...        ...             ...             ...   \n",
       "15029                96.73       0.52            0.82            0.30   \n",
       "15030                96.73       0.62            1.03            0.37   \n",
       "15031                96.84       0.40            0.64            0.07   \n",
       "15032                96.94       0.28            0.45            0.05   \n",
       "15033                96.94       0.46            0.77            0.27   \n",
       "\n",
       "       Precipitation  \n",
       "0               2.32  \n",
       "1               0.73  \n",
       "2               1.02  \n",
       "3               3.88  \n",
       "4               1.53  \n",
       "...              ...  \n",
       "15029           2.31  \n",
       "15030           0.97  \n",
       "15031           1.61  \n",
       "15032           5.44  \n",
       "15033           2.21  \n",
       "\n",
       "[14059 rows x 13 columns]"
      ]
     },
     "execution_count": 38,
     "metadata": {},
     "output_type": "execute_result"
    }
   ],
   "source": [
    "data.drop(outlier_indices, axis = 0, inplace= True)\n",
    "data"
   ]
  },
  {
   "cell_type": "code",
   "execution_count": 39,
   "id": "cdc342c6",
   "metadata": {},
   "outputs": [
    {
     "data": {
      "text/plain": [
       "<AxesSubplot:>"
      ]
     },
     "execution_count": 39,
     "metadata": {},
     "output_type": "execute_result"
    },
    {
     "data": {
      "image/png": "[encoded data removed]",
      "text/plain": [
       "<Figure size 432x288 with 1 Axes>"
      ]
     },
     "metadata": {
      "needs_background": "light"
     },
     "output_type": "display_data"
    }
   ],
   "source": [
    "data['MeanTemperature_c'].plot(kind = 'box')"
   ]
  },
  {
   "cell_type": "code",
   "execution_count": 40,
   "id": "bfe0fa3a",
   "metadata": {},
   "outputs": [
    {
     "data": {
      "text/plain": [
       "<AxesSubplot:>"
      ]
     },
     "execution_count": 40,
     "metadata": {},
     "output_type": "execute_result"
    },
    {
     "data": {
      "image/png": "[encoded data removed]",
      "text/plain": [
       "<Figure size 432x288 with 1 Axes>"
      ]
     },
     "metadata": {
      "needs_background": "light"
     },
     "output_type": "display_data"
    }
   ],
   "source": [
    "data['DewFrostPoint_C'].plot(kind = 'box')"
   ]
  },
  {
   "cell_type": "code",
   "execution_count": 41,
   "id": "dd6f9989",
   "metadata": {},
   "outputs": [
    {
     "data": {
      "text/plain": [
       "(21.82, 22.81, 0.9899999999999984, 20.335, 24.294999999999995)"
      ]
     },
     "execution_count": 41,
     "metadata": {},
     "output_type": "execute_result"
    }
   ],
   "source": [
    "q1 = data['DewFrostPoint_C'].quantile(0.25)\n",
    "q3 = data['DewFrostPoint_C'].quantile(0.75)\n",
    "iqr = q3 - q1\n",
    "lower_whisker = q1 - 1.5 * iqr\n",
    "upper_whisker = q3 + 1.5 * iqr\n",
    "q1, q3, iqr, lower_whisker, upper_whisker"
   ]
  },
  {
   "cell_type": "code",
   "execution_count": 42,
   "id": "05614bf9",
   "metadata": {},
   "outputs": [
    {
     "data": {
      "text/plain": [
       "0        False\n",
       "1        False\n",
       "2        False\n",
       "3        False\n",
       "4        False\n",
       "         ...  \n",
       "15029    False\n",
       "15030    False\n",
       "15031    False\n",
       "15032    False\n",
       "15033    False\n",
       "Name: DewFrostPoint_C, Length: 14059, dtype: bool"
      ]
     },
     "execution_count": 42,
     "metadata": {},
     "output_type": "execute_result"
    }
   ],
   "source": [
    "lower_filt = data['DewFrostPoint_C'] < lower_whisker\n",
    "upper_filt = data['DewFrostPoint_C'] > upper_whisker\n",
    "filt = lower_filt | upper_filt\n",
    "filt"
   ]
  },
  {
   "cell_type": "code",
   "execution_count": 43,
   "id": "2b48d32b",
   "metadata": {},
   "outputs": [
    {
     "data": {
      "text/plain": [
       "Int64Index([   41,   196,   197,   198,   199,   200,   371,   450,   739,\n",
       "              745,\n",
       "            ...\n",
       "            14078, 14079, 14096, 14097, 14295, 14438, 14439, 14452, 14453,\n",
       "            14454],\n",
       "           dtype='int64', length=375)"
      ]
     },
     "execution_count": 43,
     "metadata": {},
     "output_type": "execute_result"
    }
   ],
   "source": [
    "outlier_indices = filt[filt].index\n",
    "outlier_indices"
   ]
  },
  {
   "cell_type": "code",
   "execution_count": 44,
   "id": "05dd59c6",
   "metadata": {},
   "outputs": [
    {
     "data": {
      "text/html": [
       "<div>\n",
       "<style scoped>\n",
       "    .dataframe tbody tr th:only-of-type {\n",
       "        vertical-align: middle;\n",
       "    }\n",
       "\n",
       "    .dataframe tbody tr th {\n",
       "        vertical-align: top;\n",
       "    }\n",
       "\n",
       "    .dataframe thead th {\n",
       "        text-align: right;\n",
       "    }\n",
       "</style>\n",
       "<table border=\"1\" class=\"dataframe\">\n",
       "  <thead>\n",
       "    <tr style=\"text-align: right;\">\n",
       "      <th></th>\n",
       "      <th>YEAR</th>\n",
       "      <th>TopOfAtmosphereIrradiance</th>\n",
       "      <th>Sky-Surface-PAR</th>\n",
       "      <th>MeanTemperature_c</th>\n",
       "      <th>DewFrostPoint_C</th>\n",
       "      <th>MinTemperature_C</th>\n",
       "      <th>MaxTemperature_C</th>\n",
       "      <th>RH_%</th>\n",
       "      <th>SurfacePressure_kPa</th>\n",
       "      <th>WindSpeed</th>\n",
       "      <th>Max_Wind_Speed</th>\n",
       "      <th>Min-Wind-Speed</th>\n",
       "      <th>Precipitation</th>\n",
       "    </tr>\n",
       "  </thead>\n",
       "  <tbody>\n",
       "    <tr>\n",
       "      <th>0</th>\n",
       "      <td>1982</td>\n",
       "      <td>36.19</td>\n",
       "      <td>99.4</td>\n",
       "      <td>24.55</td>\n",
       "      <td>21.76</td>\n",
       "      <td>21.04</td>\n",
       "      <td>28.43</td>\n",
       "      <td>85.31</td>\n",
       "      <td>96.73</td>\n",
       "      <td>0.45</td>\n",
       "      <td>0.68</td>\n",
       "      <td>0.11</td>\n",
       "      <td>2.32</td>\n",
       "    </tr>\n",
       "    <tr>\n",
       "      <th>1</th>\n",
       "      <td>1982</td>\n",
       "      <td>36.19</td>\n",
       "      <td>99.4</td>\n",
       "      <td>25.44</td>\n",
       "      <td>21.68</td>\n",
       "      <td>21.39</td>\n",
       "      <td>29.51</td>\n",
       "      <td>80.50</td>\n",
       "      <td>96.60</td>\n",
       "      <td>0.30</td>\n",
       "      <td>0.60</td>\n",
       "      <td>0.02</td>\n",
       "      <td>0.73</td>\n",
       "    </tr>\n",
       "    <tr>\n",
       "      <th>2</th>\n",
       "      <td>1982</td>\n",
       "      <td>36.19</td>\n",
       "      <td>99.4</td>\n",
       "      <td>24.90</td>\n",
       "      <td>22.59</td>\n",
       "      <td>22.26</td>\n",
       "      <td>28.30</td>\n",
       "      <td>87.44</td>\n",
       "      <td>96.61</td>\n",
       "      <td>0.43</td>\n",
       "      <td>0.62</td>\n",
       "      <td>0.30</td>\n",
       "      <td>1.02</td>\n",
       "    </tr>\n",
       "    <tr>\n",
       "      <th>3</th>\n",
       "      <td>1982</td>\n",
       "      <td>36.19</td>\n",
       "      <td>99.4</td>\n",
       "      <td>24.40</td>\n",
       "      <td>22.35</td>\n",
       "      <td>21.76</td>\n",
       "      <td>27.78</td>\n",
       "      <td>88.94</td>\n",
       "      <td>96.70</td>\n",
       "      <td>0.47</td>\n",
       "      <td>0.59</td>\n",
       "      <td>0.21</td>\n",
       "      <td>3.88</td>\n",
       "    </tr>\n",
       "    <tr>\n",
       "      <th>4</th>\n",
       "      <td>1982</td>\n",
       "      <td>36.19</td>\n",
       "      <td>99.4</td>\n",
       "      <td>23.95</td>\n",
       "      <td>21.35</td>\n",
       "      <td>21.73</td>\n",
       "      <td>26.94</td>\n",
       "      <td>86.19</td>\n",
       "      <td>96.79</td>\n",
       "      <td>0.41</td>\n",
       "      <td>0.58</td>\n",
       "      <td>0.15</td>\n",
       "      <td>1.53</td>\n",
       "    </tr>\n",
       "    <tr>\n",
       "      <th>...</th>\n",
       "      <td>...</td>\n",
       "      <td>...</td>\n",
       "      <td>...</td>\n",
       "      <td>...</td>\n",
       "      <td>...</td>\n",
       "      <td>...</td>\n",
       "      <td>...</td>\n",
       "      <td>...</td>\n",
       "      <td>...</td>\n",
       "      <td>...</td>\n",
       "      <td>...</td>\n",
       "      <td>...</td>\n",
       "      <td>...</td>\n",
       "    </tr>\n",
       "    <tr>\n",
       "      <th>15029</th>\n",
       "      <td>2023</td>\n",
       "      <td>37.89</td>\n",
       "      <td>99.4</td>\n",
       "      <td>25.03</td>\n",
       "      <td>23.18</td>\n",
       "      <td>22.23</td>\n",
       "      <td>28.48</td>\n",
       "      <td>89.94</td>\n",
       "      <td>96.73</td>\n",
       "      <td>0.52</td>\n",
       "      <td>0.82</td>\n",
       "      <td>0.30</td>\n",
       "      <td>2.31</td>\n",
       "    </tr>\n",
       "    <tr>\n",
       "      <th>15030</th>\n",
       "      <td>2023</td>\n",
       "      <td>37.91</td>\n",
       "      <td>99.4</td>\n",
       "      <td>25.92</td>\n",
       "      <td>23.23</td>\n",
       "      <td>22.14</td>\n",
       "      <td>30.16</td>\n",
       "      <td>85.94</td>\n",
       "      <td>96.73</td>\n",
       "      <td>0.62</td>\n",
       "      <td>1.03</td>\n",
       "      <td>0.37</td>\n",
       "      <td>0.97</td>\n",
       "    </tr>\n",
       "    <tr>\n",
       "      <th>15031</th>\n",
       "      <td>2023</td>\n",
       "      <td>37.93</td>\n",
       "      <td>99.4</td>\n",
       "      <td>25.80</td>\n",
       "      <td>23.10</td>\n",
       "      <td>22.72</td>\n",
       "      <td>28.90</td>\n",
       "      <td>85.62</td>\n",
       "      <td>96.84</td>\n",
       "      <td>0.40</td>\n",
       "      <td>0.64</td>\n",
       "      <td>0.07</td>\n",
       "      <td>1.61</td>\n",
       "    </tr>\n",
       "    <tr>\n",
       "      <th>15032</th>\n",
       "      <td>2023</td>\n",
       "      <td>37.95</td>\n",
       "      <td>99.4</td>\n",
       "      <td>25.46</td>\n",
       "      <td>23.19</td>\n",
       "      <td>22.62</td>\n",
       "      <td>29.22</td>\n",
       "      <td>87.81</td>\n",
       "      <td>96.94</td>\n",
       "      <td>0.28</td>\n",
       "      <td>0.45</td>\n",
       "      <td>0.05</td>\n",
       "      <td>5.44</td>\n",
       "    </tr>\n",
       "    <tr>\n",
       "      <th>15033</th>\n",
       "      <td>2023</td>\n",
       "      <td>36.19</td>\n",
       "      <td>99.4</td>\n",
       "      <td>25.54</td>\n",
       "      <td>23.01</td>\n",
       "      <td>22.20</td>\n",
       "      <td>29.15</td>\n",
       "      <td>86.50</td>\n",
       "      <td>96.94</td>\n",
       "      <td>0.46</td>\n",
       "      <td>0.77</td>\n",
       "      <td>0.27</td>\n",
       "      <td>2.21</td>\n",
       "    </tr>\n",
       "  </tbody>\n",
       "</table>\n",
       "<p>13684 rows × 13 columns</p>\n",
       "</div>"
      ],
      "text/plain": [
       "       YEAR  TopOfAtmosphereIrradiance  Sky-Surface-PAR  MeanTemperature_c  \\\n",
       "0      1982                      36.19             99.4              24.55   \n",
       "1      1982                      36.19             99.4              25.44   \n",
       "2      1982                      36.19             99.4              24.90   \n",
       "3      1982                      36.19             99.4              24.40   \n",
       "4      1982                      36.19             99.4              23.95   \n",
       "...     ...                        ...              ...                ...   \n",
       "15029  2023                      37.89             99.4              25.03   \n",
       "15030  2023                      37.91             99.4              25.92   \n",
       "15031  2023                      37.93             99.4              25.80   \n",
       "15032  2023                      37.95             99.4              25.46   \n",
       "15033  2023                      36.19             99.4              25.54   \n",
       "\n",
       "       DewFrostPoint_C  MinTemperature_C  MaxTemperature_C   RH_%  \\\n",
       "0                21.76             21.04             28.43  85.31   \n",
       "1                21.68             21.39             29.51  80.50   \n",
       "2                22.59             22.26             28.30  87.44   \n",
       "3                22.35             21.76             27.78  88.94   \n",
       "4                21.35             21.73             26.94  86.19   \n",
       "...                ...               ...               ...    ...   \n",
       "15029            23.18             22.23             28.48  89.94   \n",
       "15030            23.23             22.14             30.16  85.94   \n",
       "15031            23.10             22.72             28.90  85.62   \n",
       "15032            23.19             22.62             29.22  87.81   \n",
       "15033            23.01             22.20             29.15  86.50   \n",
       "\n",
       "       SurfacePressure_kPa  WindSpeed  Max_Wind_Speed  Min-Wind-Speed  \\\n",
       "0                    96.73       0.45            0.68            0.11   \n",
       "1                    96.60       0.30            0.60            0.02   \n",
       "2                    96.61       0.43            0.62            0.30   \n",
       "3                    96.70       0.47            0.59            0.21   \n",
       "4                    96.79       0.41            0.58            0.15   \n",
       "...                    ...        ...             ...             ...   \n",
       "15029                96.73       0.52            0.82            0.30   \n",
       "15030                96.73       0.62            1.03            0.37   \n",
       "15031                96.84       0.40            0.64            0.07   \n",
       "15032                96.94       0.28            0.45            0.05   \n",
       "15033                96.94       0.46            0.77            0.27   \n",
       "\n",
       "       Precipitation  \n",
       "0               2.32  \n",
       "1               0.73  \n",
       "2               1.02  \n",
       "3               3.88  \n",
       "4               1.53  \n",
       "...              ...  \n",
       "15029           2.31  \n",
       "15030           0.97  \n",
       "15031           1.61  \n",
       "15032           5.44  \n",
       "15033           2.21  \n",
       "\n",
       "[13684 rows x 13 columns]"
      ]
     },
     "execution_count": 44,
     "metadata": {},
     "output_type": "execute_result"
    }
   ],
   "source": [
    "data.drop(outlier_indices, axis = 0, inplace= True)\n",
    "data"
   ]
  },
  {
   "cell_type": "code",
   "execution_count": 45,
   "id": "09417dd6",
   "metadata": {},
   "outputs": [
    {
     "data": {
      "text/plain": [
       "<AxesSubplot:>"
      ]
     },
     "execution_count": 45,
     "metadata": {},
     "output_type": "execute_result"
    },
    {
     "data": {
      "image/png": "[encoded data removed]",
      "text/plain": [
       "<Figure size 432x288 with 1 Axes>"
      ]
     },
     "metadata": {
      "needs_background": "light"
     },
     "output_type": "display_data"
    }
   ],
   "source": [
    "data['DewFrostPoint_C'].plot(kind = 'box')"
   ]
  },
  {
   "cell_type": "code",
   "execution_count": null,
   "id": "da265e96",
   "metadata": {},
   "outputs": [],
   "source": []
  },
  {
   "cell_type": "code",
   "execution_count": null,
   "id": "405aafbe",
   "metadata": {},
   "outputs": [],
   "source": []
  },
  {
   "cell_type": "code",
   "execution_count": 46,
   "id": "6ccd4963",
   "metadata": {},
   "outputs": [
    {
     "data": {
      "text/plain": [
       "<AxesSubplot:>"
      ]
     },
     "execution_count": 46,
     "metadata": {},
     "output_type": "execute_result"
    },
    {
     "data": {
      "image/png": "[encoded data removed]",
      "text/plain": [
       "<Figure size 432x288 with 1 Axes>"
      ]
     },
     "metadata": {
      "needs_background": "light"
     },
     "output_type": "display_data"
    }
   ],
   "source": [
    "data['MinTemperature_C'].plot(kind = 'box')"
   ]
  },
  {
   "cell_type": "code",
   "execution_count": 47,
   "id": "b10c64a0",
   "metadata": {},
   "outputs": [
    {
     "data": {
      "text/plain": [
       "(21.24, 22.26, 1.0200000000000031, 19.709999999999994, 23.790000000000006)"
      ]
     },
     "execution_count": 47,
     "metadata": {},
     "output_type": "execute_result"
    }
   ],
   "source": [
    "q1 = data['MinTemperature_C'].quantile(0.25)\n",
    "q3 = data['MinTemperature_C'].quantile(0.75)\n",
    "iqr = q3 - q1\n",
    "lower_whisker = q1 - 1.5 * iqr\n",
    "upper_whisker = q3 + 1.5 * iqr\n",
    "q1, q3, iqr, lower_whisker, upper_whisker"
   ]
  },
  {
   "cell_type": "code",
   "execution_count": 48,
   "id": "c0a7ded3",
   "metadata": {},
   "outputs": [
    {
     "data": {
      "text/plain": [
       "0        False\n",
       "1        False\n",
       "2        False\n",
       "3        False\n",
       "4        False\n",
       "         ...  \n",
       "15029    False\n",
       "15030    False\n",
       "15031    False\n",
       "15032    False\n",
       "15033    False\n",
       "Name: MinTemperature_C, Length: 13684, dtype: bool"
      ]
     },
     "execution_count": 48,
     "metadata": {},
     "output_type": "execute_result"
    }
   ],
   "source": [
    "lower_filt = data['MinTemperature_C'] < lower_whisker\n",
    "upper_filt = data['MinTemperature_C'] > upper_whisker\n",
    "filt = lower_filt | upper_filt\n",
    "filt"
   ]
  },
  {
   "cell_type": "code",
   "execution_count": 49,
   "id": "97935dcb",
   "metadata": {},
   "outputs": [
    {
     "data": {
      "text/plain": [
       "Int64Index([   42,    45,   372,   375,   383,   394,   726,   774,   775,\n",
       "              932,\n",
       "            ...\n",
       "            13939, 13946, 13954, 13969, 13971, 13978, 13986, 14004, 14657,\n",
       "            14856],\n",
       "           dtype='int64', length=179)"
      ]
     },
     "execution_count": 49,
     "metadata": {},
     "output_type": "execute_result"
    }
   ],
   "source": [
    "outlier_indices = filt[filt].index\n",
    "outlier_indices"
   ]
  },
  {
   "cell_type": "code",
   "execution_count": 50,
   "id": "f12e57df",
   "metadata": {},
   "outputs": [],
   "source": [
    "data.drop(outlier_indices, axis = 0, inplace= True)"
   ]
  },
  {
   "cell_type": "code",
   "execution_count": 51,
   "id": "9ca4df32",
   "metadata": {},
   "outputs": [
    {
     "data": {
      "text/plain": [
       "<AxesSubplot:>"
      ]
     },
     "execution_count": 51,
     "metadata": {},
     "output_type": "execute_result"
    },
    {
     "data": {
      "image/png": "[encoded data removed]",
      "text/plain": [
       "<Figure size 432x288 with 1 Axes>"
      ]
     },
     "metadata": {
      "needs_background": "light"
     },
     "output_type": "display_data"
    }
   ],
   "source": [
    "data['MinTemperature_C'].plot(kind = 'box')"
   ]
  },
  {
   "cell_type": "code",
   "execution_count": 52,
   "id": "8a7cb442",
   "metadata": {},
   "outputs": [
    {
     "data": {
      "text/plain": [
       "Index(['YEAR', 'TopOfAtmosphereIrradiance', 'Sky-Surface-PAR',\n",
       "       'MeanTemperature_c', 'DewFrostPoint_C', 'MinTemperature_C',\n",
       "       'MaxTemperature_C', 'RH_%', 'SurfacePressure_kPa', 'WindSpeed',\n",
       "       'Max_Wind_Speed', 'Min-Wind-Speed', 'Precipitation'],\n",
       "      dtype='object')"
      ]
     },
     "execution_count": 52,
     "metadata": {},
     "output_type": "execute_result"
    }
   ],
   "source": [
    "data.columns"
   ]
  },
  {
   "cell_type": "code",
   "execution_count": 53,
   "id": "da1268ef",
   "metadata": {},
   "outputs": [
    {
     "data": {
      "text/plain": [
       "<AxesSubplot:>"
      ]
     },
     "execution_count": 53,
     "metadata": {},
     "output_type": "execute_result"
    },
    {
     "data": {
      "image/png": "[encoded data removed]",
      "text/plain": [
       "<Figure size 432x288 with 1 Axes>"
      ]
     },
     "metadata": {
      "needs_background": "light"
     },
     "output_type": "display_data"
    }
   ],
   "source": [
    "data['MaxTemperature_C'].plot(kind = 'box')"
   ]
  },
  {
   "cell_type": "code",
   "execution_count": 54,
   "id": "46d43cd9",
   "metadata": {},
   "outputs": [
    {
     "data": {
      "text/plain": [
       "(27.5, 29.31, 1.8099999999999987, 24.785000000000004, 32.025)"
      ]
     },
     "execution_count": 54,
     "metadata": {},
     "output_type": "execute_result"
    }
   ],
   "source": [
    "q1 = data['MaxTemperature_C'].quantile(0.25)\n",
    "q3 = data['MaxTemperature_C'].quantile(0.75)\n",
    "iqr = q3 - q1\n",
    "lower_whisker = q1 - 1.5 * iqr\n",
    "upper_whisker = q3 + 1.5 * iqr\n",
    "q1, q3, iqr, lower_whisker, upper_whisker"
   ]
  },
  {
   "cell_type": "code",
   "execution_count": 55,
   "id": "6293e736",
   "metadata": {},
   "outputs": [
    {
     "data": {
      "text/plain": [
       "0        False\n",
       "1        False\n",
       "2        False\n",
       "3        False\n",
       "4        False\n",
       "         ...  \n",
       "15029    False\n",
       "15030    False\n",
       "15031    False\n",
       "15032    False\n",
       "15033    False\n",
       "Name: MaxTemperature_C, Length: 13505, dtype: bool"
      ]
     },
     "execution_count": 55,
     "metadata": {},
     "output_type": "execute_result"
    }
   ],
   "source": [
    "lower_filt = data['MaxTemperature_C'] < lower_whisker\n",
    "upper_filt = data['MaxTemperature_C'] > upper_whisker\n",
    "filt = lower_filt | upper_filt\n",
    "filt"
   ]
  },
  {
   "cell_type": "code",
   "execution_count": 56,
   "id": "9808b9a6",
   "metadata": {},
   "outputs": [
    {
     "data": {
      "text/plain": [
       "Int64Index([   18,    44,   129,   154,   285,   563,   634,   718,   723,\n",
       "             1346,\n",
       "            ...\n",
       "            13952, 13973, 13983, 13992, 13997, 14002, 14608, 14708, 14711,\n",
       "            14922],\n",
       "           dtype='int64', length=312)"
      ]
     },
     "execution_count": 56,
     "metadata": {},
     "output_type": "execute_result"
    }
   ],
   "source": [
    "outlier_indices = filt[filt].index\n",
    "outlier_indices"
   ]
  },
  {
   "cell_type": "code",
   "execution_count": 57,
   "id": "0233e11b",
   "metadata": {},
   "outputs": [
    {
     "data": {
      "text/html": [
       "<div>\n",
       "<style scoped>\n",
       "    .dataframe tbody tr th:only-of-type {\n",
       "        vertical-align: middle;\n",
       "    }\n",
       "\n",
       "    .dataframe tbody tr th {\n",
       "        vertical-align: top;\n",
       "    }\n",
       "\n",
       "    .dataframe thead th {\n",
       "        text-align: right;\n",
       "    }\n",
       "</style>\n",
       "<table border=\"1\" class=\"dataframe\">\n",
       "  <thead>\n",
       "    <tr style=\"text-align: right;\">\n",
       "      <th></th>\n",
       "      <th>YEAR</th>\n",
       "      <th>TopOfAtmosphereIrradiance</th>\n",
       "      <th>Sky-Surface-PAR</th>\n",
       "      <th>MeanTemperature_c</th>\n",
       "      <th>DewFrostPoint_C</th>\n",
       "      <th>MinTemperature_C</th>\n",
       "      <th>MaxTemperature_C</th>\n",
       "      <th>RH_%</th>\n",
       "      <th>SurfacePressure_kPa</th>\n",
       "      <th>WindSpeed</th>\n",
       "      <th>Max_Wind_Speed</th>\n",
       "      <th>Min-Wind-Speed</th>\n",
       "      <th>Precipitation</th>\n",
       "    </tr>\n",
       "  </thead>\n",
       "  <tbody>\n",
       "    <tr>\n",
       "      <th>0</th>\n",
       "      <td>1982</td>\n",
       "      <td>36.19</td>\n",
       "      <td>99.4</td>\n",
       "      <td>24.55</td>\n",
       "      <td>21.76</td>\n",
       "      <td>21.04</td>\n",
       "      <td>28.43</td>\n",
       "      <td>85.31</td>\n",
       "      <td>96.73</td>\n",
       "      <td>0.45</td>\n",
       "      <td>0.68</td>\n",
       "      <td>0.11</td>\n",
       "      <td>2.32</td>\n",
       "    </tr>\n",
       "    <tr>\n",
       "      <th>1</th>\n",
       "      <td>1982</td>\n",
       "      <td>36.19</td>\n",
       "      <td>99.4</td>\n",
       "      <td>25.44</td>\n",
       "      <td>21.68</td>\n",
       "      <td>21.39</td>\n",
       "      <td>29.51</td>\n",
       "      <td>80.50</td>\n",
       "      <td>96.60</td>\n",
       "      <td>0.30</td>\n",
       "      <td>0.60</td>\n",
       "      <td>0.02</td>\n",
       "      <td>0.73</td>\n",
       "    </tr>\n",
       "    <tr>\n",
       "      <th>2</th>\n",
       "      <td>1982</td>\n",
       "      <td>36.19</td>\n",
       "      <td>99.4</td>\n",
       "      <td>24.90</td>\n",
       "      <td>22.59</td>\n",
       "      <td>22.26</td>\n",
       "      <td>28.30</td>\n",
       "      <td>87.44</td>\n",
       "      <td>96.61</td>\n",
       "      <td>0.43</td>\n",
       "      <td>0.62</td>\n",
       "      <td>0.30</td>\n",
       "      <td>1.02</td>\n",
       "    </tr>\n",
       "    <tr>\n",
       "      <th>3</th>\n",
       "      <td>1982</td>\n",
       "      <td>36.19</td>\n",
       "      <td>99.4</td>\n",
       "      <td>24.40</td>\n",
       "      <td>22.35</td>\n",
       "      <td>21.76</td>\n",
       "      <td>27.78</td>\n",
       "      <td>88.94</td>\n",
       "      <td>96.70</td>\n",
       "      <td>0.47</td>\n",
       "      <td>0.59</td>\n",
       "      <td>0.21</td>\n",
       "      <td>3.88</td>\n",
       "    </tr>\n",
       "    <tr>\n",
       "      <th>4</th>\n",
       "      <td>1982</td>\n",
       "      <td>36.19</td>\n",
       "      <td>99.4</td>\n",
       "      <td>23.95</td>\n",
       "      <td>21.35</td>\n",
       "      <td>21.73</td>\n",
       "      <td>26.94</td>\n",
       "      <td>86.19</td>\n",
       "      <td>96.79</td>\n",
       "      <td>0.41</td>\n",
       "      <td>0.58</td>\n",
       "      <td>0.15</td>\n",
       "      <td>1.53</td>\n",
       "    </tr>\n",
       "    <tr>\n",
       "      <th>...</th>\n",
       "      <td>...</td>\n",
       "      <td>...</td>\n",
       "      <td>...</td>\n",
       "      <td>...</td>\n",
       "      <td>...</td>\n",
       "      <td>...</td>\n",
       "      <td>...</td>\n",
       "      <td>...</td>\n",
       "      <td>...</td>\n",
       "      <td>...</td>\n",
       "      <td>...</td>\n",
       "      <td>...</td>\n",
       "      <td>...</td>\n",
       "    </tr>\n",
       "    <tr>\n",
       "      <th>15029</th>\n",
       "      <td>2023</td>\n",
       "      <td>37.89</td>\n",
       "      <td>99.4</td>\n",
       "      <td>25.03</td>\n",
       "      <td>23.18</td>\n",
       "      <td>22.23</td>\n",
       "      <td>28.48</td>\n",
       "      <td>89.94</td>\n",
       "      <td>96.73</td>\n",
       "      <td>0.52</td>\n",
       "      <td>0.82</td>\n",
       "      <td>0.30</td>\n",
       "      <td>2.31</td>\n",
       "    </tr>\n",
       "    <tr>\n",
       "      <th>15030</th>\n",
       "      <td>2023</td>\n",
       "      <td>37.91</td>\n",
       "      <td>99.4</td>\n",
       "      <td>25.92</td>\n",
       "      <td>23.23</td>\n",
       "      <td>22.14</td>\n",
       "      <td>30.16</td>\n",
       "      <td>85.94</td>\n",
       "      <td>96.73</td>\n",
       "      <td>0.62</td>\n",
       "      <td>1.03</td>\n",
       "      <td>0.37</td>\n",
       "      <td>0.97</td>\n",
       "    </tr>\n",
       "    <tr>\n",
       "      <th>15031</th>\n",
       "      <td>2023</td>\n",
       "      <td>37.93</td>\n",
       "      <td>99.4</td>\n",
       "      <td>25.80</td>\n",
       "      <td>23.10</td>\n",
       "      <td>22.72</td>\n",
       "      <td>28.90</td>\n",
       "      <td>85.62</td>\n",
       "      <td>96.84</td>\n",
       "      <td>0.40</td>\n",
       "      <td>0.64</td>\n",
       "      <td>0.07</td>\n",
       "      <td>1.61</td>\n",
       "    </tr>\n",
       "    <tr>\n",
       "      <th>15032</th>\n",
       "      <td>2023</td>\n",
       "      <td>37.95</td>\n",
       "      <td>99.4</td>\n",
       "      <td>25.46</td>\n",
       "      <td>23.19</td>\n",
       "      <td>22.62</td>\n",
       "      <td>29.22</td>\n",
       "      <td>87.81</td>\n",
       "      <td>96.94</td>\n",
       "      <td>0.28</td>\n",
       "      <td>0.45</td>\n",
       "      <td>0.05</td>\n",
       "      <td>5.44</td>\n",
       "    </tr>\n",
       "    <tr>\n",
       "      <th>15033</th>\n",
       "      <td>2023</td>\n",
       "      <td>36.19</td>\n",
       "      <td>99.4</td>\n",
       "      <td>25.54</td>\n",
       "      <td>23.01</td>\n",
       "      <td>22.20</td>\n",
       "      <td>29.15</td>\n",
       "      <td>86.50</td>\n",
       "      <td>96.94</td>\n",
       "      <td>0.46</td>\n",
       "      <td>0.77</td>\n",
       "      <td>0.27</td>\n",
       "      <td>2.21</td>\n",
       "    </tr>\n",
       "  </tbody>\n",
       "</table>\n",
       "<p>13193 rows × 13 columns</p>\n",
       "</div>"
      ],
      "text/plain": [
       "       YEAR  TopOfAtmosphereIrradiance  Sky-Surface-PAR  MeanTemperature_c  \\\n",
       "0      1982                      36.19             99.4              24.55   \n",
       "1      1982                      36.19             99.4              25.44   \n",
       "2      1982                      36.19             99.4              24.90   \n",
       "3      1982                      36.19             99.4              24.40   \n",
       "4      1982                      36.19             99.4              23.95   \n",
       "...     ...                        ...              ...                ...   \n",
       "15029  2023                      37.89             99.4              25.03   \n",
       "15030  2023                      37.91             99.4              25.92   \n",
       "15031  2023                      37.93             99.4              25.80   \n",
       "15032  2023                      37.95             99.4              25.46   \n",
       "15033  2023                      36.19             99.4              25.54   \n",
       "\n",
       "       DewFrostPoint_C  MinTemperature_C  MaxTemperature_C   RH_%  \\\n",
       "0                21.76             21.04             28.43  85.31   \n",
       "1                21.68             21.39             29.51  80.50   \n",
       "2                22.59             22.26             28.30  87.44   \n",
       "3                22.35             21.76             27.78  88.94   \n",
       "4                21.35             21.73             26.94  86.19   \n",
       "...                ...               ...               ...    ...   \n",
       "15029            23.18             22.23             28.48  89.94   \n",
       "15030            23.23             22.14             30.16  85.94   \n",
       "15031            23.10             22.72             28.90  85.62   \n",
       "15032            23.19             22.62             29.22  87.81   \n",
       "15033            23.01             22.20             29.15  86.50   \n",
       "\n",
       "       SurfacePressure_kPa  WindSpeed  Max_Wind_Speed  Min-Wind-Speed  \\\n",
       "0                    96.73       0.45            0.68            0.11   \n",
       "1                    96.60       0.30            0.60            0.02   \n",
       "2                    96.61       0.43            0.62            0.30   \n",
       "3                    96.70       0.47            0.59            0.21   \n",
       "4                    96.79       0.41            0.58            0.15   \n",
       "...                    ...        ...             ...             ...   \n",
       "15029                96.73       0.52            0.82            0.30   \n",
       "15030                96.73       0.62            1.03            0.37   \n",
       "15031                96.84       0.40            0.64            0.07   \n",
       "15032                96.94       0.28            0.45            0.05   \n",
       "15033                96.94       0.46            0.77            0.27   \n",
       "\n",
       "       Precipitation  \n",
       "0               2.32  \n",
       "1               0.73  \n",
       "2               1.02  \n",
       "3               3.88  \n",
       "4               1.53  \n",
       "...              ...  \n",
       "15029           2.31  \n",
       "15030           0.97  \n",
       "15031           1.61  \n",
       "15032           5.44  \n",
       "15033           2.21  \n",
       "\n",
       "[13193 rows x 13 columns]"
      ]
     },
     "execution_count": 57,
     "metadata": {},
     "output_type": "execute_result"
    }
   ],
   "source": [
    "data.drop(outlier_indices, axis = 0, inplace= True)\n",
    "data"
   ]
  },
  {
   "cell_type": "code",
   "execution_count": 58,
   "id": "0da7a630",
   "metadata": {},
   "outputs": [
    {
     "data": {
      "text/plain": [
       "<AxesSubplot:>"
      ]
     },
     "execution_count": 58,
     "metadata": {},
     "output_type": "execute_result"
    },
    {
     "data": {
      "image/png": "[encoded data removed]",
      "text/plain": [
       "<Figure size 432x288 with 1 Axes>"
      ]
     },
     "metadata": {
      "needs_background": "light"
     },
     "output_type": "display_data"
    }
   ],
   "source": [
    "data['MaxTemperature_C'].plot(kind = 'box')"
   ]
  },
  {
   "cell_type": "code",
   "execution_count": 59,
   "id": "da1eb9ec",
   "metadata": {},
   "outputs": [
    {
     "data": {
      "text/plain": [
       "<AxesSubplot:>"
      ]
     },
     "execution_count": 59,
     "metadata": {},
     "output_type": "execute_result"
    },
    {
     "data": {
      "image/png": "[encoded data removed]",
      "text/plain": [
       "<Figure size 432x288 with 1 Axes>"
      ]
     },
     "metadata": {
      "needs_background": "light"
     },
     "output_type": "display_data"
    }
   ],
   "source": [
    "data['RH_%'].plot(kind = 'box')"
   ]
  },
  {
   "cell_type": "code",
   "execution_count": 60,
   "id": "41deacf0",
   "metadata": {},
   "outputs": [
    {
     "data": {
      "text/plain": [
       "(84.19, 89.75, 5.560000000000002, 75.85, 98.09)"
      ]
     },
     "execution_count": 60,
     "metadata": {},
     "output_type": "execute_result"
    }
   ],
   "source": [
    "q1 = data['RH_%'].quantile(0.25)\n",
    "q3 = data['RH_%'].quantile(0.75)\n",
    "iqr = q3 - q1\n",
    "lower_whisker = q1 - 1.5 * iqr\n",
    "upper_whisker = q3 + 1.5 * iqr\n",
    "q1, q3, iqr, lower_whisker, upper_whisker"
   ]
  },
  {
   "cell_type": "code",
   "execution_count": 61,
   "id": "24161ea6",
   "metadata": {},
   "outputs": [
    {
     "data": {
      "text/plain": [
       "0        False\n",
       "1        False\n",
       "2        False\n",
       "3        False\n",
       "4        False\n",
       "         ...  \n",
       "15029    False\n",
       "15030    False\n",
       "15031    False\n",
       "15032    False\n",
       "15033    False\n",
       "Name: RH_%, Length: 13193, dtype: bool"
      ]
     },
     "execution_count": 61,
     "metadata": {},
     "output_type": "execute_result"
    }
   ],
   "source": [
    "lower_filt = data['RH_%'] < lower_whisker\n",
    "upper_filt = data['RH_%'] > upper_whisker\n",
    "filt = lower_filt | upper_filt\n",
    "filt"
   ]
  },
  {
   "cell_type": "code",
   "execution_count": 62,
   "id": "343d1839",
   "metadata": {},
   "outputs": [
    {
     "data": {
      "text/plain": [
       "Int64Index([ 1141,  1687,  2583,  2763,  3710,  3711,  3879,  4059,  4061,\n",
       "             4213,\n",
       "            ...\n",
       "            13222, 13340, 13341, 13342, 13352, 13899, 13900, 13901, 14284,\n",
       "            14814],\n",
       "           dtype='int64', length=229)"
      ]
     },
     "execution_count": 62,
     "metadata": {},
     "output_type": "execute_result"
    }
   ],
   "source": [
    "outlier_indices = filt[filt].index\n",
    "outlier_indices"
   ]
  },
  {
   "cell_type": "code",
   "execution_count": 63,
   "id": "265e0fd2",
   "metadata": {},
   "outputs": [
    {
     "data": {
      "text/html": [
       "<div>\n",
       "<style scoped>\n",
       "    .dataframe tbody tr th:only-of-type {\n",
       "        vertical-align: middle;\n",
       "    }\n",
       "\n",
       "    .dataframe tbody tr th {\n",
       "        vertical-align: top;\n",
       "    }\n",
       "\n",
       "    .dataframe thead th {\n",
       "        text-align: right;\n",
       "    }\n",
       "</style>\n",
       "<table border=\"1\" class=\"dataframe\">\n",
       "  <thead>\n",
       "    <tr style=\"text-align: right;\">\n",
       "      <th></th>\n",
       "      <th>YEAR</th>\n",
       "      <th>TopOfAtmosphereIrradiance</th>\n",
       "      <th>Sky-Surface-PAR</th>\n",
       "      <th>MeanTemperature_c</th>\n",
       "      <th>DewFrostPoint_C</th>\n",
       "      <th>MinTemperature_C</th>\n",
       "      <th>MaxTemperature_C</th>\n",
       "      <th>RH_%</th>\n",
       "      <th>SurfacePressure_kPa</th>\n",
       "      <th>WindSpeed</th>\n",
       "      <th>Max_Wind_Speed</th>\n",
       "      <th>Min-Wind-Speed</th>\n",
       "      <th>Precipitation</th>\n",
       "    </tr>\n",
       "  </thead>\n",
       "  <tbody>\n",
       "    <tr>\n",
       "      <th>0</th>\n",
       "      <td>1982</td>\n",
       "      <td>36.19</td>\n",
       "      <td>99.4</td>\n",
       "      <td>24.55</td>\n",
       "      <td>21.76</td>\n",
       "      <td>21.04</td>\n",
       "      <td>28.43</td>\n",
       "      <td>85.31</td>\n",
       "      <td>96.73</td>\n",
       "      <td>0.45</td>\n",
       "      <td>0.68</td>\n",
       "      <td>0.11</td>\n",
       "      <td>2.32</td>\n",
       "    </tr>\n",
       "    <tr>\n",
       "      <th>1</th>\n",
       "      <td>1982</td>\n",
       "      <td>36.19</td>\n",
       "      <td>99.4</td>\n",
       "      <td>25.44</td>\n",
       "      <td>21.68</td>\n",
       "      <td>21.39</td>\n",
       "      <td>29.51</td>\n",
       "      <td>80.50</td>\n",
       "      <td>96.60</td>\n",
       "      <td>0.30</td>\n",
       "      <td>0.60</td>\n",
       "      <td>0.02</td>\n",
       "      <td>0.73</td>\n",
       "    </tr>\n",
       "    <tr>\n",
       "      <th>2</th>\n",
       "      <td>1982</td>\n",
       "      <td>36.19</td>\n",
       "      <td>99.4</td>\n",
       "      <td>24.90</td>\n",
       "      <td>22.59</td>\n",
       "      <td>22.26</td>\n",
       "      <td>28.30</td>\n",
       "      <td>87.44</td>\n",
       "      <td>96.61</td>\n",
       "      <td>0.43</td>\n",
       "      <td>0.62</td>\n",
       "      <td>0.30</td>\n",
       "      <td>1.02</td>\n",
       "    </tr>\n",
       "    <tr>\n",
       "      <th>3</th>\n",
       "      <td>1982</td>\n",
       "      <td>36.19</td>\n",
       "      <td>99.4</td>\n",
       "      <td>24.40</td>\n",
       "      <td>22.35</td>\n",
       "      <td>21.76</td>\n",
       "      <td>27.78</td>\n",
       "      <td>88.94</td>\n",
       "      <td>96.70</td>\n",
       "      <td>0.47</td>\n",
       "      <td>0.59</td>\n",
       "      <td>0.21</td>\n",
       "      <td>3.88</td>\n",
       "    </tr>\n",
       "    <tr>\n",
       "      <th>4</th>\n",
       "      <td>1982</td>\n",
       "      <td>36.19</td>\n",
       "      <td>99.4</td>\n",
       "      <td>23.95</td>\n",
       "      <td>21.35</td>\n",
       "      <td>21.73</td>\n",
       "      <td>26.94</td>\n",
       "      <td>86.19</td>\n",
       "      <td>96.79</td>\n",
       "      <td>0.41</td>\n",
       "      <td>0.58</td>\n",
       "      <td>0.15</td>\n",
       "      <td>1.53</td>\n",
       "    </tr>\n",
       "    <tr>\n",
       "      <th>...</th>\n",
       "      <td>...</td>\n",
       "      <td>...</td>\n",
       "      <td>...</td>\n",
       "      <td>...</td>\n",
       "      <td>...</td>\n",
       "      <td>...</td>\n",
       "      <td>...</td>\n",
       "      <td>...</td>\n",
       "      <td>...</td>\n",
       "      <td>...</td>\n",
       "      <td>...</td>\n",
       "      <td>...</td>\n",
       "      <td>...</td>\n",
       "    </tr>\n",
       "    <tr>\n",
       "      <th>15029</th>\n",
       "      <td>2023</td>\n",
       "      <td>37.89</td>\n",
       "      <td>99.4</td>\n",
       "      <td>25.03</td>\n",
       "      <td>23.18</td>\n",
       "      <td>22.23</td>\n",
       "      <td>28.48</td>\n",
       "      <td>89.94</td>\n",
       "      <td>96.73</td>\n",
       "      <td>0.52</td>\n",
       "      <td>0.82</td>\n",
       "      <td>0.30</td>\n",
       "      <td>2.31</td>\n",
       "    </tr>\n",
       "    <tr>\n",
       "      <th>15030</th>\n",
       "      <td>2023</td>\n",
       "      <td>37.91</td>\n",
       "      <td>99.4</td>\n",
       "      <td>25.92</td>\n",
       "      <td>23.23</td>\n",
       "      <td>22.14</td>\n",
       "      <td>30.16</td>\n",
       "      <td>85.94</td>\n",
       "      <td>96.73</td>\n",
       "      <td>0.62</td>\n",
       "      <td>1.03</td>\n",
       "      <td>0.37</td>\n",
       "      <td>0.97</td>\n",
       "    </tr>\n",
       "    <tr>\n",
       "      <th>15031</th>\n",
       "      <td>2023</td>\n",
       "      <td>37.93</td>\n",
       "      <td>99.4</td>\n",
       "      <td>25.80</td>\n",
       "      <td>23.10</td>\n",
       "      <td>22.72</td>\n",
       "      <td>28.90</td>\n",
       "      <td>85.62</td>\n",
       "      <td>96.84</td>\n",
       "      <td>0.40</td>\n",
       "      <td>0.64</td>\n",
       "      <td>0.07</td>\n",
       "      <td>1.61</td>\n",
       "    </tr>\n",
       "    <tr>\n",
       "      <th>15032</th>\n",
       "      <td>2023</td>\n",
       "      <td>37.95</td>\n",
       "      <td>99.4</td>\n",
       "      <td>25.46</td>\n",
       "      <td>23.19</td>\n",
       "      <td>22.62</td>\n",
       "      <td>29.22</td>\n",
       "      <td>87.81</td>\n",
       "      <td>96.94</td>\n",
       "      <td>0.28</td>\n",
       "      <td>0.45</td>\n",
       "      <td>0.05</td>\n",
       "      <td>5.44</td>\n",
       "    </tr>\n",
       "    <tr>\n",
       "      <th>15033</th>\n",
       "      <td>2023</td>\n",
       "      <td>36.19</td>\n",
       "      <td>99.4</td>\n",
       "      <td>25.54</td>\n",
       "      <td>23.01</td>\n",
       "      <td>22.20</td>\n",
       "      <td>29.15</td>\n",
       "      <td>86.50</td>\n",
       "      <td>96.94</td>\n",
       "      <td>0.46</td>\n",
       "      <td>0.77</td>\n",
       "      <td>0.27</td>\n",
       "      <td>2.21</td>\n",
       "    </tr>\n",
       "  </tbody>\n",
       "</table>\n",
       "<p>12964 rows × 13 columns</p>\n",
       "</div>"
      ],
      "text/plain": [
       "       YEAR  TopOfAtmosphereIrradiance  Sky-Surface-PAR  MeanTemperature_c  \\\n",
       "0      1982                      36.19             99.4              24.55   \n",
       "1      1982                      36.19             99.4              25.44   \n",
       "2      1982                      36.19             99.4              24.90   \n",
       "3      1982                      36.19             99.4              24.40   \n",
       "4      1982                      36.19             99.4              23.95   \n",
       "...     ...                        ...              ...                ...   \n",
       "15029  2023                      37.89             99.4              25.03   \n",
       "15030  2023                      37.91             99.4              25.92   \n",
       "15031  2023                      37.93             99.4              25.80   \n",
       "15032  2023                      37.95             99.4              25.46   \n",
       "15033  2023                      36.19             99.4              25.54   \n",
       "\n",
       "       DewFrostPoint_C  MinTemperature_C  MaxTemperature_C   RH_%  \\\n",
       "0                21.76             21.04             28.43  85.31   \n",
       "1                21.68             21.39             29.51  80.50   \n",
       "2                22.59             22.26             28.30  87.44   \n",
       "3                22.35             21.76             27.78  88.94   \n",
       "4                21.35             21.73             26.94  86.19   \n",
       "...                ...               ...               ...    ...   \n",
       "15029            23.18             22.23             28.48  89.94   \n",
       "15030            23.23             22.14             30.16  85.94   \n",
       "15031            23.10             22.72             28.90  85.62   \n",
       "15032            23.19             22.62             29.22  87.81   \n",
       "15033            23.01             22.20             29.15  86.50   \n",
       "\n",
       "       SurfacePressure_kPa  WindSpeed  Max_Wind_Speed  Min-Wind-Speed  \\\n",
       "0                    96.73       0.45            0.68            0.11   \n",
       "1                    96.60       0.30            0.60            0.02   \n",
       "2                    96.61       0.43            0.62            0.30   \n",
       "3                    96.70       0.47            0.59            0.21   \n",
       "4                    96.79       0.41            0.58            0.15   \n",
       "...                    ...        ...             ...             ...   \n",
       "15029                96.73       0.52            0.82            0.30   \n",
       "15030                96.73       0.62            1.03            0.37   \n",
       "15031                96.84       0.40            0.64            0.07   \n",
       "15032                96.94       0.28            0.45            0.05   \n",
       "15033                96.94       0.46            0.77            0.27   \n",
       "\n",
       "       Precipitation  \n",
       "0               2.32  \n",
       "1               0.73  \n",
       "2               1.02  \n",
       "3               3.88  \n",
       "4               1.53  \n",
       "...              ...  \n",
       "15029           2.31  \n",
       "15030           0.97  \n",
       "15031           1.61  \n",
       "15032           5.44  \n",
       "15033           2.21  \n",
       "\n",
       "[12964 rows x 13 columns]"
      ]
     },
     "execution_count": 63,
     "metadata": {},
     "output_type": "execute_result"
    }
   ],
   "source": [
    "data.drop(outlier_indices, axis = 0, inplace= True)\n",
    "data"
   ]
  },
  {
   "cell_type": "code",
   "execution_count": 64,
   "id": "59280b2e",
   "metadata": {},
   "outputs": [
    {
     "data": {
      "text/plain": [
       "<AxesSubplot:>"
      ]
     },
     "execution_count": 64,
     "metadata": {},
     "output_type": "execute_result"
    },
    {
     "data": {
      "image/png": "[encoded data removed]",
      "text/plain": [
       "<Figure size 432x288 with 1 Axes>"
      ]
     },
     "metadata": {
      "needs_background": "light"
     },
     "output_type": "display_data"
    }
   ],
   "source": [
    "data['RH_%'].plot(kind = 'box')"
   ]
  },
  {
   "cell_type": "code",
   "execution_count": 65,
   "id": "4d9b9a30",
   "metadata": {},
   "outputs": [
    {
     "data": {
      "text/plain": [
       "<AxesSubplot:>"
      ]
     },
     "execution_count": 65,
     "metadata": {},
     "output_type": "execute_result"
    },
    {
     "data": {
      "image/png": "[encoded data removed]",
      "text/plain": [
       "<Figure size 432x288 with 1 Axes>"
      ]
     },
     "metadata": {
      "needs_background": "light"
     },
     "output_type": "display_data"
    }
   ],
   "source": [
    "data['SurfacePressure_kPa'].plot(kind = 'box')"
   ]
  },
  {
   "cell_type": "code",
   "execution_count": 66,
   "id": "4c43c8d6",
   "metadata": {},
   "outputs": [
    {
     "data": {
      "text/plain": [
       "(96.78, 96.96, 0.1799999999999926, 96.51000000000002, 97.22999999999999)"
      ]
     },
     "execution_count": 66,
     "metadata": {},
     "output_type": "execute_result"
    }
   ],
   "source": [
    "q1 = data['SurfacePressure_kPa'].quantile(0.25)\n",
    "q3 = data['SurfacePressure_kPa'].quantile(0.75)\n",
    "iqr = q3 - q1\n",
    "lower_whisker = q1 - 1.5 * iqr\n",
    "upper_whisker = q3 + 1.5 * iqr\n",
    "q1, q3, iqr, lower_whisker, upper_whisker"
   ]
  },
  {
   "cell_type": "code",
   "execution_count": 67,
   "id": "2fe83b87",
   "metadata": {},
   "outputs": [
    {
     "data": {
      "text/plain": [
       "0        False\n",
       "1        False\n",
       "2        False\n",
       "3        False\n",
       "4        False\n",
       "         ...  \n",
       "15029    False\n",
       "15030    False\n",
       "15031    False\n",
       "15032    False\n",
       "15033    False\n",
       "Name: SurfacePressure_kPa, Length: 12964, dtype: bool"
      ]
     },
     "execution_count": 67,
     "metadata": {},
     "output_type": "execute_result"
    }
   ],
   "source": [
    "lower_filt = data['SurfacePressure_kPa'] < lower_whisker\n",
    "upper_filt = data['SurfacePressure_kPa'] > upper_whisker\n",
    "filt = lower_filt | upper_filt\n",
    "filt"
   ]
  },
  {
   "cell_type": "code",
   "execution_count": 68,
   "id": "7bbe5ce7",
   "metadata": {},
   "outputs": [
    {
     "data": {
      "text/plain": [
       "Int64Index([  808,   809,   812,  1084,  1085,  1086,  1107,  1161,  1162,\n",
       "             1163,\n",
       "            ...\n",
       "            12229, 12561, 12562, 12583, 12584, 12585, 13320, 13321, 14413,\n",
       "            14446],\n",
       "           dtype='int64', length=108)"
      ]
     },
     "execution_count": 68,
     "metadata": {},
     "output_type": "execute_result"
    }
   ],
   "source": [
    "outlier_indices = filt[filt].index\n",
    "outlier_indices"
   ]
  },
  {
   "cell_type": "code",
   "execution_count": 69,
   "id": "9e36c772",
   "metadata": {},
   "outputs": [
    {
     "data": {
      "text/html": [
       "<div>\n",
       "<style scoped>\n",
       "    .dataframe tbody tr th:only-of-type {\n",
       "        vertical-align: middle;\n",
       "    }\n",
       "\n",
       "    .dataframe tbody tr th {\n",
       "        vertical-align: top;\n",
       "    }\n",
       "\n",
       "    .dataframe thead th {\n",
       "        text-align: right;\n",
       "    }\n",
       "</style>\n",
       "<table border=\"1\" class=\"dataframe\">\n",
       "  <thead>\n",
       "    <tr style=\"text-align: right;\">\n",
       "      <th></th>\n",
       "      <th>YEAR</th>\n",
       "      <th>TopOfAtmosphereIrradiance</th>\n",
       "      <th>Sky-Surface-PAR</th>\n",
       "      <th>MeanTemperature_c</th>\n",
       "      <th>DewFrostPoint_C</th>\n",
       "      <th>MinTemperature_C</th>\n",
       "      <th>MaxTemperature_C</th>\n",
       "      <th>RH_%</th>\n",
       "      <th>SurfacePressure_kPa</th>\n",
       "      <th>WindSpeed</th>\n",
       "      <th>Max_Wind_Speed</th>\n",
       "      <th>Min-Wind-Speed</th>\n",
       "      <th>Precipitation</th>\n",
       "    </tr>\n",
       "  </thead>\n",
       "  <tbody>\n",
       "    <tr>\n",
       "      <th>0</th>\n",
       "      <td>1982</td>\n",
       "      <td>36.19</td>\n",
       "      <td>99.4</td>\n",
       "      <td>24.55</td>\n",
       "      <td>21.76</td>\n",
       "      <td>21.04</td>\n",
       "      <td>28.43</td>\n",
       "      <td>85.31</td>\n",
       "      <td>96.73</td>\n",
       "      <td>0.45</td>\n",
       "      <td>0.68</td>\n",
       "      <td>0.11</td>\n",
       "      <td>2.32</td>\n",
       "    </tr>\n",
       "    <tr>\n",
       "      <th>1</th>\n",
       "      <td>1982</td>\n",
       "      <td>36.19</td>\n",
       "      <td>99.4</td>\n",
       "      <td>25.44</td>\n",
       "      <td>21.68</td>\n",
       "      <td>21.39</td>\n",
       "      <td>29.51</td>\n",
       "      <td>80.50</td>\n",
       "      <td>96.60</td>\n",
       "      <td>0.30</td>\n",
       "      <td>0.60</td>\n",
       "      <td>0.02</td>\n",
       "      <td>0.73</td>\n",
       "    </tr>\n",
       "    <tr>\n",
       "      <th>2</th>\n",
       "      <td>1982</td>\n",
       "      <td>36.19</td>\n",
       "      <td>99.4</td>\n",
       "      <td>24.90</td>\n",
       "      <td>22.59</td>\n",
       "      <td>22.26</td>\n",
       "      <td>28.30</td>\n",
       "      <td>87.44</td>\n",
       "      <td>96.61</td>\n",
       "      <td>0.43</td>\n",
       "      <td>0.62</td>\n",
       "      <td>0.30</td>\n",
       "      <td>1.02</td>\n",
       "    </tr>\n",
       "    <tr>\n",
       "      <th>3</th>\n",
       "      <td>1982</td>\n",
       "      <td>36.19</td>\n",
       "      <td>99.4</td>\n",
       "      <td>24.40</td>\n",
       "      <td>22.35</td>\n",
       "      <td>21.76</td>\n",
       "      <td>27.78</td>\n",
       "      <td>88.94</td>\n",
       "      <td>96.70</td>\n",
       "      <td>0.47</td>\n",
       "      <td>0.59</td>\n",
       "      <td>0.21</td>\n",
       "      <td>3.88</td>\n",
       "    </tr>\n",
       "    <tr>\n",
       "      <th>4</th>\n",
       "      <td>1982</td>\n",
       "      <td>36.19</td>\n",
       "      <td>99.4</td>\n",
       "      <td>23.95</td>\n",
       "      <td>21.35</td>\n",
       "      <td>21.73</td>\n",
       "      <td>26.94</td>\n",
       "      <td>86.19</td>\n",
       "      <td>96.79</td>\n",
       "      <td>0.41</td>\n",
       "      <td>0.58</td>\n",
       "      <td>0.15</td>\n",
       "      <td>1.53</td>\n",
       "    </tr>\n",
       "    <tr>\n",
       "      <th>...</th>\n",
       "      <td>...</td>\n",
       "      <td>...</td>\n",
       "      <td>...</td>\n",
       "      <td>...</td>\n",
       "      <td>...</td>\n",
       "      <td>...</td>\n",
       "      <td>...</td>\n",
       "      <td>...</td>\n",
       "      <td>...</td>\n",
       "      <td>...</td>\n",
       "      <td>...</td>\n",
       "      <td>...</td>\n",
       "      <td>...</td>\n",
       "    </tr>\n",
       "    <tr>\n",
       "      <th>15029</th>\n",
       "      <td>2023</td>\n",
       "      <td>37.89</td>\n",
       "      <td>99.4</td>\n",
       "      <td>25.03</td>\n",
       "      <td>23.18</td>\n",
       "      <td>22.23</td>\n",
       "      <td>28.48</td>\n",
       "      <td>89.94</td>\n",
       "      <td>96.73</td>\n",
       "      <td>0.52</td>\n",
       "      <td>0.82</td>\n",
       "      <td>0.30</td>\n",
       "      <td>2.31</td>\n",
       "    </tr>\n",
       "    <tr>\n",
       "      <th>15030</th>\n",
       "      <td>2023</td>\n",
       "      <td>37.91</td>\n",
       "      <td>99.4</td>\n",
       "      <td>25.92</td>\n",
       "      <td>23.23</td>\n",
       "      <td>22.14</td>\n",
       "      <td>30.16</td>\n",
       "      <td>85.94</td>\n",
       "      <td>96.73</td>\n",
       "      <td>0.62</td>\n",
       "      <td>1.03</td>\n",
       "      <td>0.37</td>\n",
       "      <td>0.97</td>\n",
       "    </tr>\n",
       "    <tr>\n",
       "      <th>15031</th>\n",
       "      <td>2023</td>\n",
       "      <td>37.93</td>\n",
       "      <td>99.4</td>\n",
       "      <td>25.80</td>\n",
       "      <td>23.10</td>\n",
       "      <td>22.72</td>\n",
       "      <td>28.90</td>\n",
       "      <td>85.62</td>\n",
       "      <td>96.84</td>\n",
       "      <td>0.40</td>\n",
       "      <td>0.64</td>\n",
       "      <td>0.07</td>\n",
       "      <td>1.61</td>\n",
       "    </tr>\n",
       "    <tr>\n",
       "      <th>15032</th>\n",
       "      <td>2023</td>\n",
       "      <td>37.95</td>\n",
       "      <td>99.4</td>\n",
       "      <td>25.46</td>\n",
       "      <td>23.19</td>\n",
       "      <td>22.62</td>\n",
       "      <td>29.22</td>\n",
       "      <td>87.81</td>\n",
       "      <td>96.94</td>\n",
       "      <td>0.28</td>\n",
       "      <td>0.45</td>\n",
       "      <td>0.05</td>\n",
       "      <td>5.44</td>\n",
       "    </tr>\n",
       "    <tr>\n",
       "      <th>15033</th>\n",
       "      <td>2023</td>\n",
       "      <td>36.19</td>\n",
       "      <td>99.4</td>\n",
       "      <td>25.54</td>\n",
       "      <td>23.01</td>\n",
       "      <td>22.20</td>\n",
       "      <td>29.15</td>\n",
       "      <td>86.50</td>\n",
       "      <td>96.94</td>\n",
       "      <td>0.46</td>\n",
       "      <td>0.77</td>\n",
       "      <td>0.27</td>\n",
       "      <td>2.21</td>\n",
       "    </tr>\n",
       "  </tbody>\n",
       "</table>\n",
       "<p>12856 rows × 13 columns</p>\n",
       "</div>"
      ],
      "text/plain": [
       "       YEAR  TopOfAtmosphereIrradiance  Sky-Surface-PAR  MeanTemperature_c  \\\n",
       "0      1982                      36.19             99.4              24.55   \n",
       "1      1982                      36.19             99.4              25.44   \n",
       "2      1982                      36.19             99.4              24.90   \n",
       "3      1982                      36.19             99.4              24.40   \n",
       "4      1982                      36.19             99.4              23.95   \n",
       "...     ...                        ...              ...                ...   \n",
       "15029  2023                      37.89             99.4              25.03   \n",
       "15030  2023                      37.91             99.4              25.92   \n",
       "15031  2023                      37.93             99.4              25.80   \n",
       "15032  2023                      37.95             99.4              25.46   \n",
       "15033  2023                      36.19             99.4              25.54   \n",
       "\n",
       "       DewFrostPoint_C  MinTemperature_C  MaxTemperature_C   RH_%  \\\n",
       "0                21.76             21.04             28.43  85.31   \n",
       "1                21.68             21.39             29.51  80.50   \n",
       "2                22.59             22.26             28.30  87.44   \n",
       "3                22.35             21.76             27.78  88.94   \n",
       "4                21.35             21.73             26.94  86.19   \n",
       "...                ...               ...               ...    ...   \n",
       "15029            23.18             22.23             28.48  89.94   \n",
       "15030            23.23             22.14             30.16  85.94   \n",
       "15031            23.10             22.72             28.90  85.62   \n",
       "15032            23.19             22.62             29.22  87.81   \n",
       "15033            23.01             22.20             29.15  86.50   \n",
       "\n",
       "       SurfacePressure_kPa  WindSpeed  Max_Wind_Speed  Min-Wind-Speed  \\\n",
       "0                    96.73       0.45            0.68            0.11   \n",
       "1                    96.60       0.30            0.60            0.02   \n",
       "2                    96.61       0.43            0.62            0.30   \n",
       "3                    96.70       0.47            0.59            0.21   \n",
       "4                    96.79       0.41            0.58            0.15   \n",
       "...                    ...        ...             ...             ...   \n",
       "15029                96.73       0.52            0.82            0.30   \n",
       "15030                96.73       0.62            1.03            0.37   \n",
       "15031                96.84       0.40            0.64            0.07   \n",
       "15032                96.94       0.28            0.45            0.05   \n",
       "15033                96.94       0.46            0.77            0.27   \n",
       "\n",
       "       Precipitation  \n",
       "0               2.32  \n",
       "1               0.73  \n",
       "2               1.02  \n",
       "3               3.88  \n",
       "4               1.53  \n",
       "...              ...  \n",
       "15029           2.31  \n",
       "15030           0.97  \n",
       "15031           1.61  \n",
       "15032           5.44  \n",
       "15033           2.21  \n",
       "\n",
       "[12856 rows x 13 columns]"
      ]
     },
     "execution_count": 69,
     "metadata": {},
     "output_type": "execute_result"
    }
   ],
   "source": [
    "data.drop(outlier_indices, axis = 0, inplace= True)\n",
    "data"
   ]
  },
  {
   "cell_type": "code",
   "execution_count": 70,
   "id": "3994f3d6",
   "metadata": {},
   "outputs": [
    {
     "data": {
      "text/plain": [
       "<AxesSubplot:>"
      ]
     },
     "execution_count": 70,
     "metadata": {},
     "output_type": "execute_result"
    },
    {
     "data": {
      "image/png": "[encoded data removed]",
      "text/plain": [
       "<Figure size 432x288 with 1 Axes>"
      ]
     },
     "metadata": {
      "needs_background": "light"
     },
     "output_type": "display_data"
    }
   ],
   "source": [
    "data['SurfacePressure_kPa'].plot(kind = 'box')"
   ]
  },
  {
   "cell_type": "code",
   "execution_count": 71,
   "id": "8ae02e69",
   "metadata": {},
   "outputs": [
    {
     "data": {
      "text/plain": [
       "<AxesSubplot:>"
      ]
     },
     "execution_count": 71,
     "metadata": {},
     "output_type": "execute_result"
    },
    {
     "data": {
      "image/png": "[encoded data removed]",
      "text/plain": [
       "<Figure size 432x288 with 1 Axes>"
      ]
     },
     "metadata": {
      "needs_background": "light"
     },
     "output_type": "display_data"
    }
   ],
   "source": [
    "data['WindSpeed'].plot(kind = 'box')"
   ]
  },
  {
   "cell_type": "code",
   "execution_count": 72,
   "id": "96ffeab4",
   "metadata": {},
   "outputs": [
    {
     "data": {
      "text/plain": [
       "(0.45, 0.58, 0.12999999999999995, 0.2550000000000001, 0.7749999999999999)"
      ]
     },
     "execution_count": 72,
     "metadata": {},
     "output_type": "execute_result"
    }
   ],
   "source": [
    "q1 = data['WindSpeed'].quantile(0.25)\n",
    "q3 = data['WindSpeed'].quantile(0.75)\n",
    "iqr = q3 - q1\n",
    "lower_whisker = q1 - 1.5 * iqr\n",
    "upper_whisker = q3 + 1.5 * iqr\n",
    "q1, q3, iqr, lower_whisker, upper_whisker"
   ]
  },
  {
   "cell_type": "code",
   "execution_count": 73,
   "id": "171e9e17",
   "metadata": {},
   "outputs": [
    {
     "data": {
      "text/plain": [
       "0        False\n",
       "1        False\n",
       "2        False\n",
       "3        False\n",
       "4        False\n",
       "         ...  \n",
       "15029    False\n",
       "15030    False\n",
       "15031    False\n",
       "15032    False\n",
       "15033    False\n",
       "Name: WindSpeed, Length: 12856, dtype: bool"
      ]
     },
     "execution_count": 73,
     "metadata": {},
     "output_type": "execute_result"
    }
   ],
   "source": [
    "lower_filt = data['WindSpeed'] < lower_whisker\n",
    "upper_filt = data['WindSpeed'] > upper_whisker\n",
    "filt = lower_filt | upper_filt\n",
    "filt"
   ]
  },
  {
   "cell_type": "code",
   "execution_count": 74,
   "id": "0978363a",
   "metadata": {},
   "outputs": [
    {
     "data": {
      "text/plain": [
       "Int64Index([  481,   640,   684,   760,   787,   976,  1061,  1118,  1173,\n",
       "             1500,  1718,  1737,  2135,  2975,  2997,  3429,  3434,  3477,\n",
       "             3611,  3663,  3708,  3914,  4084,  4092,  4093,  4275,  4424,\n",
       "             4437,  4607,  4654,  5114,  5250,  5974,  6929,  7137,  7158,\n",
       "             7260,  7405,  7557,  7753,  7915,  8080,  8099,  8758,  8967,\n",
       "             9173,  9182,  9197,  9478,  9662, 10375, 11011, 11372, 12212,\n",
       "            12303, 12321, 12351, 12633, 12829, 13641, 13882, 13940, 14753,\n",
       "            14821, 14855],\n",
       "           dtype='int64')"
      ]
     },
     "execution_count": 74,
     "metadata": {},
     "output_type": "execute_result"
    }
   ],
   "source": [
    "outlier_indices = filt[filt].index\n",
    "outlier_indices"
   ]
  },
  {
   "cell_type": "code",
   "execution_count": 75,
   "id": "65707ff0",
   "metadata": {},
   "outputs": [
    {
     "data": {
      "text/html": [
       "<div>\n",
       "<style scoped>\n",
       "    .dataframe tbody tr th:only-of-type {\n",
       "        vertical-align: middle;\n",
       "    }\n",
       "\n",
       "    .dataframe tbody tr th {\n",
       "        vertical-align: top;\n",
       "    }\n",
       "\n",
       "    .dataframe thead th {\n",
       "        text-align: right;\n",
       "    }\n",
       "</style>\n",
       "<table border=\"1\" class=\"dataframe\">\n",
       "  <thead>\n",
       "    <tr style=\"text-align: right;\">\n",
       "      <th></th>\n",
       "      <th>YEAR</th>\n",
       "      <th>TopOfAtmosphereIrradiance</th>\n",
       "      <th>Sky-Surface-PAR</th>\n",
       "      <th>MeanTemperature_c</th>\n",
       "      <th>DewFrostPoint_C</th>\n",
       "      <th>MinTemperature_C</th>\n",
       "      <th>MaxTemperature_C</th>\n",
       "      <th>RH_%</th>\n",
       "      <th>SurfacePressure_kPa</th>\n",
       "      <th>WindSpeed</th>\n",
       "      <th>Max_Wind_Speed</th>\n",
       "      <th>Min-Wind-Speed</th>\n",
       "      <th>Precipitation</th>\n",
       "    </tr>\n",
       "  </thead>\n",
       "  <tbody>\n",
       "    <tr>\n",
       "      <th>0</th>\n",
       "      <td>1982</td>\n",
       "      <td>36.19</td>\n",
       "      <td>99.4</td>\n",
       "      <td>24.55</td>\n",
       "      <td>21.76</td>\n",
       "      <td>21.04</td>\n",
       "      <td>28.43</td>\n",
       "      <td>85.31</td>\n",
       "      <td>96.73</td>\n",
       "      <td>0.45</td>\n",
       "      <td>0.68</td>\n",
       "      <td>0.11</td>\n",
       "      <td>2.32</td>\n",
       "    </tr>\n",
       "    <tr>\n",
       "      <th>1</th>\n",
       "      <td>1982</td>\n",
       "      <td>36.19</td>\n",
       "      <td>99.4</td>\n",
       "      <td>25.44</td>\n",
       "      <td>21.68</td>\n",
       "      <td>21.39</td>\n",
       "      <td>29.51</td>\n",
       "      <td>80.50</td>\n",
       "      <td>96.60</td>\n",
       "      <td>0.30</td>\n",
       "      <td>0.60</td>\n",
       "      <td>0.02</td>\n",
       "      <td>0.73</td>\n",
       "    </tr>\n",
       "    <tr>\n",
       "      <th>2</th>\n",
       "      <td>1982</td>\n",
       "      <td>36.19</td>\n",
       "      <td>99.4</td>\n",
       "      <td>24.90</td>\n",
       "      <td>22.59</td>\n",
       "      <td>22.26</td>\n",
       "      <td>28.30</td>\n",
       "      <td>87.44</td>\n",
       "      <td>96.61</td>\n",
       "      <td>0.43</td>\n",
       "      <td>0.62</td>\n",
       "      <td>0.30</td>\n",
       "      <td>1.02</td>\n",
       "    </tr>\n",
       "    <tr>\n",
       "      <th>3</th>\n",
       "      <td>1982</td>\n",
       "      <td>36.19</td>\n",
       "      <td>99.4</td>\n",
       "      <td>24.40</td>\n",
       "      <td>22.35</td>\n",
       "      <td>21.76</td>\n",
       "      <td>27.78</td>\n",
       "      <td>88.94</td>\n",
       "      <td>96.70</td>\n",
       "      <td>0.47</td>\n",
       "      <td>0.59</td>\n",
       "      <td>0.21</td>\n",
       "      <td>3.88</td>\n",
       "    </tr>\n",
       "    <tr>\n",
       "      <th>4</th>\n",
       "      <td>1982</td>\n",
       "      <td>36.19</td>\n",
       "      <td>99.4</td>\n",
       "      <td>23.95</td>\n",
       "      <td>21.35</td>\n",
       "      <td>21.73</td>\n",
       "      <td>26.94</td>\n",
       "      <td>86.19</td>\n",
       "      <td>96.79</td>\n",
       "      <td>0.41</td>\n",
       "      <td>0.58</td>\n",
       "      <td>0.15</td>\n",
       "      <td>1.53</td>\n",
       "    </tr>\n",
       "    <tr>\n",
       "      <th>...</th>\n",
       "      <td>...</td>\n",
       "      <td>...</td>\n",
       "      <td>...</td>\n",
       "      <td>...</td>\n",
       "      <td>...</td>\n",
       "      <td>...</td>\n",
       "      <td>...</td>\n",
       "      <td>...</td>\n",
       "      <td>...</td>\n",
       "      <td>...</td>\n",
       "      <td>...</td>\n",
       "      <td>...</td>\n",
       "      <td>...</td>\n",
       "    </tr>\n",
       "    <tr>\n",
       "      <th>15029</th>\n",
       "      <td>2023</td>\n",
       "      <td>37.89</td>\n",
       "      <td>99.4</td>\n",
       "      <td>25.03</td>\n",
       "      <td>23.18</td>\n",
       "      <td>22.23</td>\n",
       "      <td>28.48</td>\n",
       "      <td>89.94</td>\n",
       "      <td>96.73</td>\n",
       "      <td>0.52</td>\n",
       "      <td>0.82</td>\n",
       "      <td>0.30</td>\n",
       "      <td>2.31</td>\n",
       "    </tr>\n",
       "    <tr>\n",
       "      <th>15030</th>\n",
       "      <td>2023</td>\n",
       "      <td>37.91</td>\n",
       "      <td>99.4</td>\n",
       "      <td>25.92</td>\n",
       "      <td>23.23</td>\n",
       "      <td>22.14</td>\n",
       "      <td>30.16</td>\n",
       "      <td>85.94</td>\n",
       "      <td>96.73</td>\n",
       "      <td>0.62</td>\n",
       "      <td>1.03</td>\n",
       "      <td>0.37</td>\n",
       "      <td>0.97</td>\n",
       "    </tr>\n",
       "    <tr>\n",
       "      <th>15031</th>\n",
       "      <td>2023</td>\n",
       "      <td>37.93</td>\n",
       "      <td>99.4</td>\n",
       "      <td>25.80</td>\n",
       "      <td>23.10</td>\n",
       "      <td>22.72</td>\n",
       "      <td>28.90</td>\n",
       "      <td>85.62</td>\n",
       "      <td>96.84</td>\n",
       "      <td>0.40</td>\n",
       "      <td>0.64</td>\n",
       "      <td>0.07</td>\n",
       "      <td>1.61</td>\n",
       "    </tr>\n",
       "    <tr>\n",
       "      <th>15032</th>\n",
       "      <td>2023</td>\n",
       "      <td>37.95</td>\n",
       "      <td>99.4</td>\n",
       "      <td>25.46</td>\n",
       "      <td>23.19</td>\n",
       "      <td>22.62</td>\n",
       "      <td>29.22</td>\n",
       "      <td>87.81</td>\n",
       "      <td>96.94</td>\n",
       "      <td>0.28</td>\n",
       "      <td>0.45</td>\n",
       "      <td>0.05</td>\n",
       "      <td>5.44</td>\n",
       "    </tr>\n",
       "    <tr>\n",
       "      <th>15033</th>\n",
       "      <td>2023</td>\n",
       "      <td>36.19</td>\n",
       "      <td>99.4</td>\n",
       "      <td>25.54</td>\n",
       "      <td>23.01</td>\n",
       "      <td>22.20</td>\n",
       "      <td>29.15</td>\n",
       "      <td>86.50</td>\n",
       "      <td>96.94</td>\n",
       "      <td>0.46</td>\n",
       "      <td>0.77</td>\n",
       "      <td>0.27</td>\n",
       "      <td>2.21</td>\n",
       "    </tr>\n",
       "  </tbody>\n",
       "</table>\n",
       "<p>12791 rows × 13 columns</p>\n",
       "</div>"
      ],
      "text/plain": [
       "       YEAR  TopOfAtmosphereIrradiance  Sky-Surface-PAR  MeanTemperature_c  \\\n",
       "0      1982                      36.19             99.4              24.55   \n",
       "1      1982                      36.19             99.4              25.44   \n",
       "2      1982                      36.19             99.4              24.90   \n",
       "3      1982                      36.19             99.4              24.40   \n",
       "4      1982                      36.19             99.4              23.95   \n",
       "...     ...                        ...              ...                ...   \n",
       "15029  2023                      37.89             99.4              25.03   \n",
       "15030  2023                      37.91             99.4              25.92   \n",
       "15031  2023                      37.93             99.4              25.80   \n",
       "15032  2023                      37.95             99.4              25.46   \n",
       "15033  2023                      36.19             99.4              25.54   \n",
       "\n",
       "       DewFrostPoint_C  MinTemperature_C  MaxTemperature_C   RH_%  \\\n",
       "0                21.76             21.04             28.43  85.31   \n",
       "1                21.68             21.39             29.51  80.50   \n",
       "2                22.59             22.26             28.30  87.44   \n",
       "3                22.35             21.76             27.78  88.94   \n",
       "4                21.35             21.73             26.94  86.19   \n",
       "...                ...               ...               ...    ...   \n",
       "15029            23.18             22.23             28.48  89.94   \n",
       "15030            23.23             22.14             30.16  85.94   \n",
       "15031            23.10             22.72             28.90  85.62   \n",
       "15032            23.19             22.62             29.22  87.81   \n",
       "15033            23.01             22.20             29.15  86.50   \n",
       "\n",
       "       SurfacePressure_kPa  WindSpeed  Max_Wind_Speed  Min-Wind-Speed  \\\n",
       "0                    96.73       0.45            0.68            0.11   \n",
       "1                    96.60       0.30            0.60            0.02   \n",
       "2                    96.61       0.43            0.62            0.30   \n",
       "3                    96.70       0.47            0.59            0.21   \n",
       "4                    96.79       0.41            0.58            0.15   \n",
       "...                    ...        ...             ...             ...   \n",
       "15029                96.73       0.52            0.82            0.30   \n",
       "15030                96.73       0.62            1.03            0.37   \n",
       "15031                96.84       0.40            0.64            0.07   \n",
       "15032                96.94       0.28            0.45            0.05   \n",
       "15033                96.94       0.46            0.77            0.27   \n",
       "\n",
       "       Precipitation  \n",
       "0               2.32  \n",
       "1               0.73  \n",
       "2               1.02  \n",
       "3               3.88  \n",
       "4               1.53  \n",
       "...              ...  \n",
       "15029           2.31  \n",
       "15030           0.97  \n",
       "15031           1.61  \n",
       "15032           5.44  \n",
       "15033           2.21  \n",
       "\n",
       "[12791 rows x 13 columns]"
      ]
     },
     "execution_count": 75,
     "metadata": {},
     "output_type": "execute_result"
    }
   ],
   "source": [
    "data.drop(outlier_indices, axis = 0, inplace= True)\n",
    "data"
   ]
  },
  {
   "cell_type": "code",
   "execution_count": 76,
   "id": "8e62cb1d",
   "metadata": {},
   "outputs": [
    {
     "data": {
      "text/plain": [
       "<AxesSubplot:>"
      ]
     },
     "execution_count": 76,
     "metadata": {},
     "output_type": "execute_result"
    },
    {
     "data": {
      "image/png": "[encoded data removed]",
      "text/plain": [
       "<Figure size 432x288 with 1 Axes>"
      ]
     },
     "metadata": {
      "needs_background": "light"
     },
     "output_type": "display_data"
    }
   ],
   "source": [
    "data['WindSpeed'].plot(kind = 'box')"
   ]
  },
  {
   "cell_type": "code",
   "execution_count": 77,
   "id": "d722424b",
   "metadata": {},
   "outputs": [
    {
     "data": {
      "text/plain": [
       "<AxesSubplot:>"
      ]
     },
     "execution_count": 77,
     "metadata": {},
     "output_type": "execute_result"
    },
    {
     "data": {
      "image/png": "[encoded data removed]",
      "text/plain": [
       "<Figure size 432x288 with 1 Axes>"
      ]
     },
     "metadata": {
      "needs_background": "light"
     },
     "output_type": "display_data"
    }
   ],
   "source": [
    "data['Max_Wind_Speed'].plot(kind = 'box')"
   ]
  },
  {
   "cell_type": "code",
   "execution_count": 78,
   "id": "58d9ebf3",
   "metadata": {},
   "outputs": [
    {
     "data": {
      "text/plain": [
       "(0.65, 0.94, 0.2899999999999999, 0.21500000000000014, 1.3749999999999998)"
      ]
     },
     "execution_count": 78,
     "metadata": {},
     "output_type": "execute_result"
    }
   ],
   "source": [
    "q1 = data['Max_Wind_Speed'].quantile(0.25)\n",
    "q3 = data['Max_Wind_Speed'].quantile(0.75)\n",
    "iqr = q3 - q1\n",
    "lower_whisker = q1 - 1.5 * iqr\n",
    "upper_whisker = q3 + 1.5 * iqr\n",
    "q1, q3, iqr, lower_whisker, upper_whisker"
   ]
  },
  {
   "cell_type": "code",
   "execution_count": 79,
   "id": "337550ed",
   "metadata": {},
   "outputs": [
    {
     "data": {
      "text/plain": [
       "0        False\n",
       "1        False\n",
       "2        False\n",
       "3        False\n",
       "4        False\n",
       "         ...  \n",
       "15029    False\n",
       "15030    False\n",
       "15031    False\n",
       "15032    False\n",
       "15033    False\n",
       "Name: Max_Wind_Speed, Length: 12791, dtype: bool"
      ]
     },
     "execution_count": 79,
     "metadata": {},
     "output_type": "execute_result"
    }
   ],
   "source": [
    "lower_filt = data['Max_Wind_Speed'] < lower_whisker\n",
    "upper_filt = data['Max_Wind_Speed'] > upper_whisker\n",
    "filt = lower_filt | upper_filt\n",
    "filt"
   ]
  },
  {
   "cell_type": "code",
   "execution_count": 80,
   "id": "708c2a8f",
   "metadata": {},
   "outputs": [
    {
     "data": {
      "text/plain": [
       "Int64Index([  273,   585,   605,   669,   773,   784,   796,   824,   844,\n",
       "              999,\n",
       "            ...\n",
       "            14622, 14680, 14681, 14709, 14710, 14763, 14818, 14827, 14836,\n",
       "            15026],\n",
       "           dtype='int64', length=112)"
      ]
     },
     "execution_count": 80,
     "metadata": {},
     "output_type": "execute_result"
    }
   ],
   "source": [
    "outlier_indices = filt[filt].index\n",
    "outlier_indices"
   ]
  },
  {
   "cell_type": "code",
   "execution_count": 81,
   "id": "89b98845",
   "metadata": {},
   "outputs": [
    {
     "data": {
      "text/html": [
       "<div>\n",
       "<style scoped>\n",
       "    .dataframe tbody tr th:only-of-type {\n",
       "        vertical-align: middle;\n",
       "    }\n",
       "\n",
       "    .dataframe tbody tr th {\n",
       "        vertical-align: top;\n",
       "    }\n",
       "\n",
       "    .dataframe thead th {\n",
       "        text-align: right;\n",
       "    }\n",
       "</style>\n",
       "<table border=\"1\" class=\"dataframe\">\n",
       "  <thead>\n",
       "    <tr style=\"text-align: right;\">\n",
       "      <th></th>\n",
       "      <th>YEAR</th>\n",
       "      <th>TopOfAtmosphereIrradiance</th>\n",
       "      <th>Sky-Surface-PAR</th>\n",
       "      <th>MeanTemperature_c</th>\n",
       "      <th>DewFrostPoint_C</th>\n",
       "      <th>MinTemperature_C</th>\n",
       "      <th>MaxTemperature_C</th>\n",
       "      <th>RH_%</th>\n",
       "      <th>SurfacePressure_kPa</th>\n",
       "      <th>WindSpeed</th>\n",
       "      <th>Max_Wind_Speed</th>\n",
       "      <th>Min-Wind-Speed</th>\n",
       "      <th>Precipitation</th>\n",
       "    </tr>\n",
       "  </thead>\n",
       "  <tbody>\n",
       "    <tr>\n",
       "      <th>0</th>\n",
       "      <td>1982</td>\n",
       "      <td>36.19</td>\n",
       "      <td>99.4</td>\n",
       "      <td>24.55</td>\n",
       "      <td>21.76</td>\n",
       "      <td>21.04</td>\n",
       "      <td>28.43</td>\n",
       "      <td>85.31</td>\n",
       "      <td>96.73</td>\n",
       "      <td>0.45</td>\n",
       "      <td>0.68</td>\n",
       "      <td>0.11</td>\n",
       "      <td>2.32</td>\n",
       "    </tr>\n",
       "    <tr>\n",
       "      <th>1</th>\n",
       "      <td>1982</td>\n",
       "      <td>36.19</td>\n",
       "      <td>99.4</td>\n",
       "      <td>25.44</td>\n",
       "      <td>21.68</td>\n",
       "      <td>21.39</td>\n",
       "      <td>29.51</td>\n",
       "      <td>80.50</td>\n",
       "      <td>96.60</td>\n",
       "      <td>0.30</td>\n",
       "      <td>0.60</td>\n",
       "      <td>0.02</td>\n",
       "      <td>0.73</td>\n",
       "    </tr>\n",
       "    <tr>\n",
       "      <th>2</th>\n",
       "      <td>1982</td>\n",
       "      <td>36.19</td>\n",
       "      <td>99.4</td>\n",
       "      <td>24.90</td>\n",
       "      <td>22.59</td>\n",
       "      <td>22.26</td>\n",
       "      <td>28.30</td>\n",
       "      <td>87.44</td>\n",
       "      <td>96.61</td>\n",
       "      <td>0.43</td>\n",
       "      <td>0.62</td>\n",
       "      <td>0.30</td>\n",
       "      <td>1.02</td>\n",
       "    </tr>\n",
       "    <tr>\n",
       "      <th>3</th>\n",
       "      <td>1982</td>\n",
       "      <td>36.19</td>\n",
       "      <td>99.4</td>\n",
       "      <td>24.40</td>\n",
       "      <td>22.35</td>\n",
       "      <td>21.76</td>\n",
       "      <td>27.78</td>\n",
       "      <td>88.94</td>\n",
       "      <td>96.70</td>\n",
       "      <td>0.47</td>\n",
       "      <td>0.59</td>\n",
       "      <td>0.21</td>\n",
       "      <td>3.88</td>\n",
       "    </tr>\n",
       "    <tr>\n",
       "      <th>4</th>\n",
       "      <td>1982</td>\n",
       "      <td>36.19</td>\n",
       "      <td>99.4</td>\n",
       "      <td>23.95</td>\n",
       "      <td>21.35</td>\n",
       "      <td>21.73</td>\n",
       "      <td>26.94</td>\n",
       "      <td>86.19</td>\n",
       "      <td>96.79</td>\n",
       "      <td>0.41</td>\n",
       "      <td>0.58</td>\n",
       "      <td>0.15</td>\n",
       "      <td>1.53</td>\n",
       "    </tr>\n",
       "    <tr>\n",
       "      <th>...</th>\n",
       "      <td>...</td>\n",
       "      <td>...</td>\n",
       "      <td>...</td>\n",
       "      <td>...</td>\n",
       "      <td>...</td>\n",
       "      <td>...</td>\n",
       "      <td>...</td>\n",
       "      <td>...</td>\n",
       "      <td>...</td>\n",
       "      <td>...</td>\n",
       "      <td>...</td>\n",
       "      <td>...</td>\n",
       "      <td>...</td>\n",
       "    </tr>\n",
       "    <tr>\n",
       "      <th>15029</th>\n",
       "      <td>2023</td>\n",
       "      <td>37.89</td>\n",
       "      <td>99.4</td>\n",
       "      <td>25.03</td>\n",
       "      <td>23.18</td>\n",
       "      <td>22.23</td>\n",
       "      <td>28.48</td>\n",
       "      <td>89.94</td>\n",
       "      <td>96.73</td>\n",
       "      <td>0.52</td>\n",
       "      <td>0.82</td>\n",
       "      <td>0.30</td>\n",
       "      <td>2.31</td>\n",
       "    </tr>\n",
       "    <tr>\n",
       "      <th>15030</th>\n",
       "      <td>2023</td>\n",
       "      <td>37.91</td>\n",
       "      <td>99.4</td>\n",
       "      <td>25.92</td>\n",
       "      <td>23.23</td>\n",
       "      <td>22.14</td>\n",
       "      <td>30.16</td>\n",
       "      <td>85.94</td>\n",
       "      <td>96.73</td>\n",
       "      <td>0.62</td>\n",
       "      <td>1.03</td>\n",
       "      <td>0.37</td>\n",
       "      <td>0.97</td>\n",
       "    </tr>\n",
       "    <tr>\n",
       "      <th>15031</th>\n",
       "      <td>2023</td>\n",
       "      <td>37.93</td>\n",
       "      <td>99.4</td>\n",
       "      <td>25.80</td>\n",
       "      <td>23.10</td>\n",
       "      <td>22.72</td>\n",
       "      <td>28.90</td>\n",
       "      <td>85.62</td>\n",
       "      <td>96.84</td>\n",
       "      <td>0.40</td>\n",
       "      <td>0.64</td>\n",
       "      <td>0.07</td>\n",
       "      <td>1.61</td>\n",
       "    </tr>\n",
       "    <tr>\n",
       "      <th>15032</th>\n",
       "      <td>2023</td>\n",
       "      <td>37.95</td>\n",
       "      <td>99.4</td>\n",
       "      <td>25.46</td>\n",
       "      <td>23.19</td>\n",
       "      <td>22.62</td>\n",
       "      <td>29.22</td>\n",
       "      <td>87.81</td>\n",
       "      <td>96.94</td>\n",
       "      <td>0.28</td>\n",
       "      <td>0.45</td>\n",
       "      <td>0.05</td>\n",
       "      <td>5.44</td>\n",
       "    </tr>\n",
       "    <tr>\n",
       "      <th>15033</th>\n",
       "      <td>2023</td>\n",
       "      <td>36.19</td>\n",
       "      <td>99.4</td>\n",
       "      <td>25.54</td>\n",
       "      <td>23.01</td>\n",
       "      <td>22.20</td>\n",
       "      <td>29.15</td>\n",
       "      <td>86.50</td>\n",
       "      <td>96.94</td>\n",
       "      <td>0.46</td>\n",
       "      <td>0.77</td>\n",
       "      <td>0.27</td>\n",
       "      <td>2.21</td>\n",
       "    </tr>\n",
       "  </tbody>\n",
       "</table>\n",
       "<p>12679 rows × 13 columns</p>\n",
       "</div>"
      ],
      "text/plain": [
       "       YEAR  TopOfAtmosphereIrradiance  Sky-Surface-PAR  MeanTemperature_c  \\\n",
       "0      1982                      36.19             99.4              24.55   \n",
       "1      1982                      36.19             99.4              25.44   \n",
       "2      1982                      36.19             99.4              24.90   \n",
       "3      1982                      36.19             99.4              24.40   \n",
       "4      1982                      36.19             99.4              23.95   \n",
       "...     ...                        ...              ...                ...   \n",
       "15029  2023                      37.89             99.4              25.03   \n",
       "15030  2023                      37.91             99.4              25.92   \n",
       "15031  2023                      37.93             99.4              25.80   \n",
       "15032  2023                      37.95             99.4              25.46   \n",
       "15033  2023                      36.19             99.4              25.54   \n",
       "\n",
       "       DewFrostPoint_C  MinTemperature_C  MaxTemperature_C   RH_%  \\\n",
       "0                21.76             21.04             28.43  85.31   \n",
       "1                21.68             21.39             29.51  80.50   \n",
       "2                22.59             22.26             28.30  87.44   \n",
       "3                22.35             21.76             27.78  88.94   \n",
       "4                21.35             21.73             26.94  86.19   \n",
       "...                ...               ...               ...    ...   \n",
       "15029            23.18             22.23             28.48  89.94   \n",
       "15030            23.23             22.14             30.16  85.94   \n",
       "15031            23.10             22.72             28.90  85.62   \n",
       "15032            23.19             22.62             29.22  87.81   \n",
       "15033            23.01             22.20             29.15  86.50   \n",
       "\n",
       "       SurfacePressure_kPa  WindSpeed  Max_Wind_Speed  Min-Wind-Speed  \\\n",
       "0                    96.73       0.45            0.68            0.11   \n",
       "1                    96.60       0.30            0.60            0.02   \n",
       "2                    96.61       0.43            0.62            0.30   \n",
       "3                    96.70       0.47            0.59            0.21   \n",
       "4                    96.79       0.41            0.58            0.15   \n",
       "...                    ...        ...             ...             ...   \n",
       "15029                96.73       0.52            0.82            0.30   \n",
       "15030                96.73       0.62            1.03            0.37   \n",
       "15031                96.84       0.40            0.64            0.07   \n",
       "15032                96.94       0.28            0.45            0.05   \n",
       "15033                96.94       0.46            0.77            0.27   \n",
       "\n",
       "       Precipitation  \n",
       "0               2.32  \n",
       "1               0.73  \n",
       "2               1.02  \n",
       "3               3.88  \n",
       "4               1.53  \n",
       "...              ...  \n",
       "15029           2.31  \n",
       "15030           0.97  \n",
       "15031           1.61  \n",
       "15032           5.44  \n",
       "15033           2.21  \n",
       "\n",
       "[12679 rows x 13 columns]"
      ]
     },
     "execution_count": 81,
     "metadata": {},
     "output_type": "execute_result"
    }
   ],
   "source": [
    "data.drop(outlier_indices, axis = 0, inplace= True)\n",
    "data"
   ]
  },
  {
   "cell_type": "code",
   "execution_count": 82,
   "id": "7b2f42b1",
   "metadata": {},
   "outputs": [
    {
     "data": {
      "text/plain": [
       "<AxesSubplot:>"
      ]
     },
     "execution_count": 82,
     "metadata": {},
     "output_type": "execute_result"
    },
    {
     "data": {
      "image/png": "[encoded data removed]",
      "text/plain": [
       "<Figure size 432x288 with 1 Axes>"
      ]
     },
     "metadata": {
      "needs_background": "light"
     },
     "output_type": "display_data"
    }
   ],
   "source": [
    "data['Max_Wind_Speed'].plot(kind = 'box')"
   ]
  },
  {
   "cell_type": "code",
   "execution_count": 83,
   "id": "f23cdfa1",
   "metadata": {},
   "outputs": [
    {
     "data": {
      "text/plain": [
       "<AxesSubplot:>"
      ]
     },
     "execution_count": 83,
     "metadata": {},
     "output_type": "execute_result"
    },
    {
     "data": {
      "image/png": "[encoded data removed]",
      "text/plain": [
       "<Figure size 432x288 with 1 Axes>"
      ]
     },
     "metadata": {
      "needs_background": "light"
     },
     "output_type": "display_data"
    }
   ],
   "source": [
    "data['Min-Wind-Speed'].plot(kind = 'box')"
   ]
  },
  {
   "cell_type": "code",
   "execution_count": 84,
   "id": "5520634d",
   "metadata": {},
   "outputs": [
    {
     "data": {
      "text/plain": [
       "<AxesSubplot:>"
      ]
     },
     "execution_count": 84,
     "metadata": {},
     "output_type": "execute_result"
    },
    {
     "data": {
      "image/png": "[encoded data removed]",
      "text/plain": [
       "<Figure size 432x288 with 1 Axes>"
      ]
     },
     "metadata": {
      "needs_background": "light"
     },
     "output_type": "display_data"
    }
   ],
   "source": [
    "data['Precipitation'].plot(kind = 'box')"
   ]
  },
  {
   "cell_type": "code",
   "execution_count": 85,
   "id": "484cc38f",
   "metadata": {},
   "outputs": [
    {
     "data": {
      "text/plain": [
       "(1.62, 7.52, 5.8999999999999995, -7.2299999999999995, 16.369999999999997)"
      ]
     },
     "execution_count": 85,
     "metadata": {},
     "output_type": "execute_result"
    }
   ],
   "source": [
    "q1 = data['Precipitation'].quantile(0.25)\n",
    "q3 = data['Precipitation'].quantile(0.75)\n",
    "iqr = q3 - q1\n",
    "lower_whisker = q1 - 1.5 * iqr\n",
    "upper_whisker = q3 + 1.5 * iqr\n",
    "q1, q3, iqr, lower_whisker, upper_whisker"
   ]
  },
  {
   "cell_type": "code",
   "execution_count": 86,
   "id": "de92e7fe",
   "metadata": {},
   "outputs": [
    {
     "data": {
      "text/plain": [
       "0        False\n",
       "1        False\n",
       "2        False\n",
       "3        False\n",
       "4        False\n",
       "         ...  \n",
       "15029    False\n",
       "15030    False\n",
       "15031    False\n",
       "15032    False\n",
       "15033    False\n",
       "Name: Precipitation, Length: 12679, dtype: bool"
      ]
     },
     "execution_count": 86,
     "metadata": {},
     "output_type": "execute_result"
    }
   ],
   "source": [
    "lower_filt = data['Precipitation'] < lower_whisker\n",
    "upper_filt = data['Precipitation'] > upper_whisker\n",
    "filt = lower_filt | upper_filt\n",
    "filt"
   ]
  },
  {
   "cell_type": "code",
   "execution_count": 87,
   "id": "3638d670",
   "metadata": {},
   "outputs": [
    {
     "data": {
      "text/plain": [
       "Int64Index([   11,    12,    13,    21,    22,    29,    61,    89,    99,\n",
       "              130,\n",
       "            ...\n",
       "            14850, 14854, 14897, 14917, 14918, 14930, 14935, 14938, 14977,\n",
       "            14990],\n",
       "           dtype='int64', length=671)"
      ]
     },
     "execution_count": 87,
     "metadata": {},
     "output_type": "execute_result"
    }
   ],
   "source": [
    "outlier_indices = filt[filt].index\n",
    "outlier_indices"
   ]
  },
  {
   "cell_type": "code",
   "execution_count": 88,
   "id": "43f4f548",
   "metadata": {},
   "outputs": [
    {
     "data": {
      "text/html": [
       "<div>\n",
       "<style scoped>\n",
       "    .dataframe tbody tr th:only-of-type {\n",
       "        vertical-align: middle;\n",
       "    }\n",
       "\n",
       "    .dataframe tbody tr th {\n",
       "        vertical-align: top;\n",
       "    }\n",
       "\n",
       "    .dataframe thead th {\n",
       "        text-align: right;\n",
       "    }\n",
       "</style>\n",
       "<table border=\"1\" class=\"dataframe\">\n",
       "  <thead>\n",
       "    <tr style=\"text-align: right;\">\n",
       "      <th></th>\n",
       "      <th>YEAR</th>\n",
       "      <th>TopOfAtmosphereIrradiance</th>\n",
       "      <th>Sky-Surface-PAR</th>\n",
       "      <th>MeanTemperature_c</th>\n",
       "      <th>DewFrostPoint_C</th>\n",
       "      <th>MinTemperature_C</th>\n",
       "      <th>MaxTemperature_C</th>\n",
       "      <th>RH_%</th>\n",
       "      <th>SurfacePressure_kPa</th>\n",
       "      <th>WindSpeed</th>\n",
       "      <th>Max_Wind_Speed</th>\n",
       "      <th>Min-Wind-Speed</th>\n",
       "      <th>Precipitation</th>\n",
       "    </tr>\n",
       "  </thead>\n",
       "  <tbody>\n",
       "    <tr>\n",
       "      <th>0</th>\n",
       "      <td>1982</td>\n",
       "      <td>36.19</td>\n",
       "      <td>99.4</td>\n",
       "      <td>24.55</td>\n",
       "      <td>21.76</td>\n",
       "      <td>21.04</td>\n",
       "      <td>28.43</td>\n",
       "      <td>85.31</td>\n",
       "      <td>96.73</td>\n",
       "      <td>0.45</td>\n",
       "      <td>0.68</td>\n",
       "      <td>0.11</td>\n",
       "      <td>2.32</td>\n",
       "    </tr>\n",
       "    <tr>\n",
       "      <th>1</th>\n",
       "      <td>1982</td>\n",
       "      <td>36.19</td>\n",
       "      <td>99.4</td>\n",
       "      <td>25.44</td>\n",
       "      <td>21.68</td>\n",
       "      <td>21.39</td>\n",
       "      <td>29.51</td>\n",
       "      <td>80.50</td>\n",
       "      <td>96.60</td>\n",
       "      <td>0.30</td>\n",
       "      <td>0.60</td>\n",
       "      <td>0.02</td>\n",
       "      <td>0.73</td>\n",
       "    </tr>\n",
       "    <tr>\n",
       "      <th>2</th>\n",
       "      <td>1982</td>\n",
       "      <td>36.19</td>\n",
       "      <td>99.4</td>\n",
       "      <td>24.90</td>\n",
       "      <td>22.59</td>\n",
       "      <td>22.26</td>\n",
       "      <td>28.30</td>\n",
       "      <td>87.44</td>\n",
       "      <td>96.61</td>\n",
       "      <td>0.43</td>\n",
       "      <td>0.62</td>\n",
       "      <td>0.30</td>\n",
       "      <td>1.02</td>\n",
       "    </tr>\n",
       "    <tr>\n",
       "      <th>3</th>\n",
       "      <td>1982</td>\n",
       "      <td>36.19</td>\n",
       "      <td>99.4</td>\n",
       "      <td>24.40</td>\n",
       "      <td>22.35</td>\n",
       "      <td>21.76</td>\n",
       "      <td>27.78</td>\n",
       "      <td>88.94</td>\n",
       "      <td>96.70</td>\n",
       "      <td>0.47</td>\n",
       "      <td>0.59</td>\n",
       "      <td>0.21</td>\n",
       "      <td>3.88</td>\n",
       "    </tr>\n",
       "    <tr>\n",
       "      <th>4</th>\n",
       "      <td>1982</td>\n",
       "      <td>36.19</td>\n",
       "      <td>99.4</td>\n",
       "      <td>23.95</td>\n",
       "      <td>21.35</td>\n",
       "      <td>21.73</td>\n",
       "      <td>26.94</td>\n",
       "      <td>86.19</td>\n",
       "      <td>96.79</td>\n",
       "      <td>0.41</td>\n",
       "      <td>0.58</td>\n",
       "      <td>0.15</td>\n",
       "      <td>1.53</td>\n",
       "    </tr>\n",
       "    <tr>\n",
       "      <th>...</th>\n",
       "      <td>...</td>\n",
       "      <td>...</td>\n",
       "      <td>...</td>\n",
       "      <td>...</td>\n",
       "      <td>...</td>\n",
       "      <td>...</td>\n",
       "      <td>...</td>\n",
       "      <td>...</td>\n",
       "      <td>...</td>\n",
       "      <td>...</td>\n",
       "      <td>...</td>\n",
       "      <td>...</td>\n",
       "      <td>...</td>\n",
       "    </tr>\n",
       "    <tr>\n",
       "      <th>15029</th>\n",
       "      <td>2023</td>\n",
       "      <td>37.89</td>\n",
       "      <td>99.4</td>\n",
       "      <td>25.03</td>\n",
       "      <td>23.18</td>\n",
       "      <td>22.23</td>\n",
       "      <td>28.48</td>\n",
       "      <td>89.94</td>\n",
       "      <td>96.73</td>\n",
       "      <td>0.52</td>\n",
       "      <td>0.82</td>\n",
       "      <td>0.30</td>\n",
       "      <td>2.31</td>\n",
       "    </tr>\n",
       "    <tr>\n",
       "      <th>15030</th>\n",
       "      <td>2023</td>\n",
       "      <td>37.91</td>\n",
       "      <td>99.4</td>\n",
       "      <td>25.92</td>\n",
       "      <td>23.23</td>\n",
       "      <td>22.14</td>\n",
       "      <td>30.16</td>\n",
       "      <td>85.94</td>\n",
       "      <td>96.73</td>\n",
       "      <td>0.62</td>\n",
       "      <td>1.03</td>\n",
       "      <td>0.37</td>\n",
       "      <td>0.97</td>\n",
       "    </tr>\n",
       "    <tr>\n",
       "      <th>15031</th>\n",
       "      <td>2023</td>\n",
       "      <td>37.93</td>\n",
       "      <td>99.4</td>\n",
       "      <td>25.80</td>\n",
       "      <td>23.10</td>\n",
       "      <td>22.72</td>\n",
       "      <td>28.90</td>\n",
       "      <td>85.62</td>\n",
       "      <td>96.84</td>\n",
       "      <td>0.40</td>\n",
       "      <td>0.64</td>\n",
       "      <td>0.07</td>\n",
       "      <td>1.61</td>\n",
       "    </tr>\n",
       "    <tr>\n",
       "      <th>15032</th>\n",
       "      <td>2023</td>\n",
       "      <td>37.95</td>\n",
       "      <td>99.4</td>\n",
       "      <td>25.46</td>\n",
       "      <td>23.19</td>\n",
       "      <td>22.62</td>\n",
       "      <td>29.22</td>\n",
       "      <td>87.81</td>\n",
       "      <td>96.94</td>\n",
       "      <td>0.28</td>\n",
       "      <td>0.45</td>\n",
       "      <td>0.05</td>\n",
       "      <td>5.44</td>\n",
       "    </tr>\n",
       "    <tr>\n",
       "      <th>15033</th>\n",
       "      <td>2023</td>\n",
       "      <td>36.19</td>\n",
       "      <td>99.4</td>\n",
       "      <td>25.54</td>\n",
       "      <td>23.01</td>\n",
       "      <td>22.20</td>\n",
       "      <td>29.15</td>\n",
       "      <td>86.50</td>\n",
       "      <td>96.94</td>\n",
       "      <td>0.46</td>\n",
       "      <td>0.77</td>\n",
       "      <td>0.27</td>\n",
       "      <td>2.21</td>\n",
       "    </tr>\n",
       "  </tbody>\n",
       "</table>\n",
       "<p>12008 rows × 13 columns</p>\n",
       "</div>"
      ],
      "text/plain": [
       "       YEAR  TopOfAtmosphereIrradiance  Sky-Surface-PAR  MeanTemperature_c  \\\n",
       "0      1982                      36.19             99.4              24.55   \n",
       "1      1982                      36.19             99.4              25.44   \n",
       "2      1982                      36.19             99.4              24.90   \n",
       "3      1982                      36.19             99.4              24.40   \n",
       "4      1982                      36.19             99.4              23.95   \n",
       "...     ...                        ...              ...                ...   \n",
       "15029  2023                      37.89             99.4              25.03   \n",
       "15030  2023                      37.91             99.4              25.92   \n",
       "15031  2023                      37.93             99.4              25.80   \n",
       "15032  2023                      37.95             99.4              25.46   \n",
       "15033  2023                      36.19             99.4              25.54   \n",
       "\n",
       "       DewFrostPoint_C  MinTemperature_C  MaxTemperature_C   RH_%  \\\n",
       "0                21.76             21.04             28.43  85.31   \n",
       "1                21.68             21.39             29.51  80.50   \n",
       "2                22.59             22.26             28.30  87.44   \n",
       "3                22.35             21.76             27.78  88.94   \n",
       "4                21.35             21.73             26.94  86.19   \n",
       "...                ...               ...               ...    ...   \n",
       "15029            23.18             22.23             28.48  89.94   \n",
       "15030            23.23             22.14             30.16  85.94   \n",
       "15031            23.10             22.72             28.90  85.62   \n",
       "15032            23.19             22.62             29.22  87.81   \n",
       "15033            23.01             22.20             29.15  86.50   \n",
       "\n",
       "       SurfacePressure_kPa  WindSpeed  Max_Wind_Speed  Min-Wind-Speed  \\\n",
       "0                    96.73       0.45            0.68            0.11   \n",
       "1                    96.60       0.30            0.60            0.02   \n",
       "2                    96.61       0.43            0.62            0.30   \n",
       "3                    96.70       0.47            0.59            0.21   \n",
       "4                    96.79       0.41            0.58            0.15   \n",
       "...                    ...        ...             ...             ...   \n",
       "15029                96.73       0.52            0.82            0.30   \n",
       "15030                96.73       0.62            1.03            0.37   \n",
       "15031                96.84       0.40            0.64            0.07   \n",
       "15032                96.94       0.28            0.45            0.05   \n",
       "15033                96.94       0.46            0.77            0.27   \n",
       "\n",
       "       Precipitation  \n",
       "0               2.32  \n",
       "1               0.73  \n",
       "2               1.02  \n",
       "3               3.88  \n",
       "4               1.53  \n",
       "...              ...  \n",
       "15029           2.31  \n",
       "15030           0.97  \n",
       "15031           1.61  \n",
       "15032           5.44  \n",
       "15033           2.21  \n",
       "\n",
       "[12008 rows x 13 columns]"
      ]
     },
     "execution_count": 88,
     "metadata": {},
     "output_type": "execute_result"
    }
   ],
   "source": [
    "data.drop(outlier_indices, axis = 0, inplace= True)\n",
    "data"
   ]
  },
  {
   "cell_type": "code",
   "execution_count": 89,
   "id": "078b98ce",
   "metadata": {},
   "outputs": [
    {
     "data": {
      "text/plain": [
       "<AxesSubplot:>"
      ]
     },
     "execution_count": 89,
     "metadata": {},
     "output_type": "execute_result"
    },
    {
     "data": {
      "image/png": "[encoded data removed]",
      "text/plain": [
       "<Figure size 432x288 with 1 Axes>"
      ]
     },
     "metadata": {
      "needs_background": "light"
     },
     "output_type": "display_data"
    }
   ],
   "source": [
    "data['Precipitation'].plot(kind = 'box')"
   ]
  },
  {
   "cell_type": "code",
   "execution_count": 90,
   "id": "6c7e3248",
   "metadata": {},
   "outputs": [
    {
     "name": "stdout",
     "output_type": "stream",
     "text": [
      "<class 'pandas.core.frame.DataFrame'>\n",
      "Int64Index: 12008 entries, 0 to 15033\n",
      "Data columns (total 13 columns):\n",
      " #   Column                     Non-Null Count  Dtype  \n",
      "---  ------                     --------------  -----  \n",
      " 0   YEAR                       12008 non-null  int64  \n",
      " 1   TopOfAtmosphereIrradiance  12008 non-null  float64\n",
      " 2   Sky-Surface-PAR            12008 non-null  float64\n",
      " 3   MeanTemperature_c          12008 non-null  float64\n",
      " 4   DewFrostPoint_C            12008 non-null  float64\n",
      " 5   MinTemperature_C           12008 non-null  float64\n",
      " 6   MaxTemperature_C           12008 non-null  float64\n",
      " 7   RH_%                       12008 non-null  float64\n",
      " 8   SurfacePressure_kPa        12008 non-null  float64\n",
      " 9   WindSpeed                  12008 non-null  float64\n",
      " 10  Max_Wind_Speed             12008 non-null  float64\n",
      " 11  Min-Wind-Speed             12008 non-null  float64\n",
      " 12  Precipitation              12008 non-null  float64\n",
      "dtypes: float64(12), int64(1)\n",
      "memory usage: 1.3 MB\n"
     ]
    }
   ],
   "source": [
    "data.info()"
   ]
  },
  {
   "cell_type": "code",
   "execution_count": 91,
   "id": "4fb7e147",
   "metadata": {},
   "outputs": [
    {
     "data": {
      "text/html": [
       "<div>\n",
       "<style scoped>\n",
       "    .dataframe tbody tr th:only-of-type {\n",
       "        vertical-align: middle;\n",
       "    }\n",
       "\n",
       "    .dataframe tbody tr th {\n",
       "        vertical-align: top;\n",
       "    }\n",
       "\n",
       "    .dataframe thead th {\n",
       "        text-align: right;\n",
       "    }\n",
       "</style>\n",
       "<table border=\"1\" class=\"dataframe\">\n",
       "  <thead>\n",
       "    <tr style=\"text-align: right;\">\n",
       "      <th></th>\n",
       "      <th>YEAR</th>\n",
       "      <th>TopOfAtmosphereIrradiance</th>\n",
       "      <th>Sky-Surface-PAR</th>\n",
       "      <th>MeanTemperature_c</th>\n",
       "      <th>DewFrostPoint_C</th>\n",
       "      <th>MinTemperature_C</th>\n",
       "      <th>MaxTemperature_C</th>\n",
       "      <th>RH_%</th>\n",
       "      <th>SurfacePressure_kPa</th>\n",
       "      <th>WindSpeed</th>\n",
       "      <th>Max_Wind_Speed</th>\n",
       "      <th>Min-Wind-Speed</th>\n",
       "      <th>Precipitation</th>\n",
       "    </tr>\n",
       "  </thead>\n",
       "  <tbody>\n",
       "    <tr>\n",
       "      <th>YEAR</th>\n",
       "      <td>1.000000</td>\n",
       "      <td>-0.008143</td>\n",
       "      <td>-0.258662</td>\n",
       "      <td>0.305655</td>\n",
       "      <td>0.246408</td>\n",
       "      <td>0.252350</td>\n",
       "      <td>0.241575</td>\n",
       "      <td>-0.091403</td>\n",
       "      <td>0.051051</td>\n",
       "      <td>-0.004645</td>\n",
       "      <td>-0.010457</td>\n",
       "      <td>-0.005421</td>\n",
       "      <td>-0.109850</td>\n",
       "    </tr>\n",
       "    <tr>\n",
       "      <th>TopOfAtmosphereIrradiance</th>\n",
       "      <td>-0.008143</td>\n",
       "      <td>1.000000</td>\n",
       "      <td>0.217139</td>\n",
       "      <td>0.017077</td>\n",
       "      <td>0.262778</td>\n",
       "      <td>0.121129</td>\n",
       "      <td>-0.069323</td>\n",
       "      <td>0.198470</td>\n",
       "      <td>-0.433011</td>\n",
       "      <td>0.123181</td>\n",
       "      <td>0.113384</td>\n",
       "      <td>0.095634</td>\n",
       "      <td>0.051255</td>\n",
       "    </tr>\n",
       "    <tr>\n",
       "      <th>Sky-Surface-PAR</th>\n",
       "      <td>-0.258662</td>\n",
       "      <td>0.217139</td>\n",
       "      <td>1.000000</td>\n",
       "      <td>0.117362</td>\n",
       "      <td>0.026596</td>\n",
       "      <td>-0.058245</td>\n",
       "      <td>0.121198</td>\n",
       "      <td>-0.100706</td>\n",
       "      <td>-0.208998</td>\n",
       "      <td>-0.021032</td>\n",
       "      <td>-0.073450</td>\n",
       "      <td>-0.006473</td>\n",
       "      <td>-0.132592</td>\n",
       "    </tr>\n",
       "    <tr>\n",
       "      <th>MeanTemperature_c</th>\n",
       "      <td>0.305655</td>\n",
       "      <td>0.017077</td>\n",
       "      <td>0.117362</td>\n",
       "      <td>1.000000</td>\n",
       "      <td>0.397870</td>\n",
       "      <td>0.519158</td>\n",
       "      <td>0.888278</td>\n",
       "      <td>-0.651610</td>\n",
       "      <td>-0.313284</td>\n",
       "      <td>-0.192313</td>\n",
       "      <td>-0.178169</td>\n",
       "      <td>-0.156496</td>\n",
       "      <td>-0.260176</td>\n",
       "    </tr>\n",
       "    <tr>\n",
       "      <th>DewFrostPoint_C</th>\n",
       "      <td>0.246408</td>\n",
       "      <td>0.262778</td>\n",
       "      <td>0.026596</td>\n",
       "      <td>0.397870</td>\n",
       "      <td>1.000000</td>\n",
       "      <td>0.697753</td>\n",
       "      <td>0.088754</td>\n",
       "      <td>0.434045</td>\n",
       "      <td>-0.413332</td>\n",
       "      <td>0.063114</td>\n",
       "      <td>0.020718</td>\n",
       "      <td>0.122606</td>\n",
       "      <td>0.144480</td>\n",
       "    </tr>\n",
       "    <tr>\n",
       "      <th>MinTemperature_C</th>\n",
       "      <td>0.252350</td>\n",
       "      <td>0.121129</td>\n",
       "      <td>-0.058245</td>\n",
       "      <td>0.519158</td>\n",
       "      <td>0.697753</td>\n",
       "      <td>1.000000</td>\n",
       "      <td>0.171202</td>\n",
       "      <td>0.062838</td>\n",
       "      <td>-0.311110</td>\n",
       "      <td>-0.113781</td>\n",
       "      <td>-0.041809</td>\n",
       "      <td>-0.109069</td>\n",
       "      <td>0.054922</td>\n",
       "    </tr>\n",
       "    <tr>\n",
       "      <th>MaxTemperature_C</th>\n",
       "      <td>0.241575</td>\n",
       "      <td>-0.069323</td>\n",
       "      <td>0.121198</td>\n",
       "      <td>0.888278</td>\n",
       "      <td>0.088754</td>\n",
       "      <td>0.171202</td>\n",
       "      <td>1.000000</td>\n",
       "      <td>-0.784926</td>\n",
       "      <td>-0.169483</td>\n",
       "      <td>-0.117025</td>\n",
       "      <td>-0.120930</td>\n",
       "      <td>-0.079824</td>\n",
       "      <td>-0.314863</td>\n",
       "    </tr>\n",
       "    <tr>\n",
       "      <th>RH_%</th>\n",
       "      <td>-0.091403</td>\n",
       "      <td>0.198470</td>\n",
       "      <td>-0.100706</td>\n",
       "      <td>-0.651610</td>\n",
       "      <td>0.434045</td>\n",
       "      <td>0.062838</td>\n",
       "      <td>-0.784926</td>\n",
       "      <td>1.000000</td>\n",
       "      <td>-0.029565</td>\n",
       "      <td>0.253756</td>\n",
       "      <td>0.207466</td>\n",
       "      <td>0.270180</td>\n",
       "      <td>0.378730</td>\n",
       "    </tr>\n",
       "    <tr>\n",
       "      <th>SurfacePressure_kPa</th>\n",
       "      <td>0.051051</td>\n",
       "      <td>-0.433011</td>\n",
       "      <td>-0.208998</td>\n",
       "      <td>-0.313284</td>\n",
       "      <td>-0.413332</td>\n",
       "      <td>-0.311110</td>\n",
       "      <td>-0.169483</td>\n",
       "      <td>-0.029565</td>\n",
       "      <td>1.000000</td>\n",
       "      <td>0.034691</td>\n",
       "      <td>0.034333</td>\n",
       "      <td>0.025532</td>\n",
       "      <td>0.011742</td>\n",
       "    </tr>\n",
       "    <tr>\n",
       "      <th>WindSpeed</th>\n",
       "      <td>-0.004645</td>\n",
       "      <td>0.123181</td>\n",
       "      <td>-0.021032</td>\n",
       "      <td>-0.192313</td>\n",
       "      <td>0.063114</td>\n",
       "      <td>-0.113781</td>\n",
       "      <td>-0.117025</td>\n",
       "      <td>0.253756</td>\n",
       "      <td>0.034691</td>\n",
       "      <td>1.000000</td>\n",
       "      <td>0.821442</td>\n",
       "      <td>0.724566</td>\n",
       "      <td>0.041681</td>\n",
       "    </tr>\n",
       "    <tr>\n",
       "      <th>Max_Wind_Speed</th>\n",
       "      <td>-0.010457</td>\n",
       "      <td>0.113384</td>\n",
       "      <td>-0.073450</td>\n",
       "      <td>-0.178169</td>\n",
       "      <td>0.020718</td>\n",
       "      <td>-0.041809</td>\n",
       "      <td>-0.120930</td>\n",
       "      <td>0.207466</td>\n",
       "      <td>0.034333</td>\n",
       "      <td>0.821442</td>\n",
       "      <td>1.000000</td>\n",
       "      <td>0.439418</td>\n",
       "      <td>0.062768</td>\n",
       "    </tr>\n",
       "    <tr>\n",
       "      <th>Min-Wind-Speed</th>\n",
       "      <td>-0.005421</td>\n",
       "      <td>0.095634</td>\n",
       "      <td>-0.006473</td>\n",
       "      <td>-0.156496</td>\n",
       "      <td>0.122606</td>\n",
       "      <td>-0.109069</td>\n",
       "      <td>-0.079824</td>\n",
       "      <td>0.270180</td>\n",
       "      <td>0.025532</td>\n",
       "      <td>0.724566</td>\n",
       "      <td>0.439418</td>\n",
       "      <td>1.000000</td>\n",
       "      <td>0.029168</td>\n",
       "    </tr>\n",
       "    <tr>\n",
       "      <th>Precipitation</th>\n",
       "      <td>-0.109850</td>\n",
       "      <td>0.051255</td>\n",
       "      <td>-0.132592</td>\n",
       "      <td>-0.260176</td>\n",
       "      <td>0.144480</td>\n",
       "      <td>0.054922</td>\n",
       "      <td>-0.314863</td>\n",
       "      <td>0.378730</td>\n",
       "      <td>0.011742</td>\n",
       "      <td>0.041681</td>\n",
       "      <td>0.062768</td>\n",
       "      <td>0.029168</td>\n",
       "      <td>1.000000</td>\n",
       "    </tr>\n",
       "  </tbody>\n",
       "</table>\n",
       "</div>"
      ],
      "text/plain": [
       "                               YEAR  TopOfAtmosphereIrradiance  \\\n",
       "YEAR                       1.000000                  -0.008143   \n",
       "TopOfAtmosphereIrradiance -0.008143                   1.000000   \n",
       "Sky-Surface-PAR           -0.258662                   0.217139   \n",
       "MeanTemperature_c          0.305655                   0.017077   \n",
       "DewFrostPoint_C            0.246408                   0.262778   \n",
       "MinTemperature_C           0.252350                   0.121129   \n",
       "MaxTemperature_C           0.241575                  -0.069323   \n",
       "RH_%                      -0.091403                   0.198470   \n",
       "SurfacePressure_kPa        0.051051                  -0.433011   \n",
       "WindSpeed                 -0.004645                   0.123181   \n",
       "Max_Wind_Speed            -0.010457                   0.113384   \n",
       "Min-Wind-Speed            -0.005421                   0.095634   \n",
       "Precipitation             -0.109850                   0.051255   \n",
       "\n",
       "                           Sky-Surface-PAR  MeanTemperature_c  \\\n",
       "YEAR                             -0.258662           0.305655   \n",
       "TopOfAtmosphereIrradiance         0.217139           0.017077   \n",
       "Sky-Surface-PAR                   1.000000           0.117362   \n",
       "MeanTemperature_c                 0.117362           1.000000   \n",
       "DewFrostPoint_C                   0.026596           0.397870   \n",
       "MinTemperature_C                 -0.058245           0.519158   \n",
       "MaxTemperature_C                  0.121198           0.888278   \n",
       "RH_%                             -0.100706          -0.651610   \n",
       "SurfacePressure_kPa              -0.208998          -0.313284   \n",
       "WindSpeed                        -0.021032          -0.192313   \n",
       "Max_Wind_Speed                   -0.073450          -0.178169   \n",
       "Min-Wind-Speed                   -0.006473          -0.156496   \n",
       "Precipitation                    -0.132592          -0.260176   \n",
       "\n",
       "                           DewFrostPoint_C  MinTemperature_C  \\\n",
       "YEAR                              0.246408          0.252350   \n",
       "TopOfAtmosphereIrradiance         0.262778          0.121129   \n",
       "Sky-Surface-PAR                   0.026596         -0.058245   \n",
       "MeanTemperature_c                 0.397870          0.519158   \n",
       "DewFrostPoint_C                   1.000000          0.697753   \n",
       "MinTemperature_C                  0.697753          1.000000   \n",
       "MaxTemperature_C                  0.088754          0.171202   \n",
       "RH_%                              0.434045          0.062838   \n",
       "SurfacePressure_kPa              -0.413332         -0.311110   \n",
       "WindSpeed                         0.063114         -0.113781   \n",
       "Max_Wind_Speed                    0.020718         -0.041809   \n",
       "Min-Wind-Speed                    0.122606         -0.109069   \n",
       "Precipitation                     0.144480          0.054922   \n",
       "\n",
       "                           MaxTemperature_C      RH_%  SurfacePressure_kPa  \\\n",
       "YEAR                               0.241575 -0.091403             0.051051   \n",
       "TopOfAtmosphereIrradiance         -0.069323  0.198470            -0.433011   \n",
       "Sky-Surface-PAR                    0.121198 -0.100706            -0.208998   \n",
       "MeanTemperature_c                  0.888278 -0.651610            -0.313284   \n",
       "DewFrostPoint_C                    0.088754  0.434045            -0.413332   \n",
       "MinTemperature_C                   0.171202  0.062838            -0.311110   \n",
       "MaxTemperature_C                   1.000000 -0.784926            -0.169483   \n",
       "RH_%                              -0.784926  1.000000            -0.029565   \n",
       "SurfacePressure_kPa               -0.169483 -0.029565             1.000000   \n",
       "WindSpeed                         -0.117025  0.253756             0.034691   \n",
       "Max_Wind_Speed                    -0.120930  0.207466             0.034333   \n",
       "Min-Wind-Speed                    -0.079824  0.270180             0.025532   \n",
       "Precipitation                     -0.314863  0.378730             0.011742   \n",
       "\n",
       "                           WindSpeed  Max_Wind_Speed  Min-Wind-Speed  \\\n",
       "YEAR                       -0.004645       -0.010457       -0.005421   \n",
       "TopOfAtmosphereIrradiance   0.123181        0.113384        0.095634   \n",
       "Sky-Surface-PAR            -0.021032       -0.073450       -0.006473   \n",
       "MeanTemperature_c          -0.192313       -0.178169       -0.156496   \n",
       "DewFrostPoint_C             0.063114        0.020718        0.122606   \n",
       "MinTemperature_C           -0.113781       -0.041809       -0.109069   \n",
       "MaxTemperature_C           -0.117025       -0.120930       -0.079824   \n",
       "RH_%                        0.253756        0.207466        0.270180   \n",
       "SurfacePressure_kPa         0.034691        0.034333        0.025532   \n",
       "WindSpeed                   1.000000        0.821442        0.724566   \n",
       "Max_Wind_Speed              0.821442        1.000000        0.439418   \n",
       "Min-Wind-Speed              0.724566        0.439418        1.000000   \n",
       "Precipitation               0.041681        0.062768        0.029168   \n",
       "\n",
       "                           Precipitation  \n",
       "YEAR                           -0.109850  \n",
       "TopOfAtmosphereIrradiance       0.051255  \n",
       "Sky-Surface-PAR                -0.132592  \n",
       "MeanTemperature_c              -0.260176  \n",
       "DewFrostPoint_C                 0.144480  \n",
       "MinTemperature_C                0.054922  \n",
       "MaxTemperature_C               -0.314863  \n",
       "RH_%                            0.378730  \n",
       "SurfacePressure_kPa             0.011742  \n",
       "WindSpeed                       0.041681  \n",
       "Max_Wind_Speed                  0.062768  \n",
       "Min-Wind-Speed                  0.029168  \n",
       "Precipitation                   1.000000  "
      ]
     },
     "execution_count": 91,
     "metadata": {},
     "output_type": "execute_result"
    }
   ],
   "source": [
    "data.corr()"
   ]
  },
  {
   "cell_type": "code",
   "execution_count": 92,
   "id": "934d3d82",
   "metadata": {},
   "outputs": [],
   "source": [
    "# sns.pairplot(data,hue='Precipitation',palette='coolwarm')"
   ]
  },
  {
   "cell_type": "code",
   "execution_count": 93,
   "id": "262d78cb",
   "metadata": {},
   "outputs": [
    {
     "data": {
      "text/html": [
       "<div>\n",
       "<style scoped>\n",
       "    .dataframe tbody tr th:only-of-type {\n",
       "        vertical-align: middle;\n",
       "    }\n",
       "\n",
       "    .dataframe tbody tr th {\n",
       "        vertical-align: top;\n",
       "    }\n",
       "\n",
       "    .dataframe thead th {\n",
       "        text-align: right;\n",
       "    }\n",
       "</style>\n",
       "<table border=\"1\" class=\"dataframe\">\n",
       "  <thead>\n",
       "    <tr style=\"text-align: right;\">\n",
       "      <th></th>\n",
       "      <th>YEAR</th>\n",
       "      <th>TopOfAtmosphereIrradiance</th>\n",
       "      <th>Sky-Surface-PAR</th>\n",
       "      <th>MeanTemperature_c</th>\n",
       "      <th>DewFrostPoint_C</th>\n",
       "      <th>MinTemperature_C</th>\n",
       "      <th>MaxTemperature_C</th>\n",
       "      <th>RH_%</th>\n",
       "      <th>SurfacePressure_kPa</th>\n",
       "      <th>WindSpeed</th>\n",
       "      <th>Max_Wind_Speed</th>\n",
       "      <th>Min-Wind-Speed</th>\n",
       "      <th>Precipitation</th>\n",
       "    </tr>\n",
       "  </thead>\n",
       "  <tbody>\n",
       "    <tr>\n",
       "      <th>count</th>\n",
       "      <td>12008.000000</td>\n",
       "      <td>12008.000000</td>\n",
       "      <td>12008.000000</td>\n",
       "      <td>12008.000000</td>\n",
       "      <td>12008.000000</td>\n",
       "      <td>12008.000000</td>\n",
       "      <td>12008.000000</td>\n",
       "      <td>12008.000000</td>\n",
       "      <td>12008.000000</td>\n",
       "      <td>12008.000000</td>\n",
       "      <td>12008.000000</td>\n",
       "      <td>12008.000000</td>\n",
       "      <td>12008.000000</td>\n",
       "    </tr>\n",
       "    <tr>\n",
       "      <th>mean</th>\n",
       "      <td>2002.159560</td>\n",
       "      <td>35.952920</td>\n",
       "      <td>97.763129</td>\n",
       "      <td>24.864826</td>\n",
       "      <td>22.361000</td>\n",
       "      <td>21.733502</td>\n",
       "      <td>28.387004</td>\n",
       "      <td>86.749684</td>\n",
       "      <td>96.867595</td>\n",
       "      <td>0.508176</td>\n",
       "      <td>0.800240</td>\n",
       "      <td>0.263413</td>\n",
       "      <td>4.593095</td>\n",
       "    </tr>\n",
       "    <tr>\n",
       "      <th>std</th>\n",
       "      <td>12.279254</td>\n",
       "      <td>1.390193</td>\n",
       "      <td>22.433443</td>\n",
       "      <td>0.804760</td>\n",
       "      <td>0.670413</td>\n",
       "      <td>0.738893</td>\n",
       "      <td>1.297963</td>\n",
       "      <td>3.865943</td>\n",
       "      <td>0.131423</td>\n",
       "      <td>0.090237</td>\n",
       "      <td>0.193027</td>\n",
       "      <td>0.112080</td>\n",
       "      <td>3.827149</td>\n",
       "    </tr>\n",
       "    <tr>\n",
       "      <th>min</th>\n",
       "      <td>1982.000000</td>\n",
       "      <td>33.030000</td>\n",
       "      <td>35.000000</td>\n",
       "      <td>22.420000</td>\n",
       "      <td>20.340000</td>\n",
       "      <td>19.710000</td>\n",
       "      <td>24.790000</td>\n",
       "      <td>75.880000</td>\n",
       "      <td>96.520000</td>\n",
       "      <td>0.260000</td>\n",
       "      <td>0.390000</td>\n",
       "      <td>0.000000</td>\n",
       "      <td>0.000000</td>\n",
       "    </tr>\n",
       "    <tr>\n",
       "      <th>25%</th>\n",
       "      <td>1991.000000</td>\n",
       "      <td>35.230000</td>\n",
       "      <td>83.860000</td>\n",
       "      <td>24.330000</td>\n",
       "      <td>21.920000</td>\n",
       "      <td>21.230000</td>\n",
       "      <td>27.550000</td>\n",
       "      <td>84.250000</td>\n",
       "      <td>96.780000</td>\n",
       "      <td>0.450000</td>\n",
       "      <td>0.650000</td>\n",
       "      <td>0.170000</td>\n",
       "      <td>1.530000</td>\n",
       "    </tr>\n",
       "    <tr>\n",
       "      <th>50%</th>\n",
       "      <td>2002.000000</td>\n",
       "      <td>36.190000</td>\n",
       "      <td>99.400000</td>\n",
       "      <td>24.870000</td>\n",
       "      <td>22.390000</td>\n",
       "      <td>21.730000</td>\n",
       "      <td>28.410000</td>\n",
       "      <td>87.060000</td>\n",
       "      <td>96.870000</td>\n",
       "      <td>0.510000</td>\n",
       "      <td>0.770000</td>\n",
       "      <td>0.300000</td>\n",
       "      <td>3.610000</td>\n",
       "    </tr>\n",
       "    <tr>\n",
       "      <th>75%</th>\n",
       "      <td>2013.000000</td>\n",
       "      <td>37.090000</td>\n",
       "      <td>113.630000</td>\n",
       "      <td>25.400000</td>\n",
       "      <td>22.830000</td>\n",
       "      <td>22.230000</td>\n",
       "      <td>29.230000</td>\n",
       "      <td>89.560000</td>\n",
       "      <td>96.960000</td>\n",
       "      <td>0.570000</td>\n",
       "      <td>0.930000</td>\n",
       "      <td>0.350000</td>\n",
       "      <td>6.732500</td>\n",
       "    </tr>\n",
       "    <tr>\n",
       "      <th>max</th>\n",
       "      <td>2023.000000</td>\n",
       "      <td>37.950000</td>\n",
       "      <td>153.700000</td>\n",
       "      <td>27.470000</td>\n",
       "      <td>24.290000</td>\n",
       "      <td>23.780000</td>\n",
       "      <td>32.010000</td>\n",
       "      <td>96.560000</td>\n",
       "      <td>97.220000</td>\n",
       "      <td>0.770000</td>\n",
       "      <td>1.370000</td>\n",
       "      <td>0.530000</td>\n",
       "      <td>16.360000</td>\n",
       "    </tr>\n",
       "  </tbody>\n",
       "</table>\n",
       "</div>"
      ],
      "text/plain": [
       "               YEAR  TopOfAtmosphereIrradiance  Sky-Surface-PAR  \\\n",
       "count  12008.000000               12008.000000     12008.000000   \n",
       "mean    2002.159560                  35.952920        97.763129   \n",
       "std       12.279254                   1.390193        22.433443   \n",
       "min     1982.000000                  33.030000        35.000000   \n",
       "25%     1991.000000                  35.230000        83.860000   \n",
       "50%     2002.000000                  36.190000        99.400000   \n",
       "75%     2013.000000                  37.090000       113.630000   \n",
       "max     2023.000000                  37.950000       153.700000   \n",
       "\n",
       "       MeanTemperature_c  DewFrostPoint_C  MinTemperature_C  MaxTemperature_C  \\\n",
       "count       12008.000000     12008.000000      12008.000000      12008.000000   \n",
       "mean           24.864826        22.361000         21.733502         28.387004   \n",
       "std             0.804760         0.670413          0.738893          1.297963   \n",
       "min            22.420000        20.340000         19.710000         24.790000   \n",
       "25%            24.330000        21.920000         21.230000         27.550000   \n",
       "50%            24.870000        22.390000         21.730000         28.410000   \n",
       "75%            25.400000        22.830000         22.230000         29.230000   \n",
       "max            27.470000        24.290000         23.780000         32.010000   \n",
       "\n",
       "               RH_%  SurfacePressure_kPa     WindSpeed  Max_Wind_Speed  \\\n",
       "count  12008.000000         12008.000000  12008.000000    12008.000000   \n",
       "mean      86.749684            96.867595      0.508176        0.800240   \n",
       "std        3.865943             0.131423      0.090237        0.193027   \n",
       "min       75.880000            96.520000      0.260000        0.390000   \n",
       "25%       84.250000            96.780000      0.450000        0.650000   \n",
       "50%       87.060000            96.870000      0.510000        0.770000   \n",
       "75%       89.560000            96.960000      0.570000        0.930000   \n",
       "max       96.560000            97.220000      0.770000        1.370000   \n",
       "\n",
       "       Min-Wind-Speed  Precipitation  \n",
       "count    12008.000000   12008.000000  \n",
       "mean         0.263413       4.593095  \n",
       "std          0.112080       3.827149  \n",
       "min          0.000000       0.000000  \n",
       "25%          0.170000       1.530000  \n",
       "50%          0.300000       3.610000  \n",
       "75%          0.350000       6.732500  \n",
       "max          0.530000      16.360000  "
      ]
     },
     "execution_count": 93,
     "metadata": {},
     "output_type": "execute_result"
    }
   ],
   "source": [
    "data.describe()"
   ]
  },
  {
   "cell_type": "markdown",
   "id": "45f03a0a",
   "metadata": {},
   "source": [
    "### After removing the outliers noticed that:\n",
    "#### 1) find some outliers in the box plot\n",
    "#### 2) Approximately 20% of the data set was removed\n",
    "#### 3) The correlation doesn't increase"
   ]
  },
  {
   "cell_type": "code",
   "execution_count": null,
   "id": "9149623a",
   "metadata": {},
   "outputs": [],
   "source": []
  },
  {
   "cell_type": "markdown",
   "id": "2cb8b3a0",
   "metadata": {},
   "source": [
    "# Linear Regression model"
   ]
  },
  {
   "cell_type": "code",
   "execution_count": 94,
   "id": "fee76df9",
   "metadata": {},
   "outputs": [],
   "source": [
    "x = data.drop('Precipitation', axis=1).values\n",
    "y = data['Precipitation'].values"
   ]
  },
  {
   "cell_type": "code",
   "execution_count": 95,
   "id": "7397e9b0",
   "metadata": {},
   "outputs": [
    {
     "data": {
      "text/plain": [
       "(12008, 12)"
      ]
     },
     "execution_count": 95,
     "metadata": {},
     "output_type": "execute_result"
    }
   ],
   "source": [
    "x.shape"
   ]
  },
  {
   "cell_type": "code",
   "execution_count": 96,
   "id": "63e0bdeb",
   "metadata": {},
   "outputs": [
    {
     "data": {
      "text/plain": [
       "(12008,)"
      ]
     },
     "execution_count": 96,
     "metadata": {},
     "output_type": "execute_result"
    }
   ],
   "source": [
    "y.shape"
   ]
  },
  {
   "cell_type": "markdown",
   "id": "1ad58b0c",
   "metadata": {},
   "source": [
    "## train test split"
   ]
  },
  {
   "cell_type": "code",
   "execution_count": 97,
   "id": "69ef9584",
   "metadata": {},
   "outputs": [],
   "source": [
    "from sklearn.model_selection import train_test_split\n",
    "train_x, test_x, train_y, test_y = train_test_split(x,y, test_size= 0.2) # 80% train, 20% test"
   ]
  },
  {
   "cell_type": "code",
   "execution_count": 98,
   "id": "6bb7a588",
   "metadata": {},
   "outputs": [
    {
     "data": {
      "text/plain": [
       "LinearRegression()"
      ]
     },
     "execution_count": 98,
     "metadata": {},
     "output_type": "execute_result"
    }
   ],
   "source": [
    "# model \n",
    "from sklearn.linear_model import LinearRegression\n",
    "model = LinearRegression()\n",
    "model.fit(train_x, train_y)  # training"
   ]
  },
  {
   "cell_type": "code",
   "execution_count": 99,
   "id": "c7033670",
   "metadata": {},
   "outputs": [],
   "source": [
    "y_pred = model.predict(test_x)"
   ]
  },
  {
   "cell_type": "code",
   "execution_count": 100,
   "id": "b02eef0b",
   "metadata": {},
   "outputs": [
    {
     "data": {
      "text/plain": [
       "12.301875453662259"
      ]
     },
     "execution_count": 100,
     "metadata": {},
     "output_type": "execute_result"
    }
   ],
   "source": [
    "from sklearn.metrics import mean_squared_error\n",
    "mean_squared_error(y_pred, test_y)"
   ]
  },
  {
   "cell_type": "code",
   "execution_count": null,
   "id": "0574278e",
   "metadata": {},
   "outputs": [],
   "source": []
  },
  {
   "cell_type": "code",
   "execution_count": 101,
   "id": "5241ff41",
   "metadata": {},
   "outputs": [],
   "source": [
    "#plt.subplot(3,3,3)\n",
    "#plt.hist(data['Precipitation', 'MaxTemperature_C'], color = 'lightblue', edgecolor = 'black', alpha = 0.7)\n",
    "#plt.xlabel('Precipitation')"
   ]
  }
 ],
 "metadata": {
  "kernelspec": {
   "display_name": "Python 3 (ipykernel)",
   "language": "python",
   "name": "python3"
  },
  "language_info": {
   "codemirror_mode": {
    "name": "ipython",
    "version": 3
   },
   "file_extension": ".py",
   "mimetype": "text/x-python",
   "name": "python",
   "nbconvert_exporter": "python",
   "pygments_lexer": "ipython3",
   "version": "3.9.7"
  }
 },
 "nbformat": 4,
 "nbformat_minor": 5
}
